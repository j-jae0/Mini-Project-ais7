{
 "cells": [
  {
   "cell_type": "markdown",
   "id": "c29ea9a4",
   "metadata": {},
   "source": [
    "# Emotions in text\n",
    "- 데이터셋 출처 : https://www.kaggle.com/datasets/ishantjuyal/emotions-in-text\n",
    "- 문장의 감정분류 데이터셋"
   ]
  },
  {
   "cell_type": "markdown",
   "id": "b928447d",
   "metadata": {},
   "source": [
    "# GPU 사용 여부 확인"
   ]
  },
  {
   "cell_type": "code",
   "execution_count": 1,
   "id": "66a01bc5",
   "metadata": {},
   "outputs": [
    {
     "name": "stdout",
     "output_type": "stream",
     "text": [
      "Sun Dec 18 14:00:21 2022       \n",
      "+-----------------------------------------------------------------------------+\n",
      "| NVIDIA-SMI 510.47.03    Driver Version: 510.47.03    CUDA Version: 11.6     |\n",
      "|-------------------------------+----------------------+----------------------+\n",
      "| GPU  Name        Persistence-M| Bus-Id        Disp.A | Volatile Uncorr. ECC |\n",
      "| Fan  Temp  Perf  Pwr:Usage/Cap|         Memory-Usage | GPU-Util  Compute M. |\n",
      "|                               |                      |               MIG M. |\n",
      "|===============================+======================+======================|\n",
      "|   0  CUDA GPU            On   | 00000000:3F:00.0 Off |                  Off |\n",
      "| 53%   74C    P2   239W / 260W |     48MiB /  4050MiB |      0%      Default |\n",
      "|                               |                      |                  N/A |\n",
      "+-------------------------------+----------------------+----------------------+\n",
      "                                                                               \n",
      "+-----------------------------------------------------------------------------+\n",
      "| Processes:                                                                  |\n",
      "|  GPU   GI   CI        PID   Type   Process name                  GPU Memory |\n",
      "|        ID   ID                                                   Usage      |\n",
      "|=============================================================================|\n",
      "|    0   N/A  N/A     12523      C                                    7643MiB |\n",
      "|    0   N/A  N/A     17544      C                                    7343MiB |\n",
      "|    0   N/A  N/A     19497      C                                     839MiB |\n",
      "|    0   N/A  N/A     56306      C                                    7343MiB |\n",
      "|    0   N/A  N/A     68218      C                                    3593MiB |\n",
      "+-----------------------------------------------------------------------------+\n"
     ]
    }
   ],
   "source": [
    "gpu_info = !nvidia-smi\n",
    "gpu_info = '\\n'.join(gpu_info)\n",
    "if gpu_info.find('failed') >= 0:\n",
    "    print('Not connected to a GPU')\n",
    "else:\n",
    "    print(gpu_info)"
   ]
  },
  {
   "cell_type": "markdown",
   "id": "2e0c3d99",
   "metadata": {},
   "source": [
    "# 라이브러리 로드"
   ]
  },
  {
   "cell_type": "code",
   "execution_count": 2,
   "id": "6e83ab62",
   "metadata": {},
   "outputs": [],
   "source": [
    "import numpy as np\n",
    "import pandas as pd\n",
    "import matplotlib.pyplot as plt\n",
    "import seaborn as sns"
   ]
  },
  {
   "cell_type": "code",
   "execution_count": 3,
   "id": "2afaadd1",
   "metadata": {},
   "outputs": [],
   "source": [
    "# 버전 호환성 문제 (경고 메시지) 무시\n",
    "import warnings\n",
    "warnings.filterwarnings(\"ignore\")"
   ]
  },
  {
   "cell_type": "code",
   "execution_count": 34,
   "id": "ce09a99f",
   "metadata": {},
   "outputs": [],
   "source": [
    "import os\n",
    "os.environ['TF_CPP_MIN_LOG_LEVEL'] = '1'"
   ]
  },
  {
   "cell_type": "markdown",
   "id": "5f70ebbf",
   "metadata": {},
   "source": [
    "# 데이터 로드"
   ]
  },
  {
   "cell_type": "code",
   "execution_count": 4,
   "id": "ee5449fc",
   "metadata": {},
   "outputs": [],
   "source": [
    "# !unzip dataset.zip"
   ]
  },
  {
   "cell_type": "code",
   "execution_count": 5,
   "id": "04aa2665",
   "metadata": {},
   "outputs": [
    {
     "data": {
      "text/plain": [
       "'Emotion_final.csv'"
      ]
     },
     "execution_count": 5,
     "metadata": {},
     "output_type": "execute_result"
    }
   ],
   "source": [
    "file_name = 'Emotion_final.csv'\n",
    "file_name"
   ]
  },
  {
   "cell_type": "code",
   "execution_count": 6,
   "id": "7433f7ef",
   "metadata": {},
   "outputs": [
    {
     "name": "stdout",
     "output_type": "stream",
     "text": [
      "(21459, 2)\n"
     ]
    },
    {
     "data": {
      "text/html": [
       "<div>\n",
       "<style scoped>\n",
       "    .dataframe tbody tr th:only-of-type {\n",
       "        vertical-align: middle;\n",
       "    }\n",
       "\n",
       "    .dataframe tbody tr th {\n",
       "        vertical-align: top;\n",
       "    }\n",
       "\n",
       "    .dataframe thead th {\n",
       "        text-align: right;\n",
       "    }\n",
       "</style>\n",
       "<table border=\"1\" class=\"dataframe\">\n",
       "  <thead>\n",
       "    <tr style=\"text-align: right;\">\n",
       "      <th></th>\n",
       "      <th>Text</th>\n",
       "      <th>Emotion</th>\n",
       "    </tr>\n",
       "  </thead>\n",
       "  <tbody>\n",
       "    <tr>\n",
       "      <th>0</th>\n",
       "      <td>i didnt feel humiliated</td>\n",
       "      <td>sadness</td>\n",
       "    </tr>\n",
       "    <tr>\n",
       "      <th>1</th>\n",
       "      <td>i can go from feeling so hopeless to so damned...</td>\n",
       "      <td>sadness</td>\n",
       "    </tr>\n",
       "    <tr>\n",
       "      <th>2</th>\n",
       "      <td>im grabbing a minute to post i feel greedy wrong</td>\n",
       "      <td>anger</td>\n",
       "    </tr>\n",
       "    <tr>\n",
       "      <th>3</th>\n",
       "      <td>i am ever feeling nostalgic about the fireplac...</td>\n",
       "      <td>love</td>\n",
       "    </tr>\n",
       "    <tr>\n",
       "      <th>4</th>\n",
       "      <td>i am feeling grouchy</td>\n",
       "      <td>anger</td>\n",
       "    </tr>\n",
       "  </tbody>\n",
       "</table>\n",
       "</div>"
      ],
      "text/plain": [
       "                                                Text  Emotion\n",
       "0                            i didnt feel humiliated  sadness\n",
       "1  i can go from feeling so hopeless to so damned...  sadness\n",
       "2   im grabbing a minute to post i feel greedy wrong    anger\n",
       "3  i am ever feeling nostalgic about the fireplac...     love\n",
       "4                               i am feeling grouchy    anger"
      ]
     },
     "execution_count": 6,
     "metadata": {},
     "output_type": "execute_result"
    }
   ],
   "source": [
    "data = pd.read_csv(file_name)\n",
    "print(data.shape)\n",
    "data.head()"
   ]
  },
  {
   "cell_type": "markdown",
   "id": "99e1cf56",
   "metadata": {},
   "source": [
    "# 데이터 구조 확인"
   ]
  },
  {
   "cell_type": "code",
   "execution_count": 7,
   "id": "d2493857",
   "metadata": {},
   "outputs": [
    {
     "name": "stdout",
     "output_type": "stream",
     "text": [
      "<class 'pandas.core.frame.DataFrame'>\n",
      "RangeIndex: 21459 entries, 0 to 21458\n",
      "Data columns (total 2 columns):\n",
      " #   Column   Non-Null Count  Dtype \n",
      "---  ------   --------------  ----- \n",
      " 0   Text     21459 non-null  object\n",
      " 1   Emotion  21459 non-null  object\n",
      "dtypes: object(2)\n",
      "memory usage: 335.4+ KB\n"
     ]
    }
   ],
   "source": [
    "data.info()"
   ]
  },
  {
   "cell_type": "markdown",
   "id": "d0a9248d",
   "metadata": {},
   "source": [
    "- 결측치 없음"
   ]
  },
  {
   "cell_type": "code",
   "execution_count": 8,
   "id": "e4f61468",
   "metadata": {},
   "outputs": [
    {
     "data": {
      "text/html": [
       "<div>\n",
       "<style scoped>\n",
       "    .dataframe tbody tr th:only-of-type {\n",
       "        vertical-align: middle;\n",
       "    }\n",
       "\n",
       "    .dataframe tbody tr th {\n",
       "        vertical-align: top;\n",
       "    }\n",
       "\n",
       "    .dataframe thead th {\n",
       "        text-align: right;\n",
       "    }\n",
       "</style>\n",
       "<table border=\"1\" class=\"dataframe\">\n",
       "  <thead>\n",
       "    <tr style=\"text-align: right;\">\n",
       "      <th></th>\n",
       "      <th>Text</th>\n",
       "      <th>Emotion</th>\n",
       "    </tr>\n",
       "  </thead>\n",
       "  <tbody>\n",
       "    <tr>\n",
       "      <th>count</th>\n",
       "      <td>21459</td>\n",
       "      <td>21459</td>\n",
       "    </tr>\n",
       "    <tr>\n",
       "      <th>unique</th>\n",
       "      <td>21405</td>\n",
       "      <td>6</td>\n",
       "    </tr>\n",
       "    <tr>\n",
       "      <th>top</th>\n",
       "      <td>i feel so tortured by it</td>\n",
       "      <td>happy</td>\n",
       "    </tr>\n",
       "    <tr>\n",
       "      <th>freq</th>\n",
       "      <td>2</td>\n",
       "      <td>7029</td>\n",
       "    </tr>\n",
       "  </tbody>\n",
       "</table>\n",
       "</div>"
      ],
      "text/plain": [
       "                            Text Emotion\n",
       "count                      21459   21459\n",
       "unique                     21405       6\n",
       "top     i feel so tortured by it   happy\n",
       "freq                           2    7029"
      ]
     },
     "execution_count": 8,
     "metadata": {},
     "output_type": "execute_result"
    }
   ],
   "source": [
    "data.describe()"
   ]
  },
  {
   "cell_type": "markdown",
   "id": "fe88b7a7",
   "metadata": {},
   "source": [
    "- 감정을 나타내는 키워드는 총 6개임"
   ]
  },
  {
   "cell_type": "code",
   "execution_count": 9,
   "id": "c7306140",
   "metadata": {},
   "outputs": [
    {
     "data": {
      "text/plain": [
       "happy       7029\n",
       "sadness     6265\n",
       "anger       2993\n",
       "fear        2652\n",
       "love        1641\n",
       "surprise     879\n",
       "Name: Emotion, dtype: int64"
      ]
     },
     "execution_count": 9,
     "metadata": {},
     "output_type": "execute_result"
    }
   ],
   "source": [
    "data['Emotion'].value_counts()"
   ]
  },
  {
   "cell_type": "markdown",
   "id": "5532127a",
   "metadata": {},
   "source": [
    "- 감정 키워드 : happy, sadness, anger, fear, love, surprise"
   ]
  },
  {
   "cell_type": "code",
   "execution_count": 10,
   "id": "8f3be304",
   "metadata": {},
   "outputs": [
    {
     "data": {
      "image/png": "[encoded data removed]",
      "text/plain": [
       "<Figure size 640x480 with 1 Axes>"
      ]
     },
     "metadata": {},
     "output_type": "display_data"
    }
   ],
   "source": [
    "sns.countplot(y=data[\"Emotion\"], order=data[\"Emotion\"].value_counts().index);"
   ]
  },
  {
   "cell_type": "markdown",
   "id": "bf2b6d6a",
   "metadata": {},
   "source": [
    "- 집계 순위 : happy > sadness > anger > fear > love > surprise"
   ]
  },
  {
   "cell_type": "markdown",
   "id": "73cc96f0",
   "metadata": {},
   "source": [
    "# 데이터셋 나누기"
   ]
  },
  {
   "cell_type": "code",
   "execution_count": 11,
   "id": "b33074ee",
   "metadata": {},
   "outputs": [
    {
     "data": {
      "text/plain": [
       "((21459,), (21459,))"
      ]
     },
     "execution_count": 11,
     "metadata": {},
     "output_type": "execute_result"
    }
   ],
   "source": [
    "X = data[\"Text\"]\n",
    "y = data[\"Emotion\"]\n",
    "\n",
    "X.shape, y.shape"
   ]
  },
  {
   "cell_type": "markdown",
   "id": "9d9cead3",
   "metadata": {},
   "source": [
    "## 인코딩 작업하기\n",
    "- 인코딩하고자하는 컬럼 : 'Emotion'\n",
    "- 인코딩 후 생성될 컬럼은 6개"
   ]
  },
  {
   "cell_type": "code",
   "execution_count": 12,
   "id": "88a3742c",
   "metadata": {},
   "outputs": [
    {
     "name": "stdout",
     "output_type": "stream",
     "text": [
      "(21459, 6)\n"
     ]
    },
    {
     "data": {
      "text/html": [
       "<div>\n",
       "<style scoped>\n",
       "    .dataframe tbody tr th:only-of-type {\n",
       "        vertical-align: middle;\n",
       "    }\n",
       "\n",
       "    .dataframe tbody tr th {\n",
       "        vertical-align: top;\n",
       "    }\n",
       "\n",
       "    .dataframe thead th {\n",
       "        text-align: right;\n",
       "    }\n",
       "</style>\n",
       "<table border=\"1\" class=\"dataframe\">\n",
       "  <thead>\n",
       "    <tr style=\"text-align: right;\">\n",
       "      <th></th>\n",
       "      <th>anger</th>\n",
       "      <th>fear</th>\n",
       "      <th>happy</th>\n",
       "      <th>love</th>\n",
       "      <th>sadness</th>\n",
       "      <th>surprise</th>\n",
       "    </tr>\n",
       "  </thead>\n",
       "  <tbody>\n",
       "    <tr>\n",
       "      <th>0</th>\n",
       "      <td>0</td>\n",
       "      <td>0</td>\n",
       "      <td>0</td>\n",
       "      <td>0</td>\n",
       "      <td>1</td>\n",
       "      <td>0</td>\n",
       "    </tr>\n",
       "    <tr>\n",
       "      <th>1</th>\n",
       "      <td>0</td>\n",
       "      <td>0</td>\n",
       "      <td>0</td>\n",
       "      <td>0</td>\n",
       "      <td>1</td>\n",
       "      <td>0</td>\n",
       "    </tr>\n",
       "    <tr>\n",
       "      <th>2</th>\n",
       "      <td>1</td>\n",
       "      <td>0</td>\n",
       "      <td>0</td>\n",
       "      <td>0</td>\n",
       "      <td>0</td>\n",
       "      <td>0</td>\n",
       "    </tr>\n",
       "    <tr>\n",
       "      <th>3</th>\n",
       "      <td>0</td>\n",
       "      <td>0</td>\n",
       "      <td>0</td>\n",
       "      <td>1</td>\n",
       "      <td>0</td>\n",
       "      <td>0</td>\n",
       "    </tr>\n",
       "    <tr>\n",
       "      <th>4</th>\n",
       "      <td>1</td>\n",
       "      <td>0</td>\n",
       "      <td>0</td>\n",
       "      <td>0</td>\n",
       "      <td>0</td>\n",
       "      <td>0</td>\n",
       "    </tr>\n",
       "  </tbody>\n",
       "</table>\n",
       "</div>"
      ],
      "text/plain": [
       "   anger  fear  happy  love  sadness  surprise\n",
       "0      0     0      0     0        1         0\n",
       "1      0     0      0     0        1         0\n",
       "2      1     0      0     0        0         0\n",
       "3      0     0      0     1        0         0\n",
       "4      1     0      0     0        0         0"
      ]
     },
     "execution_count": 12,
     "metadata": {},
     "output_type": "execute_result"
    }
   ],
   "source": [
    "y_onehot = pd.get_dummies(y)\n",
    "print(y_onehot.shape)\n",
    "y_onehot.head()"
   ]
  },
  {
   "cell_type": "markdown",
   "id": "703f1280",
   "metadata": {},
   "source": [
    "## Train, Test "
   ]
  },
  {
   "cell_type": "code",
   "execution_count": 13,
   "id": "c795faf7",
   "metadata": {},
   "outputs": [
    {
     "data": {
      "text/plain": [
       "((17167,), (17167, 6), (4292,), (4292, 6))"
      ]
     },
     "execution_count": 13,
     "metadata": {},
     "output_type": "execute_result"
    }
   ],
   "source": [
    "# 라벨값의 비율을 고르게 나누기 위해 train_test_split 함수를 사용한다.\n",
    "from sklearn.model_selection import train_test_split\n",
    "\n",
    "X_train, X_test, y_train, y_test = train_test_split(X, y_onehot, \n",
    "                                                    test_size=.2, random_state=42\n",
    "                                                    , stratify=y_onehot)\n",
    "X_train.shape, y_train.shape, X_test.shape, y_test.shape"
   ]
  },
  {
   "cell_type": "code",
   "execution_count": 14,
   "id": "fddcd792",
   "metadata": {},
   "outputs": [
    {
     "name": "stdout",
     "output_type": "stream",
     "text": [
      "anger  fear  happy  love  sadness  surprise\n",
      "0      0     1      0     0        0           0.327547\n",
      "             0      0     1        0           0.291955\n",
      "1      0     0      0     0        0           0.139454\n",
      "0      1     0      0     0        0           0.123609\n",
      "       0     0      1     0        0           0.076484\n",
      "                    0     0        1           0.040951\n",
      "dtype: float64\n",
      "================================================================================\n",
      "anger  fear  happy  love  sadness  surprise\n",
      "0      0     1      0     0        0           0.327586\n",
      "             0      0     1        0           0.291938\n",
      "1      0     0      0     0        0           0.139562\n",
      "0      1     0      0     0        0           0.123486\n",
      "       0     0      1     0        0           0.076421\n",
      "                    0     0        1           0.041007\n",
      "dtype: float64\n"
     ]
    }
   ],
   "source": [
    "print(y_train.value_counts(normalize=True))\n",
    "print(\"=\"*80)\n",
    "print(y_test.value_counts(normalize=True))"
   ]
  },
  {
   "cell_type": "markdown",
   "id": "80533114",
   "metadata": {},
   "source": [
    "# Tokenizer "
   ]
  },
  {
   "cell_type": "code",
   "execution_count": 15,
   "id": "45007f16",
   "metadata": {},
   "outputs": [],
   "source": [
    "from tensorflow.keras.preprocessing.text import Tokenizer"
   ]
  },
  {
   "cell_type": "code",
   "execution_count": 16,
   "id": "e0f0168f",
   "metadata": {},
   "outputs": [],
   "source": [
    "# 단어 사전의 크기는 10000으로 설정한다.\n",
    "# 느낌표나 마침표 같은 구두점은 자동 제거 됨\n",
    "\n",
    "vocab_size = 10000\n",
    "oov_tok = \"<oov>\"\n",
    "tokenizer = Tokenizer(num_words=vocab_size, lower=True, oov_token = oov_tok)"
   ]
  },
  {
   "cell_type": "code",
   "execution_count": 17,
   "id": "c1a82e5a",
   "metadata": {},
   "outputs": [],
   "source": [
    "tokenizer.fit_on_texts(X_train)"
   ]
  },
  {
   "cell_type": "code",
   "execution_count": 18,
   "id": "3c709395",
   "metadata": {},
   "outputs": [
    {
     "data": {
      "text/plain": [
       "{'<oov>': 1,\n",
       " 'i': 2,\n",
       " 'feel': 3,\n",
       " 'and': 4,\n",
       " 'to': 5,\n",
       " 'the': 6,\n",
       " 'a': 7,\n",
       " 'of': 8,\n",
       " 'that': 9,\n",
       " 'feeling': 10,\n",
       " 'my': 11,\n",
       " 'in': 12,\n",
       " 'it': 13,\n",
       " 'like': 14,\n",
       " 'was': 15,\n",
       " 'for': 16,\n",
       " 'so': 17,\n",
       " 'im': 18,\n",
       " 'me': 19,\n",
       " 'but': 20,\n",
       " 'have': 21,\n",
       " 'is': 22,\n",
       " 'with': 23,\n",
       " 'this': 24,\n",
       " 'am': 25,\n",
       " 'not': 26,\n",
       " 'about': 27,\n",
       " 'be': 28,\n",
       " 'as': 29,\n",
       " 'on': 30,\n",
       " 'you': 31,\n",
       " 'at': 32,\n",
       " 'just': 33,\n",
       " 'when': 34,\n",
       " 'or': 35,\n",
       " 'all': 36,\n",
       " 'because': 37,\n",
       " 'more': 38,\n",
       " 'do': 39,\n",
       " 'up': 40,\n",
       " 'can': 41,\n",
       " 'he': 42,\n",
       " 'really': 43,\n",
       " 't': 44,\n",
       " 'been': 45,\n",
       " 'by': 46,\n",
       " 'are': 47,\n",
       " 'very': 48,\n",
       " 'had': 49,\n",
       " 'know': 50,\n",
       " 'if': 51,\n",
       " 'her': 52,\n",
       " 'out': 53,\n",
       " 'time': 54,\n",
       " 'myself': 55,\n",
       " 'what': 56,\n",
       " 'from': 57,\n",
       " 'they': 58,\n",
       " 'how': 59,\n",
       " 'get': 60,\n",
       " 'little': 61,\n",
       " 'now': 62,\n",
       " 'will': 63,\n",
       " 'being': 64,\n",
       " 'would': 65,\n",
       " 'she': 66,\n",
       " 'people': 67,\n",
       " 'them': 68,\n",
       " 'some': 69,\n",
       " 'an': 70,\n",
       " 'him': 71,\n",
       " 'want': 72,\n",
       " 'who': 73,\n",
       " 'his': 74,\n",
       " 'one': 75,\n",
       " 'still': 76,\n",
       " 'even': 77,\n",
       " 'think': 78,\n",
       " 'ive': 79,\n",
       " 'there': 80,\n",
       " 'life': 81,\n",
       " 'its': 82,\n",
       " 'make': 83,\n",
       " 'something': 84,\n",
       " 'bit': 85,\n",
       " 'much': 86,\n",
       " 'could': 87,\n",
       " 'love': 88,\n",
       " 'we': 89,\n",
       " 'dont': 90,\n",
       " 's': 91,\n",
       " 'going': 92,\n",
       " 'no': 93,\n",
       " 'than': 94,\n",
       " 'things': 95,\n",
       " 'day': 96,\n",
       " 'way': 97,\n",
       " 'm': 98,\n",
       " 'their': 99,\n",
       " 'back': 100,\n",
       " 'too': 101,\n",
       " 'which': 102,\n",
       " 'into': 103,\n",
       " 'has': 104,\n",
       " 'go': 105,\n",
       " 'pretty': 106,\n",
       " 'don': 107,\n",
       " 'over': 108,\n",
       " 'good': 109,\n",
       " 'need': 110,\n",
       " 'were': 111,\n",
       " 'always': 112,\n",
       " 'then': 113,\n",
       " 'see': 114,\n",
       " 'other': 115,\n",
       " 'also': 116,\n",
       " 'did': 117,\n",
       " 'after': 118,\n",
       " 'right': 119,\n",
       " 'only': 120,\n",
       " 'say': 121,\n",
       " 'feelings': 122,\n",
       " 'these': 123,\n",
       " 'work': 124,\n",
       " 'your': 125,\n",
       " 'feels': 126,\n",
       " 'should': 127,\n",
       " 'around': 128,\n",
       " 'felt': 129,\n",
       " 'again': 130,\n",
       " 'today': 131,\n",
       " 'made': 132,\n",
       " 'most': 133,\n",
       " 'though': 134,\n",
       " 'cant': 135,\n",
       " 'our': 136,\n",
       " 'here': 137,\n",
       " 'down': 138,\n",
       " 'got': 139,\n",
       " 'well': 140,\n",
       " 'happy': 141,\n",
       " 'any': 142,\n",
       " 'help': 143,\n",
       " 'where': 144,\n",
       " 'never': 145,\n",
       " 'through': 146,\n",
       " 'those': 147,\n",
       " 'every': 148,\n",
       " 'someone': 149,\n",
       " 'less': 150,\n",
       " 'sure': 151,\n",
       " 'didnt': 152,\n",
       " 'quite': 153,\n",
       " 'doing': 154,\n",
       " 'having': 155,\n",
       " 'enough': 156,\n",
       " 'makes': 157,\n",
       " 'look': 158,\n",
       " 'away': 159,\n",
       " 'days': 160,\n",
       " 'many': 161,\n",
       " 'why': 162,\n",
       " 'find': 163,\n",
       " 'last': 164,\n",
       " 'kind': 165,\n",
       " 'anything': 166,\n",
       " 'left': 167,\n",
       " 'lot': 168,\n",
       " 'everything': 169,\n",
       " 'off': 170,\n",
       " 'home': 171,\n",
       " 'better': 172,\n",
       " 'come': 173,\n",
       " 'before': 174,\n",
       " 'such': 175,\n",
       " 'own': 176,\n",
       " 'without': 177,\n",
       " 'person': 178,\n",
       " 'new': 179,\n",
       " 'said': 180,\n",
       " 'getting': 181,\n",
       " 'started': 182,\n",
       " 'ever': 183,\n",
       " 'take': 184,\n",
       " 'friends': 185,\n",
       " 'while': 186,\n",
       " 'sometimes': 187,\n",
       " 'http': 188,\n",
       " 'few': 189,\n",
       " 'world': 190,\n",
       " 'thought': 191,\n",
       " 'family': 192,\n",
       " 'week': 193,\n",
       " 'remember': 194,\n",
       " 'first': 195,\n",
       " 'trying': 196,\n",
       " 'thing': 197,\n",
       " 'actually': 198,\n",
       " 'able': 199,\n",
       " 'long': 200,\n",
       " 'year': 201,\n",
       " 'times': 202,\n",
       " 'bad': 203,\n",
       " 'rather': 204,\n",
       " 'href': 205,\n",
       " 'making': 206,\n",
       " \"'s\": 207,\n",
       " 'let': 208,\n",
       " 'already': 209,\n",
       " 'two': 210,\n",
       " 'tell': 211,\n",
       " 'face': 212,\n",
       " 'others': 213,\n",
       " 'often': 214,\n",
       " 'try': 215,\n",
       " 'end': 216,\n",
       " 'may': 217,\n",
       " 'start': 218,\n",
       " 'keep': 219,\n",
       " 'since': 220,\n",
       " 'ill': 221,\n",
       " 'excited': 222,\n",
       " 'heart': 223,\n",
       " 'alone': 224,\n",
       " 'same': 225,\n",
       " 'part': 226,\n",
       " 'nothing': 227,\n",
       " 'read': 228,\n",
       " 'give': 229,\n",
       " 'looking': 230,\n",
       " 'stressed': 231,\n",
       " 'us': 232,\n",
       " 'sad': 233,\n",
       " 'might': 234,\n",
       " 'blog': 235,\n",
       " 'place': 236,\n",
       " 'angry': 237,\n",
       " 'write': 238,\n",
       " 'morning': 239,\n",
       " 'years': 240,\n",
       " 'yet': 241,\n",
       " 'hope': 242,\n",
       " 'another': 243,\n",
       " 'weird': 244,\n",
       " 'night': 245,\n",
       " 'put': 246,\n",
       " 'hate': 247,\n",
       " 'school': 248,\n",
       " 'god': 249,\n",
       " 'wanted': 250,\n",
       " 'almost': 251,\n",
       " 'must': 252,\n",
       " 'sweet': 253,\n",
       " 'whole': 254,\n",
       " 'pain': 255,\n",
       " 'point': 256,\n",
       " 'overwhelmed': 257,\n",
       " 'anxious': 258,\n",
       " 'old': 259,\n",
       " 'anyone': 260,\n",
       " 'friend': 261,\n",
       " 'didn': 262,\n",
       " 'moment': 263,\n",
       " 'went': 264,\n",
       " 'amazing': 265,\n",
       " 'stop': 266,\n",
       " 'everyone': 267,\n",
       " 'id': 268,\n",
       " 'does': 269,\n",
       " 'thinking': 270,\n",
       " 'guess': 271,\n",
       " 'found': 272,\n",
       " 'once': 273,\n",
       " 'each': 274,\n",
       " 'hard': 275,\n",
       " 'great': 276,\n",
       " 'lost': 277,\n",
       " 'talk': 278,\n",
       " 'next': 279,\n",
       " 'done': 280,\n",
       " 'strange': 281,\n",
       " 'completely': 282,\n",
       " 'loved': 283,\n",
       " 'important': 284,\n",
       " 'blessed': 285,\n",
       " 'accepted': 286,\n",
       " 'fact': 287,\n",
       " 'hurt': 288,\n",
       " 'told': 289,\n",
       " 'maybe': 290,\n",
       " 'passionate': 291,\n",
       " 'self': 292,\n",
       " 'especially': 293,\n",
       " 'past': 294,\n",
       " 'depressed': 295,\n",
       " 'sense': 296,\n",
       " 'until': 297,\n",
       " 'agitated': 298,\n",
       " 'body': 299,\n",
       " 'stupid': 300,\n",
       " 'else': 301,\n",
       " 'post': 302,\n",
       " 'least': 303,\n",
       " 'man': 304,\n",
       " 'tired': 305,\n",
       " 'real': 306,\n",
       " 'believe': 307,\n",
       " 'leave': 308,\n",
       " 'hated': 309,\n",
       " 'share': 310,\n",
       " 'afraid': 311,\n",
       " 'use': 312,\n",
       " 'eyes': 313,\n",
       " 'helpless': 314,\n",
       " 'understand': 315,\n",
       " 've': 316,\n",
       " 'become': 317,\n",
       " 'free': 318,\n",
       " 'girl': 319,\n",
       " 'best': 320,\n",
       " 'lately': 321,\n",
       " 'cold': 322,\n",
       " 'writing': 323,\n",
       " 'coming': 324,\n",
       " 'reason': 325,\n",
       " 'towards': 326,\n",
       " 'nervous': 327,\n",
       " 'inside': 328,\n",
       " 'came': 329,\n",
       " 'starting': 330,\n",
       " 'book': 331,\n",
       " 'wasnt': 332,\n",
       " 'house': 333,\n",
       " 'guilty': 334,\n",
       " 'far': 335,\n",
       " 'glad': 336,\n",
       " 'show': 337,\n",
       " 'sleep': 338,\n",
       " 'thankful': 339,\n",
       " 'sort': 340,\n",
       " 'strong': 341,\n",
       " 'mind': 342,\n",
       " 'slightly': 343,\n",
       " 'words': 344,\n",
       " 'during': 345,\n",
       " 'generous': 346,\n",
       " 'used': 347,\n",
       " 'head': 348,\n",
       " 'miserable': 349,\n",
       " 'supporting': 350,\n",
       " 'care': 351,\n",
       " 'job': 352,\n",
       " 'loving': 353,\n",
       " 'scared': 354,\n",
       " 'sorry': 355,\n",
       " 'wish': 356,\n",
       " 'amp': 357,\n",
       " 'live': 358,\n",
       " 'probably': 359,\n",
       " 'lonely': 360,\n",
       " 'taking': 361,\n",
       " 'mean': 362,\n",
       " 'mother': 363,\n",
       " 'perfect': 364,\n",
       " 'low': 365,\n",
       " 're': 366,\n",
       " 'special': 367,\n",
       " 'wonderful': 368,\n",
       " 'working': 369,\n",
       " 'cool': 370,\n",
       " 'child': 371,\n",
       " 'children': 372,\n",
       " 'ok': 373,\n",
       " 'truly': 374,\n",
       " 'class': 375,\n",
       " 'thats': 376,\n",
       " 'looked': 377,\n",
       " 'call': 378,\n",
       " 'totally': 379,\n",
       " 'months': 380,\n",
       " 'saying': 381,\n",
       " 'particularly': 382,\n",
       " 'kids': 383,\n",
       " 'extremely': 384,\n",
       " 'exhausted': 385,\n",
       " 'comfortable': 386,\n",
       " 'proud': 387,\n",
       " 'women': 388,\n",
       " 'finally': 389,\n",
       " 'frustrated': 390,\n",
       " 'fine': 391,\n",
       " 'reading': 392,\n",
       " 'confident': 393,\n",
       " 'experience': 394,\n",
       " 'offended': 395,\n",
       " 'lovely': 396,\n",
       " 'big': 397,\n",
       " 'both': 398,\n",
       " 'woke': 399,\n",
       " 'doesnt': 400,\n",
       " 'safe': 401,\n",
       " 'change': 402,\n",
       " 'bed': 403,\n",
       " 'disappointed': 404,\n",
       " 'room': 405,\n",
       " 'thoughts': 406,\n",
       " 'together': 407,\n",
       " 'between': 408,\n",
       " 'woman': 409,\n",
       " 'mad': 410,\n",
       " 'funny': 411,\n",
       " 'wrong': 412,\n",
       " 'enjoy': 413,\n",
       " 'stuff': 414,\n",
       " 'spent': 415,\n",
       " 'side': 416,\n",
       " 'story': 417,\n",
       " 'irritable': 418,\n",
       " 'terrible': 419,\n",
       " 'havent': 420,\n",
       " 'future': 421,\n",
       " 'hand': 422,\n",
       " 'bothered': 423,\n",
       " 'matter': 424,\n",
       " 'parents': 425,\n",
       " 'admit': 426,\n",
       " 'beloved': 427,\n",
       " 'cannot': 428,\n",
       " 'positive': 429,\n",
       " 'run': 430,\n",
       " 'amazed': 431,\n",
       " 'control': 432,\n",
       " 'knew': 433,\n",
       " 'missed': 434,\n",
       " 'ask': 435,\n",
       " 'hot': 436,\n",
       " 'walk': 437,\n",
       " 'idea': 438,\n",
       " 'close': 439,\n",
       " 'weeks': 440,\n",
       " 'hear': 441,\n",
       " 'resentful': 442,\n",
       " 'instead': 443,\n",
       " 'terrified': 444,\n",
       " 'wont': 445,\n",
       " 'caring': 446,\n",
       " 'miss': 447,\n",
       " 'liked': 448,\n",
       " 'emotional': 449,\n",
       " 'surprised': 450,\n",
       " 'move': 451,\n",
       " 'lucky': 452,\n",
       " 'seem': 453,\n",
       " 'rest': 454,\n",
       " 'pleased': 455,\n",
       " 'tortured': 456,\n",
       " 'dull': 457,\n",
       " 'unhappy': 458,\n",
       " 'energy': 459,\n",
       " 'saw': 460,\n",
       " 'creative': 461,\n",
       " 'ago': 462,\n",
       " 'embarrassed': 463,\n",
       " 'asked': 464,\n",
       " 'anymore': 465,\n",
       " 'absolutely': 466,\n",
       " 'hours': 467,\n",
       " 'inspired': 468,\n",
       " 'uncomfortable': 469,\n",
       " 'super': 470,\n",
       " 'full': 471,\n",
       " 'decided': 472,\n",
       " 'confused': 473,\n",
       " 'deep': 474,\n",
       " 'food': 475,\n",
       " 'living': 476,\n",
       " 'awkward': 477,\n",
       " 'irritated': 478,\n",
       " 'talking': 479,\n",
       " 'brave': 480,\n",
       " 'soon': 481,\n",
       " 'situation': 482,\n",
       " 'discouraged': 483,\n",
       " 'against': 484,\n",
       " 'popular': 485,\n",
       " 'knowing': 486,\n",
       " 'took': 487,\n",
       " 'horrible': 488,\n",
       " 'husband': 489,\n",
       " 'devastated': 490,\n",
       " 'rushed': 491,\n",
       " 'selfish': 492,\n",
       " 'usually': 493,\n",
       " 'cause': 494,\n",
       " 'ashamed': 495,\n",
       " 'seems': 496,\n",
       " 'baby': 497,\n",
       " 'content': 498,\n",
       " 'began': 499,\n",
       " 'guy': 500,\n",
       " 'shitty': 501,\n",
       " 'convinced': 502,\n",
       " 'small': 503,\n",
       " 'eat': 504,\n",
       " 'annoyed': 505,\n",
       " 'relaxed': 506,\n",
       " 'punished': 507,\n",
       " 'gorgeous': 508,\n",
       " 'three': 509,\n",
       " 'calm': 510,\n",
       " 'happen': 511,\n",
       " 'sitting': 512,\n",
       " 'useful': 513,\n",
       " 'longer': 514,\n",
       " 'running': 515,\n",
       " 'successful': 516,\n",
       " 'cute': 517,\n",
       " 'heartbroken': 518,\n",
       " 'lethargic': 519,\n",
       " 'insecure': 520,\n",
       " 'money': 521,\n",
       " 'comes': 522,\n",
       " 'youre': 523,\n",
       " 'wear': 524,\n",
       " 'young': 525,\n",
       " 'needed': 526,\n",
       " 'open': 527,\n",
       " 'faithful': 528,\n",
       " 'weekend': 529,\n",
       " 'satisfied': 530,\n",
       " 'awful': 531,\n",
       " 'either': 532,\n",
       " 'fun': 533,\n",
       " 'insulted': 534,\n",
       " 'determined': 535,\n",
       " 'somewhat': 536,\n",
       " 'useless': 537,\n",
       " 'however': 538,\n",
       " 'curious': 539,\n",
       " 'beautiful': 540,\n",
       " 'somehow': 541,\n",
       " 'nice': 542,\n",
       " 'violent': 543,\n",
       " 'shaken': 544,\n",
       " 'unsure': 545,\n",
       " 'vulnerable': 546,\n",
       " 'mom': 547,\n",
       " 'watching': 548,\n",
       " 'simply': 549,\n",
       " 'ugly': 550,\n",
       " 'honestly': 551,\n",
       " 'frightened': 552,\n",
       " 'giving': 553,\n",
       " 'uncertain': 554,\n",
       " 'half': 555,\n",
       " 'under': 556,\n",
       " 'rude': 557,\n",
       " 'wonder': 558,\n",
       " 'music': 559,\n",
       " 'crappy': 560,\n",
       " 'sit': 561,\n",
       " 'watch': 562,\n",
       " 'different': 563,\n",
       " 'unwelcome': 564,\n",
       " 'dumb': 565,\n",
       " 'fucked': 566,\n",
       " 'hair': 567,\n",
       " 'impressed': 568,\n",
       " 'rejected': 569,\n",
       " 'yesterday': 570,\n",
       " 'hes': 571,\n",
       " 'melancholy': 572,\n",
       " 'relationship': 573,\n",
       " 'hopeful': 574,\n",
       " 'd': 575,\n",
       " 'isolated': 576,\n",
       " 'behind': 577,\n",
       " 'jealous': 578,\n",
       " 'optimistic': 579,\n",
       " 'pleasant': 580,\n",
       " 'kinda': 581,\n",
       " 'longing': 582,\n",
       " 'pressured': 583,\n",
       " 'second': 584,\n",
       " 'empty': 585,\n",
       " 'hopeless': 586,\n",
       " 'innocent': 587,\n",
       " 'pissed': 588,\n",
       " 'www': 589,\n",
       " 'happened': 590,\n",
       " 'men': 591,\n",
       " 'groggy': 592,\n",
       " 'worthless': 593,\n",
       " 'pathetic': 594,\n",
       " 'apprehensive': 595,\n",
       " 'aching': 596,\n",
       " 'whether': 597,\n",
       " 'stay': 598,\n",
       " 'whatever': 599,\n",
       " 'valuable': 600,\n",
       " 'couldnt': 601,\n",
       " 'sympathetic': 602,\n",
       " 'support': 603,\n",
       " 'wanting': 604,\n",
       " 'precious': 605,\n",
       " \"n't\": 606,\n",
       " 'front': 607,\n",
       " 'wake': 608,\n",
       " 'energetic': 609,\n",
       " 'certain': 610,\n",
       " 'high': 611,\n",
       " 'sick': 612,\n",
       " 'numb': 613,\n",
       " 'talented': 614,\n",
       " 'disgusted': 615,\n",
       " 'suddenly': 616,\n",
       " 'tried': 617,\n",
       " 'dangerous': 618,\n",
       " 'unimportant': 619,\n",
       " 'joy': 620,\n",
       " 'tender': 621,\n",
       " 'course': 622,\n",
       " 'shy': 623,\n",
       " 'inadequate': 624,\n",
       " 'bitter': 625,\n",
       " 'girls': 626,\n",
       " 'tonight': 627,\n",
       " 'beaten': 628,\n",
       " 'rich': 629,\n",
       " 'vain': 630,\n",
       " 'humiliated': 631,\n",
       " 'cry': 632,\n",
       " 'divine': 633,\n",
       " 'superior': 634,\n",
       " 'definitely': 635,\n",
       " 'gloomy': 636,\n",
       " 'greedy': 637,\n",
       " 'realize': 638,\n",
       " 'sincere': 639,\n",
       " 'upset': 640,\n",
       " 'seeing': 641,\n",
       " 'realized': 642,\n",
       " 'turn': 643,\n",
       " 'set': 644,\n",
       " 'ways': 645,\n",
       " 'needs': 646,\n",
       " 'bitchy': 647,\n",
       " 'trust': 648,\n",
       " 'dirty': 649,\n",
       " 'gone': 650,\n",
       " 'productive': 651,\n",
       " 'defeated': 652,\n",
       " 'sat': 653,\n",
       " 'thrilled': 654,\n",
       " 'intimidated': 655,\n",
       " 'paranoid': 656,\n",
       " 'festive': 657,\n",
       " 'homesick': 658,\n",
       " 'cranky': 659,\n",
       " 'burdened': 660,\n",
       " 'friendly': 661,\n",
       " 'lives': 662,\n",
       " 'buy': 663,\n",
       " 'couple': 664,\n",
       " 'called': 665,\n",
       " 'valued': 666,\n",
       " 'smile': 667,\n",
       " 'disheartened': 668,\n",
       " 'weight': 669,\n",
       " 'll': 670,\n",
       " 'ecstatic': 671,\n",
       " 'seemed': 672,\n",
       " 'distracted': 673,\n",
       " 'reluctant': 674,\n",
       " 'assured': 675,\n",
       " 'respected': 676,\n",
       " 'drained': 677,\n",
       " 'taken': 678,\n",
       " 'boring': 679,\n",
       " 'blank': 680,\n",
       " 'supportive': 681,\n",
       " 'game': 682,\n",
       " 'hesitant': 683,\n",
       " 'nostalgic': 684,\n",
       " 'hands': 685,\n",
       " 'ready': 686,\n",
       " 'threatened': 687,\n",
       " 'anger': 688,\n",
       " 'voice': 689,\n",
       " 'country': 690,\n",
       " 'within': 691,\n",
       " 'fear': 692,\n",
       " 'contented': 693,\n",
       " 'damaged': 694,\n",
       " 'deal': 695,\n",
       " 'ignored': 696,\n",
       " 'mellow': 697,\n",
       " 'shes': 698,\n",
       " 'skin': 699,\n",
       " 'broke': 700,\n",
       " 'honoured': 701,\n",
       " 'incredibly': 702,\n",
       " 'oh': 703,\n",
       " 'state': 704,\n",
       " 'given': 705,\n",
       " 'smart': 706,\n",
       " 'emotions': 707,\n",
       " 'romantic': 708,\n",
       " 'word': 709,\n",
       " 'eager': 710,\n",
       " 'petty': 711,\n",
       " 'honored': 712,\n",
       " 'worthwhile': 713,\n",
       " 'boy': 714,\n",
       " 'lousy': 715,\n",
       " 'mine': 716,\n",
       " 'plan': 717,\n",
       " 'restless': 718,\n",
       " 'acceptable': 719,\n",
       " 'joyful': 720,\n",
       " 'horny': 721,\n",
       " 'minutes': 722,\n",
       " 'ones': 723,\n",
       " 'car': 724,\n",
       " 'needy': 725,\n",
       " 'summer': 726,\n",
       " 'fake': 727,\n",
       " 'forward': 728,\n",
       " 'relieved': 729,\n",
       " 'dissatisfied': 730,\n",
       " 'shocked': 731,\n",
       " 'month': 732,\n",
       " 'continue': 733,\n",
       " 'shaky': 734,\n",
       " 'song': 735,\n",
       " 'supposed': 736,\n",
       " 'peaceful': 737,\n",
       " 'eating': 738,\n",
       " 'team': 739,\n",
       " 'guys': 740,\n",
       " 'whenever': 741,\n",
       " 'order': 742,\n",
       " 'gentle': 743,\n",
       " 'regretful': 744,\n",
       " 'leaving': 745,\n",
       " 'met': 746,\n",
       " 'hour': 747,\n",
       " 'rotten': 748,\n",
       " 'theres': 749,\n",
       " 'naughty': 750,\n",
       " 'books': 751,\n",
       " 'although': 752,\n",
       " 'exactly': 753,\n",
       " 'carefree': 754,\n",
       " 'waiting': 755,\n",
       " 'grateful': 756,\n",
       " 'outside': 757,\n",
       " 'listless': 758,\n",
       " 'welcomed': 759,\n",
       " 'loyal': 760,\n",
       " 'problems': 761,\n",
       " 'water': 762,\n",
       " 'suffering': 763,\n",
       " 'artistic': 764,\n",
       " 'play': 765,\n",
       " 'delicious': 766,\n",
       " 'father': 767,\n",
       " 'resolved': 768,\n",
       " 'listen': 769,\n",
       " 'isnt': 770,\n",
       " 'fearful': 771,\n",
       " 'mood': 772,\n",
       " 'smug': 773,\n",
       " 'beginning': 774,\n",
       " 'normal': 775,\n",
       " 'telling': 776,\n",
       " 'movie': 777,\n",
       " 'desire': 778,\n",
       " 'fabulous': 779,\n",
       " 'toward': 780,\n",
       " 'disturbed': 781,\n",
       " 'delighted': 782,\n",
       " 'single': 783,\n",
       " 'unfortunate': 784,\n",
       " 'true': 785,\n",
       " 'adventurous': 786,\n",
       " 'terrific': 787,\n",
       " 'upon': 788,\n",
       " 'lame': 789,\n",
       " 'walked': 790,\n",
       " 'christmas': 791,\n",
       " 'seen': 792,\n",
       " 'type': 793,\n",
       " 'despite': 794,\n",
       " 'spend': 795,\n",
       " 'generally': 796,\n",
       " 'loss': 797,\n",
       " 'rebellious': 798,\n",
       " 'begin': 799,\n",
       " 'became': 800,\n",
       " 'doomed': 801,\n",
       " 'ungrateful': 802,\n",
       " 'impatient': 803,\n",
       " 'personal': 804,\n",
       " 'style': 805,\n",
       " 'later': 806,\n",
       " 'deprived': 807,\n",
       " 'attention': 808,\n",
       " 'says': 809,\n",
       " 'touch': 810,\n",
       " 'human': 811,\n",
       " 'wasn': 812,\n",
       " 'troubled': 813,\n",
       " 'worse': 814,\n",
       " 'fond': 815,\n",
       " 'intelligent': 816,\n",
       " 'students': 817,\n",
       " 'lose': 818,\n",
       " 'grumpy': 819,\n",
       " 'air': 820,\n",
       " 'kept': 821,\n",
       " 'wronged': 822,\n",
       " 'perhaps': 823,\n",
       " 'gets': 824,\n",
       " 'opportunity': 825,\n",
       " 'moments': 826,\n",
       " 'tomorrow': 827,\n",
       " 'dream': 828,\n",
       " 'virtuous': 829,\n",
       " 'fantastic': 830,\n",
       " 'casual': 831,\n",
       " 'abused': 832,\n",
       " 'race': 833,\n",
       " 'foolish': 834,\n",
       " 'along': 835,\n",
       " 'worth': 836,\n",
       " 'means': 837,\n",
       " 'line': 838,\n",
       " 'moving': 839,\n",
       " 'clever': 840,\n",
       " 'reassured': 841,\n",
       " 'fucking': 842,\n",
       " 'party': 843,\n",
       " 'learning': 844,\n",
       " 'wouldnt': 845,\n",
       " 'amount': 846,\n",
       " 'utterly': 847,\n",
       " 'gave': 848,\n",
       " 'meet': 849,\n",
       " 'wait': 850,\n",
       " 'triumphant': 851,\n",
       " 'constantly': 852,\n",
       " 'goes': 853,\n",
       " 'amused': 854,\n",
       " 'short': 855,\n",
       " 'trusting': 856,\n",
       " 'top': 857,\n",
       " 'learned': 858,\n",
       " 'phone': 859,\n",
       " 'learn': 860,\n",
       " 'peace': 861,\n",
       " 'stubborn': 862,\n",
       " 'imagine': 863,\n",
       " 'healthy': 864,\n",
       " 'due': 865,\n",
       " 'walking': 866,\n",
       " 'deeply': 867,\n",
       " 'light': 868,\n",
       " 'doesn': 869,\n",
       " 'etc': 870,\n",
       " 'list': 871,\n",
       " 'suppose': 872,\n",
       " 'arms': 873,\n",
       " 'tears': 874,\n",
       " 'four': 875,\n",
       " 'privileged': 876,\n",
       " 'fall': 877,\n",
       " 'trip': 878,\n",
       " 'comments': 879,\n",
       " 'name': 880,\n",
       " 'shit': 881,\n",
       " 'lack': 882,\n",
       " 'group': 883,\n",
       " 'space': 884,\n",
       " 'heard': 885,\n",
       " 'break': 886,\n",
       " 'discontent': 887,\n",
       " 'unloved': 888,\n",
       " 'questions': 889,\n",
       " 'distressed': 890,\n",
       " 'easily': 891,\n",
       " 'bring': 892,\n",
       " 'crazy': 893,\n",
       " 'vital': 894,\n",
       " 'age': 895,\n",
       " 'stunned': 896,\n",
       " 'jaded': 897,\n",
       " 'spirit': 898,\n",
       " 'speak': 899,\n",
       " 'wife': 900,\n",
       " 'using': 901,\n",
       " 'turned': 902,\n",
       " 'red': 903,\n",
       " 'submissive': 904,\n",
       " 'chance': 905,\n",
       " 'skeptical': 906,\n",
       " 'disillusioned': 907,\n",
       " 'appreciative': 908,\n",
       " 'evening': 909,\n",
       " 'worked': 910,\n",
       " 'yes': 911,\n",
       " 'doubtful': 912,\n",
       " 'art': 913,\n",
       " 'invigorated': 914,\n",
       " 'possible': 915,\n",
       " 'across': 916,\n",
       " 'excitement': 917,\n",
       " 'damn': 918,\n",
       " 'hold': 919,\n",
       " 'dark': 920,\n",
       " 'sadness': 921,\n",
       " 'putting': 922,\n",
       " 'except': 923,\n",
       " 'piece': 924,\n",
       " 'tragic': 925,\n",
       " 'several': 926,\n",
       " 'frantic': 927,\n",
       " 'door': 928,\n",
       " 'cut': 929,\n",
       " 'act': 930,\n",
       " 'step': 931,\n",
       " 'themselves': 932,\n",
       " 'known': 933,\n",
       " 'stand': 934,\n",
       " 'suspicious': 935,\n",
       " 'general': 936,\n",
       " 'community': 937,\n",
       " 'strongly': 938,\n",
       " 'quickly': 939,\n",
       " 'looks': 940,\n",
       " 'himself': 941,\n",
       " 'envious': 942,\n",
       " 'dazed': 943,\n",
       " 'news': 944,\n",
       " 'church': 945,\n",
       " 'missing': 946,\n",
       " 'messy': 947,\n",
       " 'stomach': 948,\n",
       " 'finish': 949,\n",
       " 'pictures': 950,\n",
       " 'recently': 951,\n",
       " 'delicate': 952,\n",
       " 'wants': 953,\n",
       " 'physically': 954,\n",
       " 'level': 955,\n",
       " 'easy': 956,\n",
       " 'sleeping': 957,\n",
       " 'seriously': 958,\n",
       " 'early': 959,\n",
       " 'certainly': 960,\n",
       " 'possibly': 961,\n",
       " 'grief': 962,\n",
       " 'choice': 963,\n",
       " 'becoming': 964,\n",
       " 'health': 965,\n",
       " 'unpleasant': 966,\n",
       " 'fairly': 967,\n",
       " 'worried': 968,\n",
       " 'expression': 969,\n",
       " 'pressure': 970,\n",
       " 'characters': 971,\n",
       " 'worry': 972,\n",
       " 'focus': 973,\n",
       " 'honest': 974,\n",
       " 'add': 975,\n",
       " 'glamorous': 976,\n",
       " 'mostly': 977,\n",
       " 'connection': 978,\n",
       " 'issues': 979,\n",
       " 'guilt': 980,\n",
       " 'return': 981,\n",
       " 'sister': 982,\n",
       " 'explain': 983,\n",
       " 'stories': 984,\n",
       " 'negative': 985,\n",
       " 'wearing': 986,\n",
       " 'late': 987,\n",
       " 'everyday': 988,\n",
       " 'college': 989,\n",
       " 'mention': 990,\n",
       " 'idiotic': 991,\n",
       " 'finding': 992,\n",
       " 'hit': 993,\n",
       " 'son': 994,\n",
       " 'hell': 995,\n",
       " 'readers': 996,\n",
       " 'keen': 997,\n",
       " 'public': 998,\n",
       " 'daughter': 999,\n",
       " 'slowly': 1000,\n",
       " ...}"
      ]
     },
     "execution_count": 18,
     "metadata": {},
     "output_type": "execute_result"
    }
   ],
   "source": [
    "# 단어 사전을 딕셔너리 형태로 반환\n",
    "word_to_index = tokenizer.word_index\n",
    "word_to_index"
   ]
  },
  {
   "cell_type": "code",
   "execution_count": 19,
   "id": "414a8546",
   "metadata": {},
   "outputs": [
    {
     "data": {
      "text/html": [
       "<div>\n",
       "<style scoped>\n",
       "    .dataframe tbody tr th:only-of-type {\n",
       "        vertical-align: middle;\n",
       "    }\n",
       "\n",
       "    .dataframe tbody tr th {\n",
       "        vertical-align: top;\n",
       "    }\n",
       "\n",
       "    .dataframe thead th {\n",
       "        text-align: right;\n",
       "    }\n",
       "</style>\n",
       "<table border=\"1\" class=\"dataframe\">\n",
       "  <thead>\n",
       "    <tr style=\"text-align: right;\">\n",
       "      <th></th>\n",
       "      <th>i</th>\n",
       "      <th>feel</th>\n",
       "      <th>and</th>\n",
       "      <th>to</th>\n",
       "      <th>the</th>\n",
       "      <th>a</th>\n",
       "      <th>of</th>\n",
       "      <th>that</th>\n",
       "      <th>feeling</th>\n",
       "      <th>my</th>\n",
       "      <th>...</th>\n",
       "      <th>czech</th>\n",
       "      <th>musically</th>\n",
       "      <th>rowan</th>\n",
       "      <th>bracelets</th>\n",
       "      <th>bracelet</th>\n",
       "      <th>fleet</th>\n",
       "      <th>adequate</th>\n",
       "      <th>ply</th>\n",
       "      <th>tweedy</th>\n",
       "      <th>chuc</th>\n",
       "    </tr>\n",
       "  </thead>\n",
       "  <tbody>\n",
       "    <tr>\n",
       "      <th>1</th>\n",
       "      <td>26083</td>\n",
       "      <td>11137</td>\n",
       "      <td>10258</td>\n",
       "      <td>9580</td>\n",
       "      <td>9478</td>\n",
       "      <td>6671</td>\n",
       "      <td>5493</td>\n",
       "      <td>5228</td>\n",
       "      <td>5224</td>\n",
       "      <td>4415</td>\n",
       "      <td>...</td>\n",
       "      <td>1</td>\n",
       "      <td>1</td>\n",
       "      <td>1</td>\n",
       "      <td>1</td>\n",
       "      <td>1</td>\n",
       "      <td>1</td>\n",
       "      <td>1</td>\n",
       "      <td>1</td>\n",
       "      <td>1</td>\n",
       "      <td>1</td>\n",
       "    </tr>\n",
       "  </tbody>\n",
       "</table>\n",
       "<p>1 rows × 17152 columns</p>\n",
       "</div>"
      ],
      "text/plain": [
       "0      i   feel    and    to   the     a    of  that  feeling    my  ...  \\\n",
       "1  26083  11137  10258  9580  9478  6671  5493  5228     5224  4415  ...   \n",
       "\n",
       "0  czech  musically  rowan  bracelets  bracelet  fleet  adequate  ply  tweedy  \\\n",
       "1      1          1      1          1         1      1         1    1       1   \n",
       "\n",
       "0  chuc  \n",
       "1     1  \n",
       "\n",
       "[1 rows x 17152 columns]"
      ]
     },
     "execution_count": 19,
     "metadata": {},
     "output_type": "execute_result"
    }
   ],
   "source": [
    "pd.DataFrame(tokenizer.word_counts.items()).sort_values(1, ascending=False).set_index(0).T"
   ]
  },
  {
   "cell_type": "markdown",
   "id": "59faaa3e",
   "metadata": {},
   "source": [
    "- 분류된 단어가 약 17152개 (컬럼수)"
   ]
  },
  {
   "cell_type": "markdown",
   "id": "a05d00f5",
   "metadata": {},
   "source": [
    "## 텍스트를 숫자 형태로 변경"
   ]
  },
  {
   "cell_type": "code",
   "execution_count": 20,
   "id": "fd3fa0fe",
   "metadata": {},
   "outputs": [],
   "source": [
    "# texts_to_sequences를 이용하여 text 문장을 숫자로 이루어진 리스트로 변경\n",
    "train_sequences = tokenizer.texts_to_sequences(X_train)\n",
    "test_sequences = tokenizer.texts_to_sequences(X_test)"
   ]
  },
  {
   "cell_type": "code",
   "execution_count": 21,
   "id": "4c295de7",
   "metadata": {},
   "outputs": [
    {
     "name": "stdout",
     "output_type": "stream",
     "text": [
      "i didnt feel humiliated\n",
      "==================================================\n",
      "[2, 182, 10, 1047, 4, 2, 25, 2152, 11, 8224]\n"
     ]
    }
   ],
   "source": [
    "print(X_train[0])\n",
    "print(\"=\"*50)\n",
    "print(train_sequences[0])"
   ]
  },
  {
   "cell_type": "markdown",
   "id": "b3467e2d",
   "metadata": {},
   "source": [
    "- 위 값을 보면, X_train[0]과 train_sequences[0] 값은 서로 관계가 없다는 것을 알 수 있음\n",
    "- 단어 사전에서 182번에 해당하는 단어는 'started' 임"
   ]
  },
  {
   "cell_type": "markdown",
   "id": "7fb10083",
   "metadata": {},
   "source": [
    "## 테스트(texts_to_sequences)"
   ]
  },
  {
   "cell_type": "code",
   "execution_count": 22,
   "id": "9421dcfe",
   "metadata": {},
   "outputs": [
    {
     "name": "stdout",
     "output_type": "stream",
     "text": [
      "17153\n",
      "['<oov>', 'i', 'feel', 'and', 'to']\n"
     ]
    }
   ],
   "source": [
    "# key값을 리스트로 가져오기\n",
    "list_key = [k for k in word_to_index.keys()]\n",
    "print(len(list_key))\n",
    "print(list_key[:5])"
   ]
  },
  {
   "cell_type": "code",
   "execution_count": 23,
   "id": "542bb8fe",
   "metadata": {},
   "outputs": [
    {
     "data": {
      "text/plain": [
       "['im', 'feeling', 'really', 'good', 'about', 'it']"
      ]
     },
     "execution_count": 23,
     "metadata": {},
     "output_type": "execute_result"
    }
   ],
   "source": [
    "# train_sequences[10]에 대한 문장 알아보기\n",
    "# word_to_index 에서는 인덱스값이 1부터 시작하기 때문에 1을 빼 줌\n",
    "sample = [list_key[i-1] for i in train_sequences[10]]\n",
    "sample"
   ]
  },
  {
   "cell_type": "code",
   "execution_count": 24,
   "id": "9d002a4c",
   "metadata": {},
   "outputs": [
    {
     "data": {
      "text/plain": [
       "7661    im feeling really good about it\n",
       "Name: Text, dtype: object"
      ]
     },
     "execution_count": 24,
     "metadata": {},
     "output_type": "execute_result"
    }
   ],
   "source": [
    "# train_sequences[10]를 숫자로 변경하기 전 text 문장\n",
    "X_train[X_train.str.contains('im feeling really good about it')]"
   ]
  },
  {
   "cell_type": "markdown",
   "id": "b56687f9",
   "metadata": {},
   "source": [
    "**정리**\n",
    "- '\\<oov>\\'는 사전에 없는 단어를 뜻함 (단어수 제한 시 사전에 없는 단어 등장 시에 처리되는 값)\n",
    "- 또한, X_train을 숫자로 변경하는 과정에서 순서가 바뀜 (X_train[0]과 train_sequences[0] 값은 다름)"
   ]
  },
  {
   "cell_type": "markdown",
   "id": "adad115c",
   "metadata": {},
   "source": [
    "# Padding"
   ]
  },
  {
   "cell_type": "code",
   "execution_count": 26,
   "id": "d10917c9",
   "metadata": {},
   "outputs": [
    {
     "data": {
      "text/plain": [
       "(66, 62)"
      ]
     },
     "execution_count": 26,
     "metadata": {},
     "output_type": "execute_result"
    }
   ],
   "source": [
    "# 시퀀스 길이 최댓값 \n",
    "max([len(x) for x in train_sequences]), max([len(y) for y in test_sequences])"
   ]
  },
  {
   "cell_type": "code",
   "execution_count": 27,
   "id": "f21677af",
   "metadata": {},
   "outputs": [
    {
     "data": {
      "text/plain": [
       "((17167, 70), (4292, 70))"
      ]
     },
     "execution_count": 27,
     "metadata": {},
     "output_type": "execute_result"
    }
   ],
   "source": [
    "from tensorflow.keras.preprocessing.sequence import pad_sequences\n",
    "\n",
    "# 길이를 sequences 길이를 고려하여 설정\n",
    "max_length = 70\n",
    "# 빈 값(0)을 뒤에 오도록 설정\n",
    "padding_type = \"post\"\n",
    "\n",
    "X_train_sp = pad_sequences(train_sequences, maxlen=max_length, padding=padding_type)\n",
    "X_test_sp = pad_sequences(test_sequences, maxlen=max_length, padding=padding_type)\n",
    "\n",
    "X_train_sp.shape, X_test_sp.shape"
   ]
  },
  {
   "cell_type": "code",
   "execution_count": 28,
   "id": "f25f0850",
   "metadata": {},
   "outputs": [
    {
     "data": {
      "text/plain": [
       "array([   2,  182,   10, 1047,    4,    2,   25, 2152,   11, 8224,    0,\n",
       "          0,    0,    0,    0,    0,    0,    0,    0,    0,    0,    0,\n",
       "          0,    0,    0,    0,    0,    0,    0,    0,    0,    0,    0,\n",
       "          0,    0,    0,    0,    0,    0,    0,    0,    0,    0,    0,\n",
       "          0,    0,    0,    0,    0,    0,    0,    0,    0,    0,    0,\n",
       "          0,    0,    0,    0,    0,    0,    0,    0,    0,    0,    0,\n",
       "          0,    0,    0,    0], dtype=int32)"
      ]
     },
     "metadata": {},
     "output_type": "display_data"
    },
    {
     "data": {
      "text/plain": [
       "array([  79,    7,   10,    1,    1,   65,  229,   19,   75,    8,   52,\n",
       "        615,  940,   51,    2,   77,  617, 7200,   52,   12,  123,    1,\n",
       "       4608,    0,    0,    0,    0,    0,    0,    0,    0,    0,    0,\n",
       "          0,    0,    0,    0,    0,    0,    0,    0,    0,    0,    0,\n",
       "          0,    0,    0,    0,    0,    0,    0,    0,    0,    0,    0,\n",
       "          0,    0,    0,    0,    0,    0,    0,    0,    0,    0,    0,\n",
       "          0,    0,    0,    0], dtype=int32)"
      ]
     },
     "metadata": {},
     "output_type": "display_data"
    }
   ],
   "source": [
    "display(X_train_sp[0])\n",
    "display(X_test_sp[0])"
   ]
  },
  {
   "cell_type": "markdown",
   "id": "747c1124",
   "metadata": {},
   "source": [
    "# Modeling"
   ]
  },
  {
   "cell_type": "code",
   "execution_count": 29,
   "id": "7738f9f5",
   "metadata": {},
   "outputs": [],
   "source": [
    "from tensorflow.keras import Sequential\n",
    "from tensorflow.keras.layers import Dense, Embedding, SimpleRNN, GRU, Bidirectional, LSTM, Dropout, BatchNormalization"
   ]
  },
  {
   "cell_type": "code",
   "execution_count": 30,
   "id": "0a3f9dd4",
   "metadata": {},
   "outputs": [],
   "source": [
    "# 임베딩할 벡터 차원 설정\n",
    "embedding_dim = 64\n",
    "\n",
    "# 정답값을 n_class 변수에 할당\n",
    "n_class = y_train.shape[1]"
   ]
  },
  {
   "cell_type": "code",
   "execution_count": 31,
   "id": "e5980601",
   "metadata": {},
   "outputs": [
    {
     "data": {
      "text/plain": [
       "('임베딩할 벡터 차원', 64, '정답값 개수', 6)"
      ]
     },
     "execution_count": 31,
     "metadata": {},
     "output_type": "execute_result"
    }
   ],
   "source": [
    "\"임베딩할 벡터 차원\", embedding_dim, \"정답값 개수\", n_class"
   ]
  },
  {
   "cell_type": "markdown",
   "id": "02cf98ab",
   "metadata": {},
   "source": [
    "## Train, Validation 데이터셋 나누기"
   ]
  },
  {
   "cell_type": "code",
   "execution_count": 32,
   "id": "f93e810c",
   "metadata": {},
   "outputs": [
    {
     "data": {
      "text/plain": [
       "((13733, 70), (13733, 6), (3434, 70), (3434, 6))"
      ]
     },
     "execution_count": 32,
     "metadata": {},
     "output_type": "execute_result"
    }
   ],
   "source": [
    "# 균형있게 학습시키기 위해 train_test_split 을 이용하여 train, validation 을 나눈다.\n",
    "X_train_val, X_valid, y_train_val, y_valid = train_test_split(X_train_sp, y_train,\n",
    "                                                              test_size=.2, random_state=42, stratify=y_train)\n",
    "X_train_val.shape, y_train_val.shape, X_valid.shape, y_valid.shape"
   ]
  },
  {
   "cell_type": "markdown",
   "id": "15338446",
   "metadata": {},
   "source": [
    "## simple RNN"
   ]
  },
  {
   "cell_type": "markdown",
   "id": "76558adf",
   "metadata": {},
   "source": [
    "### 레이어 쌓기"
   ]
  },
  {
   "cell_type": "code",
   "execution_count": 35,
   "id": "12423e43",
   "metadata": {},
   "outputs": [
    {
     "name": "stdout",
     "output_type": "stream",
     "text": [
      "Model: \"sequential_1\"\n",
      "_________________________________________________________________\n",
      " Layer (type)                Output Shape              Param #   \n",
      "=================================================================\n",
      " embedding_1 (Embedding)     (None, 70, 64)            640000    \n",
      "                                                                 \n",
      " bidirectional_2 (Bidirectio  (None, 70, 64)           6208      \n",
      " nal)                                                            \n",
      "                                                                 \n",
      " bidirectional_3 (Bidirectio  (None, 64)               6208      \n",
      " nal)                                                            \n",
      "                                                                 \n",
      " dense_2 (Dense)             (None, 16)                1040      \n",
      "                                                                 \n",
      " dense_3 (Dense)             (None, 6)                 102       \n",
      "                                                                 \n",
      "=================================================================\n",
      "Total params: 653,558\n",
      "Trainable params: 653,558\n",
      "Non-trainable params: 0\n",
      "_________________________________________________________________\n"
     ]
    }
   ],
   "source": [
    "# Simple RNN 레이어를 사용한 모델을 정의\n",
    "model1 = Sequential()\n",
    "# 입력-임베딩층\n",
    "model1.add(Embedding(input_dim=vocab_size, \n",
    "                     output_dim=embedding_dim, \n",
    "                     input_length=max_length))\n",
    "model1.add(Bidirectional(SimpleRNN(units=32, return_sequences=True)))\n",
    "model1.add(Bidirectional(SimpleRNN(units=32)))\n",
    "model1.add(Dense(units=16, activation='relu'))\n",
    "# 출력층\n",
    "model1.add(Dense(units=n_class, activation=\"softmax\"))\n",
    "model1.summary()"
   ]
  },
  {
   "cell_type": "markdown",
   "id": "c3e34bc7",
   "metadata": {},
   "source": [
    "### 컴파일"
   ]
  },
  {
   "cell_type": "code",
   "execution_count": 36,
   "id": "52fa41e7",
   "metadata": {},
   "outputs": [],
   "source": [
    "model1.compile(optimizer=\"adam\", loss=\"categorical_crossentropy\", metrics=\"accuracy\")"
   ]
  },
  {
   "cell_type": "markdown",
   "id": "a9353263",
   "metadata": {},
   "source": [
    "### 학습"
   ]
  },
  {
   "cell_type": "code",
   "execution_count": 37,
   "id": "e6615c5e",
   "metadata": {},
   "outputs": [],
   "source": [
    "from tensorflow.keras.callbacks import EarlyStopping\n",
    "\n",
    "early_stop = EarlyStopping(monitor='val_loss', patience=5)"
   ]
  },
  {
   "cell_type": "code",
   "execution_count": 38,
   "id": "a0ea7f70",
   "metadata": {},
   "outputs": [
    {
     "name": "stdout",
     "output_type": "stream",
     "text": [
      "Epoch 1/100\n",
      "430/430 [==============================] - 107s 241ms/step - loss: 1.5315 - accuracy: 0.3848 - val_loss: 1.3115 - val_accuracy: 0.5134\n",
      "Epoch 2/100\n",
      "430/430 [==============================] - 104s 242ms/step - loss: 0.9275 - accuracy: 0.6575 - val_loss: 0.8997 - val_accuracy: 0.6887\n",
      "Epoch 3/100\n",
      "430/430 [==============================] - 113s 263ms/step - loss: 0.4267 - accuracy: 0.8537 - val_loss: 0.9300 - val_accuracy: 0.7006\n",
      "Epoch 4/100\n",
      "430/430 [==============================] - 118s 273ms/step - loss: 0.2010 - accuracy: 0.9373 - val_loss: 1.1034 - val_accuracy: 0.6858\n",
      "Epoch 5/100\n",
      "430/430 [==============================] - 126s 294ms/step - loss: 0.1056 - accuracy: 0.9712 - val_loss: 1.2324 - val_accuracy: 0.6904\n",
      "Epoch 6/100\n",
      "430/430 [==============================] - 117s 272ms/step - loss: 0.0870 - accuracy: 0.9750 - val_loss: 1.5015 - val_accuracy: 0.6587\n",
      "Epoch 7/100\n",
      "430/430 [==============================] - 121s 281ms/step - loss: 0.0688 - accuracy: 0.9814 - val_loss: 1.4216 - val_accuracy: 0.6893\n"
     ]
    }
   ],
   "source": [
    "# 모델 학습을 실행합니다.\n",
    "history1 = model1.fit(X_train_val, y_train_val\n",
    "                    , validation_data=(X_valid, y_valid), epochs=100, callbacks=[early_stop])"
   ]
  },
  {
   "cell_type": "markdown",
   "id": "30953d7c",
   "metadata": {},
   "source": [
    "### 결과 확인"
   ]
  },
  {
   "cell_type": "code",
   "execution_count": 39,
   "id": "f772ac34",
   "metadata": {},
   "outputs": [
    {
     "data": {
      "text/html": [
       "<div>\n",
       "<style scoped>\n",
       "    .dataframe tbody tr th:only-of-type {\n",
       "        vertical-align: middle;\n",
       "    }\n",
       "\n",
       "    .dataframe tbody tr th {\n",
       "        vertical-align: top;\n",
       "    }\n",
       "\n",
       "    .dataframe thead th {\n",
       "        text-align: right;\n",
       "    }\n",
       "</style>\n",
       "<table border=\"1\" class=\"dataframe\">\n",
       "  <thead>\n",
       "    <tr style=\"text-align: right;\">\n",
       "      <th></th>\n",
       "      <th>loss</th>\n",
       "      <th>accuracy</th>\n",
       "      <th>val_loss</th>\n",
       "      <th>val_accuracy</th>\n",
       "    </tr>\n",
       "  </thead>\n",
       "  <tbody>\n",
       "    <tr>\n",
       "      <th>0</th>\n",
       "      <td>1.531525</td>\n",
       "      <td>0.384839</td>\n",
       "      <td>1.311515</td>\n",
       "      <td>0.513395</td>\n",
       "    </tr>\n",
       "    <tr>\n",
       "      <th>1</th>\n",
       "      <td>0.927488</td>\n",
       "      <td>0.657467</td>\n",
       "      <td>0.899671</td>\n",
       "      <td>0.688701</td>\n",
       "    </tr>\n",
       "    <tr>\n",
       "      <th>2</th>\n",
       "      <td>0.426734</td>\n",
       "      <td>0.853710</td>\n",
       "      <td>0.929955</td>\n",
       "      <td>0.700641</td>\n",
       "    </tr>\n",
       "    <tr>\n",
       "      <th>3</th>\n",
       "      <td>0.200981</td>\n",
       "      <td>0.937304</td>\n",
       "      <td>1.103402</td>\n",
       "      <td>0.685789</td>\n",
       "    </tr>\n",
       "    <tr>\n",
       "      <th>4</th>\n",
       "      <td>0.105608</td>\n",
       "      <td>0.971237</td>\n",
       "      <td>1.232419</td>\n",
       "      <td>0.690448</td>\n",
       "    </tr>\n",
       "    <tr>\n",
       "      <th>5</th>\n",
       "      <td>0.087030</td>\n",
       "      <td>0.975024</td>\n",
       "      <td>1.501483</td>\n",
       "      <td>0.658707</td>\n",
       "    </tr>\n",
       "    <tr>\n",
       "      <th>6</th>\n",
       "      <td>0.068812</td>\n",
       "      <td>0.981432</td>\n",
       "      <td>1.421589</td>\n",
       "      <td>0.689284</td>\n",
       "    </tr>\n",
       "  </tbody>\n",
       "</table>\n",
       "</div>"
      ],
      "text/plain": [
       "       loss  accuracy  val_loss  val_accuracy\n",
       "0  1.531525  0.384839  1.311515      0.513395\n",
       "1  0.927488  0.657467  0.899671      0.688701\n",
       "2  0.426734  0.853710  0.929955      0.700641\n",
       "3  0.200981  0.937304  1.103402      0.685789\n",
       "4  0.105608  0.971237  1.232419      0.690448\n",
       "5  0.087030  0.975024  1.501483      0.658707\n",
       "6  0.068812  0.981432  1.421589      0.689284"
      ]
     },
     "execution_count": 39,
     "metadata": {},
     "output_type": "execute_result"
    }
   ],
   "source": [
    "df_hist1 = pd.DataFrame(history1.history)\n",
    "df_hist1"
   ]
  },
  {
   "cell_type": "code",
   "execution_count": 41,
   "id": "65d85b31",
   "metadata": {},
   "outputs": [
    {
     "data": {
      "image/png": "[encoded data removed]",
      "text/plain": [
       "<Figure size 1000x300 with 2 Axes>"
      ]
     },
     "metadata": {},
     "output_type": "display_data"
    }
   ],
   "source": [
    "fig, axes = plt.subplots(nrows=1, ncols=2, figsize=(10, 3))\n",
    "\n",
    "df_hist1[[\"loss\", \"val_loss\"]].plot(ax=axes[0]).set_title(\"loss : val_loss\")\n",
    "df_hist1[[\"accuracy\", \"val_accuracy\"]].plot(ax=axes[1]).set_title(\"accuracy : val_accuracy\");"
   ]
  },
  {
   "cell_type": "markdown",
   "id": "15bdbe03",
   "metadata": {},
   "source": [
    "### 예측"
   ]
  },
  {
   "cell_type": "code",
   "execution_count": 42,
   "id": "1b189ccf",
   "metadata": {},
   "outputs": [
    {
     "name": "stdout",
     "output_type": "stream",
     "text": [
      "135/135 [==============================] - 6s 39ms/step\n"
     ]
    },
    {
     "data": {
      "text/plain": [
       "array([[9.7172576e-01, 1.3485386e-08, 8.3828444e-04, 2.7236795e-02,\n",
       "        1.9915673e-04, 5.9935189e-08],\n",
       "       [9.0555358e-04, 1.3057262e-04, 6.9827356e-06, 2.1536572e-08,\n",
       "        9.9895680e-01, 5.4408962e-09],\n",
       "       [3.0677788e-06, 3.4087485e-08, 9.9997747e-01, 1.0887178e-05,\n",
       "        8.3153418e-06, 2.7506982e-07],\n",
       "       [9.9430931e-01, 1.2033119e-07, 4.6165846e-04, 2.6491217e-03,\n",
       "        2.5798378e-03, 2.7203606e-08],\n",
       "       [1.2050617e-01, 1.8202982e-08, 8.5947275e-01, 1.9171262e-02,\n",
       "        8.4963039e-04, 1.2056321e-07]], dtype=float32)"
      ]
     },
     "execution_count": 42,
     "metadata": {},
     "output_type": "execute_result"
    }
   ],
   "source": [
    "y_pred = model1.predict(X_test_sp)\n",
    "y_pred[:5]"
   ]
  },
  {
   "cell_type": "markdown",
   "id": "95b3db5b",
   "metadata": {},
   "source": [
    "### 평가"
   ]
  },
  {
   "cell_type": "code",
   "execution_count": 43,
   "id": "42160fae",
   "metadata": {},
   "outputs": [
    {
     "data": {
      "text/plain": [
       "array([0, 4, 2, 0, 2])"
      ]
     },
     "execution_count": 43,
     "metadata": {},
     "output_type": "execute_result"
    }
   ],
   "source": [
    "y_predict = np.argmax(y_pred, axis=1)\n",
    "y_predict[:5]"
   ]
  },
  {
   "cell_type": "code",
   "execution_count": 44,
   "id": "bd6ed41c",
   "metadata": {},
   "outputs": [
    {
     "data": {
      "text/plain": [
       "array([0, 4, 2, 0, 2])"
      ]
     },
     "execution_count": 44,
     "metadata": {},
     "output_type": "execute_result"
    }
   ],
   "source": [
    "y_test_val = np.argmax(y_test.values, axis=1)\n",
    "y_test_val[:5]"
   ]
  },
  {
   "cell_type": "code",
   "execution_count": 45,
   "id": "a0999ece",
   "metadata": {},
   "outputs": [
    {
     "data": {
      "text/plain": [
       "0.6821994408201305"
      ]
     },
     "execution_count": 45,
     "metadata": {},
     "output_type": "execute_result"
    }
   ],
   "source": [
    "# 성능 확인\n",
    "(y_test_val == y_predict).mean()"
   ]
  },
  {
   "cell_type": "code",
   "execution_count": 58,
   "id": "a01f7467",
   "metadata": {},
   "outputs": [
    {
     "name": "stdout",
     "output_type": "stream",
     "text": [
      "텍스트 : i feel like i meet the most subtly obnoxious annoying people in the universe\n",
      "================================================================================\n",
      "예측 감정 : 0\n",
      "정답 감정 : 0\n"
     ]
    }
   ],
   "source": [
    "# 특정 텍스트에 대해 감정분류가 잘 되었는지 확인\n",
    "print(\"텍스트 :\", X_test.iloc[3])\n",
    "print(\"=\"*80)\n",
    "print(\"예측 감정 :\", y_predict[3])\n",
    "print(\"정답 감정 :\", y_test_val[3])"
   ]
  },
  {
   "cell_type": "markdown",
   "id": "ce4dea70",
   "metadata": {},
   "source": [
    "- i feel like i meet the most subtly obnoxious annoying people in the universe\n",
    "  - 우주에서 가장 미묘하게 짜증나는 사람을 만난 것 같은 기분이다.\n",
    " \n",
    "- 예측 감정 : anger(0) \n",
    "- 정답 감정 : anger(0)\n",
    "<br>: 감정 분석이 제대로 이루어짐"
   ]
  },
  {
   "cell_type": "markdown",
   "id": "9552afa5",
   "metadata": {},
   "source": [
    "## LSTM (1)"
   ]
  },
  {
   "cell_type": "markdown",
   "id": "aca13295",
   "metadata": {},
   "source": [
    "### 레이어 쌓기"
   ]
  },
  {
   "cell_type": "code",
   "execution_count": 59,
   "id": "0af28f03",
   "metadata": {},
   "outputs": [
    {
     "name": "stdout",
     "output_type": "stream",
     "text": [
      "Model: \"sequential_2\"\n",
      "_________________________________________________________________\n",
      " Layer (type)                Output Shape              Param #   \n",
      "=================================================================\n",
      " embedding_2 (Embedding)     (None, 70, 64)            640000    \n",
      "                                                                 \n",
      " bidirectional_4 (Bidirectio  (None, 70, 64)           24832     \n",
      " nal)                                                            \n",
      "                                                                 \n",
      " bidirectional_5 (Bidirectio  (None, 64)               24832     \n",
      " nal)                                                            \n",
      "                                                                 \n",
      " dense_4 (Dense)             (None, 16)                1040      \n",
      "                                                                 \n",
      " dense_5 (Dense)             (None, 6)                 102       \n",
      "                                                                 \n",
      "=================================================================\n",
      "Total params: 690,806\n",
      "Trainable params: 690,806\n",
      "Non-trainable params: 0\n",
      "_________________________________________________________________\n"
     ]
    }
   ],
   "source": [
    "model2 = Sequential()\n",
    "# 입력-임베딩층\n",
    "model2.add(Embedding(input_dim=vocab_size, \n",
    "                     output_dim=embedding_dim, \n",
    "                     input_length=max_length))\n",
    "model2.add(Bidirectional(LSTM(units=32, return_sequences=True)))\n",
    "model2.add(Bidirectional(LSTM(units=32)))\n",
    "model2.add(Dense(units=16, activation='relu'))\n",
    "# 출력층\n",
    "model2.add(Dense(units=n_class, activation=\"softmax\"))\n",
    "model2.summary()"
   ]
  },
  {
   "cell_type": "markdown",
   "id": "3ab302ba",
   "metadata": {},
   "source": [
    "### 컴파일"
   ]
  },
  {
   "cell_type": "code",
   "execution_count": 60,
   "id": "937f9d34",
   "metadata": {},
   "outputs": [],
   "source": [
    "model2.compile(optimizer=\"adam\", loss=\"categorical_crossentropy\", metrics=\"accuracy\")"
   ]
  },
  {
   "cell_type": "markdown",
   "id": "16e6ed7a",
   "metadata": {},
   "source": [
    "### 학습"
   ]
  },
  {
   "cell_type": "code",
   "execution_count": 61,
   "id": "2366d6da",
   "metadata": {},
   "outputs": [],
   "source": [
    "from tensorflow.keras.callbacks import EarlyStopping\n",
    "\n",
    "early_stop = EarlyStopping(monitor='val_loss', patience=10)"
   ]
  },
  {
   "cell_type": "code",
   "execution_count": 62,
   "id": "55635791",
   "metadata": {},
   "outputs": [
    {
     "name": "stdout",
     "output_type": "stream",
     "text": [
      "Epoch 1/100\n"
     ]
    },
    {
     "name": "stderr",
     "output_type": "stream",
     "text": [
      "2022-12-18 14:30:18.202765: I tensorflow/stream_executor/cuda/cuda_dnn.cc:424] Loaded cuDNN version 8600\n"
     ]
    },
    {
     "name": "stdout",
     "output_type": "stream",
     "text": [
      "430/430 [==============================] - 22s 38ms/step - loss: 1.2259 - accuracy: 0.5083 - val_loss: 0.7219 - val_accuracy: 0.7443\n",
      "Epoch 2/100\n",
      "430/430 [==============================] - 21s 50ms/step - loss: 0.4602 - accuracy: 0.8442 - val_loss: 0.4821 - val_accuracy: 0.8413\n",
      "Epoch 3/100\n",
      "430/430 [==============================] - 19s 44ms/step - loss: 0.2446 - accuracy: 0.9237 - val_loss: 0.3889 - val_accuracy: 0.8727\n",
      "Epoch 4/100\n",
      "430/430 [==============================] - 20s 48ms/step - loss: 0.1558 - accuracy: 0.9508 - val_loss: 0.4087 - val_accuracy: 0.8678\n",
      "Epoch 5/100\n",
      "430/430 [==============================] - 18s 41ms/step - loss: 0.1129 - accuracy: 0.9627 - val_loss: 0.3899 - val_accuracy: 0.8911\n",
      "Epoch 6/100\n",
      "430/430 [==============================] - 19s 44ms/step - loss: 0.0783 - accuracy: 0.9752 - val_loss: 0.4226 - val_accuracy: 0.8803\n",
      "Epoch 7/100\n",
      "430/430 [==============================] - 21s 49ms/step - loss: 0.0663 - accuracy: 0.9784 - val_loss: 0.4175 - val_accuracy: 0.8867\n",
      "Epoch 8/100\n",
      "430/430 [==============================] - 12s 28ms/step - loss: 0.0614 - accuracy: 0.9809 - val_loss: 0.4774 - val_accuracy: 0.8789\n",
      "Epoch 9/100\n",
      "430/430 [==============================] - 16s 38ms/step - loss: 0.0535 - accuracy: 0.9814 - val_loss: 0.4777 - val_accuracy: 0.8873\n",
      "Epoch 10/100\n",
      "430/430 [==============================] - 21s 49ms/step - loss: 0.0426 - accuracy: 0.9853 - val_loss: 0.4488 - val_accuracy: 0.8931\n",
      "Epoch 11/100\n",
      "430/430 [==============================] - 21s 49ms/step - loss: 0.0330 - accuracy: 0.9886 - val_loss: 0.4880 - val_accuracy: 0.8891\n",
      "Epoch 12/100\n",
      "430/430 [==============================] - 21s 49ms/step - loss: 0.0309 - accuracy: 0.9895 - val_loss: 0.5398 - val_accuracy: 0.8832\n",
      "Epoch 13/100\n",
      "430/430 [==============================] - 21s 49ms/step - loss: 0.0366 - accuracy: 0.9875 - val_loss: 0.5434 - val_accuracy: 0.8838\n"
     ]
    }
   ],
   "source": [
    "history2 = model2.fit(X_train_val, y_train_val\n",
    "                    , validation_data=(X_valid, y_valid), epochs=100, callbacks=[early_stop])"
   ]
  },
  {
   "cell_type": "markdown",
   "id": "9c0d87b5",
   "metadata": {},
   "source": [
    "### 결과 확인"
   ]
  },
  {
   "cell_type": "code",
   "execution_count": 63,
   "id": "a3333979",
   "metadata": {},
   "outputs": [
    {
     "data": {
      "text/html": [
       "<div>\n",
       "<style scoped>\n",
       "    .dataframe tbody tr th:only-of-type {\n",
       "        vertical-align: middle;\n",
       "    }\n",
       "\n",
       "    .dataframe tbody tr th {\n",
       "        vertical-align: top;\n",
       "    }\n",
       "\n",
       "    .dataframe thead th {\n",
       "        text-align: right;\n",
       "    }\n",
       "</style>\n",
       "<table border=\"1\" class=\"dataframe\">\n",
       "  <thead>\n",
       "    <tr style=\"text-align: right;\">\n",
       "      <th></th>\n",
       "      <th>loss</th>\n",
       "      <th>accuracy</th>\n",
       "      <th>val_loss</th>\n",
       "      <th>val_accuracy</th>\n",
       "    </tr>\n",
       "  </thead>\n",
       "  <tbody>\n",
       "    <tr>\n",
       "      <th>0</th>\n",
       "      <td>1.225949</td>\n",
       "      <td>0.508338</td>\n",
       "      <td>0.721945</td>\n",
       "      <td>0.744321</td>\n",
       "    </tr>\n",
       "    <tr>\n",
       "      <th>1</th>\n",
       "      <td>0.460212</td>\n",
       "      <td>0.844244</td>\n",
       "      <td>0.482124</td>\n",
       "      <td>0.841293</td>\n",
       "    </tr>\n",
       "    <tr>\n",
       "      <th>2</th>\n",
       "      <td>0.244594</td>\n",
       "      <td>0.923687</td>\n",
       "      <td>0.388921</td>\n",
       "      <td>0.872743</td>\n",
       "    </tr>\n",
       "    <tr>\n",
       "      <th>3</th>\n",
       "      <td>0.155815</td>\n",
       "      <td>0.950848</td>\n",
       "      <td>0.408710</td>\n",
       "      <td>0.867793</td>\n",
       "    </tr>\n",
       "    <tr>\n",
       "      <th>4</th>\n",
       "      <td>0.112857</td>\n",
       "      <td>0.962718</td>\n",
       "      <td>0.389854</td>\n",
       "      <td>0.891089</td>\n",
       "    </tr>\n",
       "    <tr>\n",
       "      <th>5</th>\n",
       "      <td>0.078296</td>\n",
       "      <td>0.975242</td>\n",
       "      <td>0.422590</td>\n",
       "      <td>0.880315</td>\n",
       "    </tr>\n",
       "    <tr>\n",
       "      <th>6</th>\n",
       "      <td>0.066258</td>\n",
       "      <td>0.978446</td>\n",
       "      <td>0.417538</td>\n",
       "      <td>0.886721</td>\n",
       "    </tr>\n",
       "    <tr>\n",
       "      <th>7</th>\n",
       "      <td>0.061388</td>\n",
       "      <td>0.980922</td>\n",
       "      <td>0.477382</td>\n",
       "      <td>0.878858</td>\n",
       "    </tr>\n",
       "    <tr>\n",
       "      <th>8</th>\n",
       "      <td>0.053455</td>\n",
       "      <td>0.981432</td>\n",
       "      <td>0.477730</td>\n",
       "      <td>0.887303</td>\n",
       "    </tr>\n",
       "    <tr>\n",
       "      <th>9</th>\n",
       "      <td>0.042590</td>\n",
       "      <td>0.985291</td>\n",
       "      <td>0.448805</td>\n",
       "      <td>0.893128</td>\n",
       "    </tr>\n",
       "    <tr>\n",
       "      <th>10</th>\n",
       "      <td>0.032996</td>\n",
       "      <td>0.988640</td>\n",
       "      <td>0.487966</td>\n",
       "      <td>0.889051</td>\n",
       "    </tr>\n",
       "    <tr>\n",
       "      <th>11</th>\n",
       "      <td>0.030852</td>\n",
       "      <td>0.989514</td>\n",
       "      <td>0.539758</td>\n",
       "      <td>0.883227</td>\n",
       "    </tr>\n",
       "    <tr>\n",
       "      <th>12</th>\n",
       "      <td>0.036593</td>\n",
       "      <td>0.987475</td>\n",
       "      <td>0.543375</td>\n",
       "      <td>0.883809</td>\n",
       "    </tr>\n",
       "  </tbody>\n",
       "</table>\n",
       "</div>"
      ],
      "text/plain": [
       "        loss  accuracy  val_loss  val_accuracy\n",
       "0   1.225949  0.508338  0.721945      0.744321\n",
       "1   0.460212  0.844244  0.482124      0.841293\n",
       "2   0.244594  0.923687  0.388921      0.872743\n",
       "3   0.155815  0.950848  0.408710      0.867793\n",
       "4   0.112857  0.962718  0.389854      0.891089\n",
       "5   0.078296  0.975242  0.422590      0.880315\n",
       "6   0.066258  0.978446  0.417538      0.886721\n",
       "7   0.061388  0.980922  0.477382      0.878858\n",
       "8   0.053455  0.981432  0.477730      0.887303\n",
       "9   0.042590  0.985291  0.448805      0.893128\n",
       "10  0.032996  0.988640  0.487966      0.889051\n",
       "11  0.030852  0.989514  0.539758      0.883227\n",
       "12  0.036593  0.987475  0.543375      0.883809"
      ]
     },
     "execution_count": 63,
     "metadata": {},
     "output_type": "execute_result"
    }
   ],
   "source": [
    "df_hist2 = pd.DataFrame(history2.history)\n",
    "df_hist2"
   ]
  },
  {
   "cell_type": "code",
   "execution_count": 64,
   "id": "f3b54ae6",
   "metadata": {},
   "outputs": [
    {
     "data": {
      "image/png": "[encoded data removed]",
      "text/plain": [
       "<Figure size 1000x300 with 2 Axes>"
      ]
     },
     "metadata": {},
     "output_type": "display_data"
    }
   ],
   "source": [
    "fig, axes = plt.subplots(nrows=1, ncols=2, figsize=(10, 3))\n",
    "\n",
    "df_hist2[[\"loss\", \"val_loss\"]].plot(ax=axes[0]).set_title(\"loss : val_loss\")\n",
    "df_hist2[[\"accuracy\", \"val_accuracy\"]].plot(ax=axes[1]).set_title(\"accuracy : val_accuracy\");"
   ]
  },
  {
   "cell_type": "markdown",
   "id": "f180d5f5",
   "metadata": {},
   "source": [
    "### 예측"
   ]
  },
  {
   "cell_type": "code",
   "execution_count": 65,
   "id": "51bd4a46",
   "metadata": {},
   "outputs": [
    {
     "name": "stdout",
     "output_type": "stream",
     "text": [
      "135/135 [==============================] - 2s 9ms/step\n"
     ]
    },
    {
     "data": {
      "text/plain": [
       "array([[9.9917895e-01, 3.3601516e-04, 2.7804615e-06, 2.2147029e-09,\n",
       "        4.8174846e-04, 4.8446736e-07],\n",
       "       [7.1804585e-05, 8.0515201e-06, 3.0940719e-05, 3.3754506e-09,\n",
       "        9.9988914e-01, 1.4590862e-09],\n",
       "       [2.7867802e-04, 3.3537784e-04, 9.9596077e-01, 6.2592089e-04,\n",
       "        2.7274622e-03, 7.1746756e-05],\n",
       "       [9.9811459e-01, 7.1257167e-04, 8.7014796e-06, 1.1147051e-08,\n",
       "        1.1628415e-03, 1.2964974e-06],\n",
       "       [8.1256003e-05, 5.5239175e-04, 9.9806398e-01, 3.8364597e-04,\n",
       "        8.1324426e-04, 1.0545406e-04]], dtype=float32)"
      ]
     },
     "execution_count": 65,
     "metadata": {},
     "output_type": "execute_result"
    }
   ],
   "source": [
    "y_pred = model2.predict(X_test_sp)\n",
    "y_pred[:5]"
   ]
  },
  {
   "cell_type": "markdown",
   "id": "b7b11cef",
   "metadata": {},
   "source": [
    "### 평가"
   ]
  },
  {
   "cell_type": "code",
   "execution_count": 66,
   "id": "5c56b16c",
   "metadata": {},
   "outputs": [
    {
     "data": {
      "text/plain": [
       "array([0, 4, 2, 0, 2])"
      ]
     },
     "execution_count": 66,
     "metadata": {},
     "output_type": "execute_result"
    }
   ],
   "source": [
    "y_predict = np.argmax(y_pred, axis=1)\n",
    "y_predict[:5]"
   ]
  },
  {
   "cell_type": "code",
   "execution_count": 67,
   "id": "fcef2415",
   "metadata": {},
   "outputs": [
    {
     "data": {
      "text/plain": [
       "array([0, 4, 2, 0, 2])"
      ]
     },
     "execution_count": 67,
     "metadata": {},
     "output_type": "execute_result"
    }
   ],
   "source": [
    "y_test_val = np.argmax(y_test.values, axis=1)\n",
    "y_test_val[:5]"
   ]
  },
  {
   "cell_type": "code",
   "execution_count": 68,
   "id": "a9db6bec",
   "metadata": {},
   "outputs": [
    {
     "data": {
      "text/plain": [
       "0.8823392357875116"
      ]
     },
     "execution_count": 68,
     "metadata": {},
     "output_type": "execute_result"
    }
   ],
   "source": [
    "# 성능 확인\n",
    "(y_test_val == y_predict).mean()"
   ]
  },
  {
   "cell_type": "code",
   "execution_count": 72,
   "id": "9c085091",
   "metadata": {},
   "outputs": [
    {
     "name": "stdout",
     "output_type": "stream",
     "text": [
      "텍스트 : i feel like maybe he is going to stop loving me or maybe its true and im a terrible wife\n",
      "====================================================================================================\n",
      "예측 감정 : 2\n",
      "정답 감정 : 3\n"
     ]
    }
   ],
   "source": [
    "# 특정 텍스트에 대해 감정분류가 잘 되었는지 확인\n",
    "print(\"텍스트 :\", X_test.iloc[8])\n",
    "print(\"=\"*100)\n",
    "print(\"예측 감정 :\", y_predict[8])\n",
    "print(\"정답 감정 :\", y_test_val[8])"
   ]
  },
  {
   "cell_type": "markdown",
   "id": "946e1767",
   "metadata": {},
   "source": [
    "- i feel like maybe he is going to stop loving me or maybe its true and im a terrible wife\n",
    "  - 나는 어쩌면 그가 나를 사랑하는 것을 멈출지도 모른다는 생각이 든다. 또는 어쩌면 그것은 사실이고 나는 끔찍한 아내이다.\n",
    "\n",
    "\n",
    "- 예측 감정 : happy(2) \n",
    "- 정답 감정 : love(3)\n",
    "<br>: 감정 분석이 제대로 이루어지지않음"
   ]
  },
  {
   "cell_type": "code",
   "execution_count": 73,
   "id": "35f61773",
   "metadata": {},
   "outputs": [
    {
     "data": {
      "text/plain": [
       "array([1.8226340e-03, 1.0750751e-05, 5.6879020e-01, 4.1339728e-01,\n",
       "       1.5730012e-02, 2.4910446e-04], dtype=float32)"
      ]
     },
     "execution_count": 73,
     "metadata": {},
     "output_type": "execute_result"
    }
   ],
   "source": [
    "# 확률값으로 확인하기\n",
    "y_pred[8]"
   ]
  },
  {
   "cell_type": "markdown",
   "id": "6d2fe5d2",
   "metadata": {},
   "source": [
    "- 8번 인덱스에 위치한 텍스트에 대한 예측값은 가장 확률값이 큰 happy로 분류되었다.\n",
    "- 실제 감정인 love의 확률값과 크게 차이가 나지 않는다."
   ]
  },
  {
   "cell_type": "code",
   "execution_count": 75,
   "id": "a23066e4",
   "metadata": {},
   "outputs": [
    {
     "data": {
      "text/plain": [
       "0.15539292"
      ]
     },
     "execution_count": 75,
     "metadata": {},
     "output_type": "execute_result"
    }
   ],
   "source": [
    "y_pred[8][2] - y_pred[8][3]"
   ]
  },
  {
   "cell_type": "markdown",
   "id": "eb775bdd",
   "metadata": {},
   "source": [
    "- 0.15539292 차이로 인해 모델은 love가 아닌 happy로 분류했다."
   ]
  },
  {
   "cell_type": "markdown",
   "id": "4c5cbe73",
   "metadata": {},
   "source": [
    "## LSTM (2)"
   ]
  },
  {
   "cell_type": "markdown",
   "id": "3bedd1a9",
   "metadata": {},
   "source": [
    "### 레이어 쌓기"
   ]
  },
  {
   "cell_type": "code",
   "execution_count": 76,
   "id": "8825e247",
   "metadata": {},
   "outputs": [
    {
     "name": "stdout",
     "output_type": "stream",
     "text": [
      "Model: \"sequential_3\"\n",
      "_________________________________________________________________\n",
      " Layer (type)                Output Shape              Param #   \n",
      "=================================================================\n",
      " embedding_3 (Embedding)     (None, 70, 64)            640000    \n",
      "                                                                 \n",
      " bidirectional_6 (Bidirectio  (None, 70, 128)          66048     \n",
      " nal)                                                            \n",
      "                                                                 \n",
      " bidirectional_7 (Bidirectio  (None, 128)              98816     \n",
      " nal)                                                            \n",
      "                                                                 \n",
      " dense_6 (Dense)             (None, 32)                4128      \n",
      "                                                                 \n",
      " dense_7 (Dense)             (None, 32)                1056      \n",
      "                                                                 \n",
      " dense_8 (Dense)             (None, 6)                 198       \n",
      "                                                                 \n",
      "=================================================================\n",
      "Total params: 810,246\n",
      "Trainable params: 810,246\n",
      "Non-trainable params: 0\n",
      "_________________________________________________________________\n"
     ]
    }
   ],
   "source": [
    "model3 = Sequential()\n",
    "# 입력-임베딩층\n",
    "model3.add(Embedding(input_dim=vocab_size, \n",
    "                     output_dim=embedding_dim, \n",
    "                     input_length=max_length))\n",
    "model3.add(Bidirectional(LSTM(units=64, return_sequences=True)))\n",
    "model3.add(Bidirectional(LSTM(units=64)))\n",
    "model3.add(Dense(units=32, activation='selu'))\n",
    "model3.add(Dense(units=32, activation='selu'))\n",
    "# 출력층\n",
    "model3.add(Dense(units=n_class, activation=\"softmax\"))\n",
    "model3.summary()"
   ]
  },
  {
   "cell_type": "markdown",
   "id": "5f804b4c",
   "metadata": {},
   "source": [
    "### 컴파일"
   ]
  },
  {
   "cell_type": "code",
   "execution_count": 77,
   "id": "4171f027",
   "metadata": {},
   "outputs": [],
   "source": [
    "model3.compile(optimizer=\"adam\", loss=\"categorical_crossentropy\", metrics=\"accuracy\")"
   ]
  },
  {
   "cell_type": "markdown",
   "id": "b05b08c3",
   "metadata": {},
   "source": [
    "### 학습"
   ]
  },
  {
   "cell_type": "code",
   "execution_count": 78,
   "id": "903e2960",
   "metadata": {},
   "outputs": [],
   "source": [
    "from tensorflow.keras.callbacks import EarlyStopping\n",
    "\n",
    "early_stop = EarlyStopping(monitor='val_loss', patience=10)"
   ]
  },
  {
   "cell_type": "code",
   "execution_count": 79,
   "id": "a7d50fb2",
   "metadata": {},
   "outputs": [
    {
     "name": "stdout",
     "output_type": "stream",
     "text": [
      "Epoch 1/100\n",
      "430/430 [==============================] - 13s 20ms/step - loss: 1.1242 - accuracy: 0.5657 - val_loss: 0.6389 - val_accuracy: 0.7787\n",
      "Epoch 2/100\n",
      "430/430 [==============================] - 7s 17ms/step - loss: 0.3420 - accuracy: 0.8839 - val_loss: 0.3538 - val_accuracy: 0.8789\n",
      "Epoch 3/100\n",
      "430/430 [==============================] - 7s 17ms/step - loss: 0.1517 - accuracy: 0.9475 - val_loss: 0.2940 - val_accuracy: 0.8992\n",
      "Epoch 4/100\n",
      "430/430 [==============================] - 7s 17ms/step - loss: 0.0955 - accuracy: 0.9648 - val_loss: 0.3881 - val_accuracy: 0.8806\n",
      "Epoch 5/100\n",
      "430/430 [==============================] - 7s 17ms/step - loss: 0.0790 - accuracy: 0.9721 - val_loss: 0.3299 - val_accuracy: 0.8995\n",
      "Epoch 6/100\n",
      "430/430 [==============================] - 7s 17ms/step - loss: 0.0645 - accuracy: 0.9768 - val_loss: 0.3549 - val_accuracy: 0.9030\n",
      "Epoch 7/100\n",
      "430/430 [==============================] - 7s 17ms/step - loss: 0.0499 - accuracy: 0.9826 - val_loss: 0.3905 - val_accuracy: 0.8937\n",
      "Epoch 8/100\n",
      "430/430 [==============================] - 7s 17ms/step - loss: 0.0501 - accuracy: 0.9818 - val_loss: 0.3875 - val_accuracy: 0.8896\n",
      "Epoch 9/100\n",
      "430/430 [==============================] - 7s 17ms/step - loss: 0.0365 - accuracy: 0.9859 - val_loss: 0.4588 - val_accuracy: 0.8920\n",
      "Epoch 10/100\n",
      "430/430 [==============================] - 7s 17ms/step - loss: 0.0319 - accuracy: 0.9884 - val_loss: 0.4458 - val_accuracy: 0.8841\n",
      "Epoch 11/100\n",
      "430/430 [==============================] - 7s 17ms/step - loss: 0.0452 - accuracy: 0.9835 - val_loss: 0.4560 - val_accuracy: 0.8914\n",
      "Epoch 12/100\n",
      "430/430 [==============================] - 7s 17ms/step - loss: 0.0448 - accuracy: 0.9850 - val_loss: 0.3903 - val_accuracy: 0.9010\n",
      "Epoch 13/100\n",
      "430/430 [==============================] - 7s 17ms/step - loss: 0.0247 - accuracy: 0.9915 - val_loss: 0.4782 - val_accuracy: 0.8969\n"
     ]
    }
   ],
   "source": [
    "history3 = model3.fit(X_train_val, y_train_val\n",
    "                    , validation_data=(X_valid, y_valid), epochs=100, callbacks=[early_stop])"
   ]
  },
  {
   "cell_type": "markdown",
   "id": "979b9db8",
   "metadata": {},
   "source": [
    "### 결과 확인"
   ]
  },
  {
   "cell_type": "code",
   "execution_count": 80,
   "id": "fcbd5d09",
   "metadata": {},
   "outputs": [
    {
     "data": {
      "text/html": [
       "<div>\n",
       "<style scoped>\n",
       "    .dataframe tbody tr th:only-of-type {\n",
       "        vertical-align: middle;\n",
       "    }\n",
       "\n",
       "    .dataframe tbody tr th {\n",
       "        vertical-align: top;\n",
       "    }\n",
       "\n",
       "    .dataframe thead th {\n",
       "        text-align: right;\n",
       "    }\n",
       "</style>\n",
       "<table border=\"1\" class=\"dataframe\">\n",
       "  <thead>\n",
       "    <tr style=\"text-align: right;\">\n",
       "      <th></th>\n",
       "      <th>loss</th>\n",
       "      <th>accuracy</th>\n",
       "      <th>val_loss</th>\n",
       "      <th>val_accuracy</th>\n",
       "    </tr>\n",
       "  </thead>\n",
       "  <tbody>\n",
       "    <tr>\n",
       "      <th>0</th>\n",
       "      <td>1.124204</td>\n",
       "      <td>0.565718</td>\n",
       "      <td>0.638943</td>\n",
       "      <td>0.778684</td>\n",
       "    </tr>\n",
       "    <tr>\n",
       "      <th>1</th>\n",
       "      <td>0.342045</td>\n",
       "      <td>0.883856</td>\n",
       "      <td>0.353765</td>\n",
       "      <td>0.878858</td>\n",
       "    </tr>\n",
       "    <tr>\n",
       "      <th>2</th>\n",
       "      <td>0.151658</td>\n",
       "      <td>0.947499</td>\n",
       "      <td>0.294016</td>\n",
       "      <td>0.899243</td>\n",
       "    </tr>\n",
       "    <tr>\n",
       "      <th>3</th>\n",
       "      <td>0.095469</td>\n",
       "      <td>0.964829</td>\n",
       "      <td>0.388110</td>\n",
       "      <td>0.880606</td>\n",
       "    </tr>\n",
       "    <tr>\n",
       "      <th>4</th>\n",
       "      <td>0.078968</td>\n",
       "      <td>0.972111</td>\n",
       "      <td>0.329942</td>\n",
       "      <td>0.899534</td>\n",
       "    </tr>\n",
       "    <tr>\n",
       "      <th>5</th>\n",
       "      <td>0.064510</td>\n",
       "      <td>0.976844</td>\n",
       "      <td>0.354906</td>\n",
       "      <td>0.903029</td>\n",
       "    </tr>\n",
       "    <tr>\n",
       "      <th>6</th>\n",
       "      <td>0.049851</td>\n",
       "      <td>0.982597</td>\n",
       "      <td>0.390473</td>\n",
       "      <td>0.893710</td>\n",
       "    </tr>\n",
       "    <tr>\n",
       "      <th>7</th>\n",
       "      <td>0.050135</td>\n",
       "      <td>0.981796</td>\n",
       "      <td>0.387458</td>\n",
       "      <td>0.889633</td>\n",
       "    </tr>\n",
       "    <tr>\n",
       "      <th>8</th>\n",
       "      <td>0.036523</td>\n",
       "      <td>0.985873</td>\n",
       "      <td>0.458774</td>\n",
       "      <td>0.891963</td>\n",
       "    </tr>\n",
       "    <tr>\n",
       "      <th>9</th>\n",
       "      <td>0.031922</td>\n",
       "      <td>0.988422</td>\n",
       "      <td>0.445834</td>\n",
       "      <td>0.884100</td>\n",
       "    </tr>\n",
       "    <tr>\n",
       "      <th>10</th>\n",
       "      <td>0.045241</td>\n",
       "      <td>0.983470</td>\n",
       "      <td>0.456044</td>\n",
       "      <td>0.891380</td>\n",
       "    </tr>\n",
       "    <tr>\n",
       "      <th>11</th>\n",
       "      <td>0.044771</td>\n",
       "      <td>0.985000</td>\n",
       "      <td>0.390262</td>\n",
       "      <td>0.900990</td>\n",
       "    </tr>\n",
       "    <tr>\n",
       "      <th>12</th>\n",
       "      <td>0.024730</td>\n",
       "      <td>0.991480</td>\n",
       "      <td>0.478161</td>\n",
       "      <td>0.896913</td>\n",
       "    </tr>\n",
       "  </tbody>\n",
       "</table>\n",
       "</div>"
      ],
      "text/plain": [
       "        loss  accuracy  val_loss  val_accuracy\n",
       "0   1.124204  0.565718  0.638943      0.778684\n",
       "1   0.342045  0.883856  0.353765      0.878858\n",
       "2   0.151658  0.947499  0.294016      0.899243\n",
       "3   0.095469  0.964829  0.388110      0.880606\n",
       "4   0.078968  0.972111  0.329942      0.899534\n",
       "5   0.064510  0.976844  0.354906      0.903029\n",
       "6   0.049851  0.982597  0.390473      0.893710\n",
       "7   0.050135  0.981796  0.387458      0.889633\n",
       "8   0.036523  0.985873  0.458774      0.891963\n",
       "9   0.031922  0.988422  0.445834      0.884100\n",
       "10  0.045241  0.983470  0.456044      0.891380\n",
       "11  0.044771  0.985000  0.390262      0.900990\n",
       "12  0.024730  0.991480  0.478161      0.896913"
      ]
     },
     "execution_count": 80,
     "metadata": {},
     "output_type": "execute_result"
    }
   ],
   "source": [
    "df_hist3 = pd.DataFrame(history3.history)\n",
    "df_hist3"
   ]
  },
  {
   "cell_type": "code",
   "execution_count": 81,
   "id": "2670aa63",
   "metadata": {},
   "outputs": [
    {
     "data": {
      "image/png": "[encoded data removed]",
      "text/plain": [
       "<Figure size 1000x300 with 2 Axes>"
      ]
     },
     "metadata": {},
     "output_type": "display_data"
    }
   ],
   "source": [
    "fig, axes = plt.subplots(nrows=1, ncols=2, figsize=(10, 3))\n",
    "\n",
    "df_hist3[[\"loss\", \"val_loss\"]].plot(ax=axes[0]).set_title(\"loss : val_loss\")\n",
    "df_hist3[[\"accuracy\", \"val_accuracy\"]].plot(ax=axes[1]).set_title(\"accuracy : val_accuracy\");"
   ]
  },
  {
   "cell_type": "markdown",
   "id": "0d95d399",
   "metadata": {},
   "source": [
    "### 예측"
   ]
  },
  {
   "cell_type": "code",
   "execution_count": 82,
   "id": "07418000",
   "metadata": {},
   "outputs": [
    {
     "name": "stdout",
     "output_type": "stream",
     "text": [
      "135/135 [==============================] - 2s 7ms/step\n"
     ]
    },
    {
     "data": {
      "text/plain": [
       "array([[9.9886072e-01, 1.0334431e-05, 3.0390912e-04, 7.2213967e-04,\n",
       "        2.7868980e-05, 7.4954958e-05],\n",
       "       [1.5728676e-04, 7.5882417e-05, 8.8731525e-05, 1.9371997e-05,\n",
       "        9.9964976e-01, 8.9595242e-06],\n",
       "       [6.6342654e-05, 3.4746711e-06, 9.9977344e-01, 1.0408795e-04,\n",
       "        2.1978156e-05, 3.0727082e-05],\n",
       "       [7.2834241e-01, 2.3258140e-03, 4.2891178e-02, 1.6937282e-02,\n",
       "        3.0924275e-04, 2.0919405e-01],\n",
       "       [2.7979277e-05, 1.7643304e-06, 9.9986696e-01, 6.6600347e-05,\n",
       "        1.5411462e-05, 2.1211345e-05]], dtype=float32)"
      ]
     },
     "execution_count": 82,
     "metadata": {},
     "output_type": "execute_result"
    }
   ],
   "source": [
    "y_pred = model3.predict(X_test_sp)\n",
    "y_pred[:5]"
   ]
  },
  {
   "cell_type": "markdown",
   "id": "65195ce6",
   "metadata": {},
   "source": [
    "### 평가"
   ]
  },
  {
   "cell_type": "code",
   "execution_count": 83,
   "id": "2d43c086",
   "metadata": {},
   "outputs": [
    {
     "data": {
      "text/plain": [
       "array([0, 4, 2, 0, 2])"
      ]
     },
     "execution_count": 83,
     "metadata": {},
     "output_type": "execute_result"
    }
   ],
   "source": [
    "y_predict = np.argmax(y_pred, axis=1)\n",
    "y_predict[:5]"
   ]
  },
  {
   "cell_type": "code",
   "execution_count": 84,
   "id": "4ecc7b32",
   "metadata": {},
   "outputs": [
    {
     "data": {
      "text/plain": [
       "array([0, 4, 2, 0, 2])"
      ]
     },
     "execution_count": 84,
     "metadata": {},
     "output_type": "execute_result"
    }
   ],
   "source": [
    "y_test_val = np.argmax(y_test.values, axis=1)\n",
    "y_test_val[:5]"
   ]
  },
  {
   "cell_type": "code",
   "execution_count": 85,
   "id": "d52d1c4e",
   "metadata": {},
   "outputs": [
    {
     "data": {
      "text/plain": [
       "0.8953867660764212"
      ]
     },
     "execution_count": 85,
     "metadata": {},
     "output_type": "execute_result"
    }
   ],
   "source": [
    "# 성능 확인\n",
    "(y_test_val == y_predict).mean()"
   ]
  },
  {
   "cell_type": "code",
   "execution_count": 86,
   "id": "9bc6e941",
   "metadata": {},
   "outputs": [
    {
     "name": "stdout",
     "output_type": "stream",
     "text": [
      "텍스트 : i feel like maybe he is going to stop loving me or maybe its true and im a terrible wife\n",
      "====================================================================================================\n",
      "예측 감정 : 3\n",
      "정답 감정 : 3\n"
     ]
    }
   ],
   "source": [
    "# 특정 텍스트에 대해 감정분류가 잘 되었는지 확인\n",
    "print(\"텍스트 :\", X_test.iloc[8])\n",
    "print(\"=\"*100)\n",
    "print(\"예측 감정 :\", y_predict[8])\n",
    "print(\"정답 감정 :\", y_test_val[8])"
   ]
  },
  {
   "cell_type": "markdown",
   "id": "c51b9eef",
   "metadata": {},
   "source": [
    "- i feel like maybe he is going to stop loving me or maybe its true and im a terrible wife\n",
    "  - 나는 어쩌면 그가 나를 사랑하는 것을 멈출지도 모른다는 생각이 든다. 또는 어쩌면 그것은 사실이고 나는 끔찍한 아내이다.\n",
    "\n",
    "\n",
    "- 예측 감정 : love(3) \n",
    "- 정답 감정 : love(3)\n",
    "<br>: 감정 분석이 제대로 이루어짐"
   ]
  },
  {
   "cell_type": "markdown",
   "id": "f8c9325a",
   "metadata": {},
   "source": [
    "## GRU (1)"
   ]
  },
  {
   "cell_type": "markdown",
   "id": "cacc622f",
   "metadata": {},
   "source": [
    "### 레이어 쌓기"
   ]
  },
  {
   "cell_type": "code",
   "execution_count": 87,
   "id": "93d383af",
   "metadata": {},
   "outputs": [
    {
     "name": "stdout",
     "output_type": "stream",
     "text": [
      "Model: \"sequential_4\"\n",
      "_________________________________________________________________\n",
      " Layer (type)                Output Shape              Param #   \n",
      "=================================================================\n",
      " embedding_4 (Embedding)     (None, 70, 64)            640000    \n",
      "                                                                 \n",
      " bidirectional_8 (Bidirectio  (None, 70, 64)           18816     \n",
      " nal)                                                            \n",
      "                                                                 \n",
      " bidirectional_9 (Bidirectio  (None, 64)               18816     \n",
      " nal)                                                            \n",
      "                                                                 \n",
      " dense_9 (Dense)             (None, 16)                1040      \n",
      "                                                                 \n",
      " dense_10 (Dense)            (None, 6)                 102       \n",
      "                                                                 \n",
      "=================================================================\n",
      "Total params: 678,774\n",
      "Trainable params: 678,774\n",
      "Non-trainable params: 0\n",
      "_________________________________________________________________\n"
     ]
    }
   ],
   "source": [
    "model4 = Sequential()\n",
    "# 입력-임베딩층\n",
    "model4.add(Embedding(input_dim=vocab_size, \n",
    "                     output_dim=embedding_dim, \n",
    "                     input_length=max_length))\n",
    "model4.add(Bidirectional(GRU(units=32, return_sequences=True)))\n",
    "model4.add(Bidirectional(GRU(units=32)))\n",
    "model4.add(Dense(units=16, activation='relu'))\n",
    "# 출력층\n",
    "model4.add(Dense(units=n_class, activation=\"softmax\"))\n",
    "model4.summary()"
   ]
  },
  {
   "cell_type": "markdown",
   "id": "f7feede5",
   "metadata": {},
   "source": [
    "### 컴파일"
   ]
  },
  {
   "cell_type": "code",
   "execution_count": 88,
   "id": "2e9883d6",
   "metadata": {},
   "outputs": [],
   "source": [
    "model4.compile(optimizer=\"adam\", loss=\"categorical_crossentropy\", metrics=\"accuracy\")"
   ]
  },
  {
   "cell_type": "markdown",
   "id": "67571648",
   "metadata": {},
   "source": [
    "### 학습"
   ]
  },
  {
   "cell_type": "code",
   "execution_count": 89,
   "id": "688082ae",
   "metadata": {},
   "outputs": [],
   "source": [
    "from tensorflow.keras.callbacks import EarlyStopping\n",
    "\n",
    "early_stop = EarlyStopping(monitor='val_loss', patience=10)"
   ]
  },
  {
   "cell_type": "code",
   "execution_count": 90,
   "id": "944ae7fb",
   "metadata": {},
   "outputs": [
    {
     "name": "stdout",
     "output_type": "stream",
     "text": [
      "Epoch 1/100\n",
      "430/430 [==============================] - 14s 19ms/step - loss: 1.2490 - accuracy: 0.5078 - val_loss: 0.7594 - val_accuracy: 0.7277\n",
      "Epoch 2/100\n",
      "430/430 [==============================] - 7s 16ms/step - loss: 0.4515 - accuracy: 0.8472 - val_loss: 0.3977 - val_accuracy: 0.8637\n",
      "Epoch 3/100\n",
      "430/430 [==============================] - 7s 16ms/step - loss: 0.1909 - accuracy: 0.9336 - val_loss: 0.3460 - val_accuracy: 0.8896\n",
      "Epoch 4/100\n",
      "430/430 [==============================] - 7s 16ms/step - loss: 0.1047 - accuracy: 0.9627 - val_loss: 0.3454 - val_accuracy: 0.8911\n",
      "Epoch 5/100\n",
      "430/430 [==============================] - 7s 16ms/step - loss: 0.0729 - accuracy: 0.9710 - val_loss: 0.3456 - val_accuracy: 0.8937\n",
      "Epoch 6/100\n",
      "430/430 [==============================] - 8s 19ms/step - loss: 0.0540 - accuracy: 0.9798 - val_loss: 0.3784 - val_accuracy: 0.8911\n",
      "Epoch 7/100\n",
      "430/430 [==============================] - 7s 16ms/step - loss: 0.0419 - accuracy: 0.9852 - val_loss: 0.3896 - val_accuracy: 0.8960\n",
      "Epoch 8/100\n",
      "430/430 [==============================] - 9s 21ms/step - loss: 0.0385 - accuracy: 0.9865 - val_loss: 0.4637 - val_accuracy: 0.8891\n",
      "Epoch 9/100\n",
      "430/430 [==============================] - 9s 21ms/step - loss: 0.0358 - accuracy: 0.9870 - val_loss: 0.4119 - val_accuracy: 0.8914\n",
      "Epoch 10/100\n",
      "430/430 [==============================] - 7s 16ms/step - loss: 0.0252 - accuracy: 0.9910 - val_loss: 0.4435 - val_accuracy: 0.8955\n",
      "Epoch 11/100\n",
      "430/430 [==============================] - 7s 17ms/step - loss: 0.0270 - accuracy: 0.9897 - val_loss: 0.4492 - val_accuracy: 0.8952\n",
      "Epoch 12/100\n",
      "430/430 [==============================] - 7s 16ms/step - loss: 0.0276 - accuracy: 0.9901 - val_loss: 0.4584 - val_accuracy: 0.8888\n",
      "Epoch 13/100\n",
      "430/430 [==============================] - 7s 17ms/step - loss: 0.0264 - accuracy: 0.9905 - val_loss: 0.4413 - val_accuracy: 0.8952\n",
      "Epoch 14/100\n",
      "430/430 [==============================] - 7s 16ms/step - loss: 0.0202 - accuracy: 0.9918 - val_loss: 0.4533 - val_accuracy: 0.8969\n"
     ]
    }
   ],
   "source": [
    "history4 = model4.fit(X_train_val, y_train_val\n",
    "                    , validation_data=(X_valid, y_valid), epochs=100, callbacks=[early_stop])"
   ]
  },
  {
   "cell_type": "markdown",
   "id": "1e961830",
   "metadata": {},
   "source": [
    "### 결과 확인"
   ]
  },
  {
   "cell_type": "code",
   "execution_count": 91,
   "id": "3275a8e8",
   "metadata": {},
   "outputs": [
    {
     "data": {
      "text/html": [
       "<div>\n",
       "<style scoped>\n",
       "    .dataframe tbody tr th:only-of-type {\n",
       "        vertical-align: middle;\n",
       "    }\n",
       "\n",
       "    .dataframe tbody tr th {\n",
       "        vertical-align: top;\n",
       "    }\n",
       "\n",
       "    .dataframe thead th {\n",
       "        text-align: right;\n",
       "    }\n",
       "</style>\n",
       "<table border=\"1\" class=\"dataframe\">\n",
       "  <thead>\n",
       "    <tr style=\"text-align: right;\">\n",
       "      <th></th>\n",
       "      <th>loss</th>\n",
       "      <th>accuracy</th>\n",
       "      <th>val_loss</th>\n",
       "      <th>val_accuracy</th>\n",
       "    </tr>\n",
       "  </thead>\n",
       "  <tbody>\n",
       "    <tr>\n",
       "      <th>0</th>\n",
       "      <td>1.249021</td>\n",
       "      <td>0.507755</td>\n",
       "      <td>0.759431</td>\n",
       "      <td>0.727723</td>\n",
       "    </tr>\n",
       "    <tr>\n",
       "      <th>1</th>\n",
       "      <td>0.451520</td>\n",
       "      <td>0.847229</td>\n",
       "      <td>0.397653</td>\n",
       "      <td>0.863716</td>\n",
       "    </tr>\n",
       "    <tr>\n",
       "      <th>2</th>\n",
       "      <td>0.190938</td>\n",
       "      <td>0.933591</td>\n",
       "      <td>0.345954</td>\n",
       "      <td>0.889633</td>\n",
       "    </tr>\n",
       "    <tr>\n",
       "      <th>3</th>\n",
       "      <td>0.104702</td>\n",
       "      <td>0.962718</td>\n",
       "      <td>0.345432</td>\n",
       "      <td>0.891089</td>\n",
       "    </tr>\n",
       "    <tr>\n",
       "      <th>4</th>\n",
       "      <td>0.072856</td>\n",
       "      <td>0.971019</td>\n",
       "      <td>0.345566</td>\n",
       "      <td>0.893710</td>\n",
       "    </tr>\n",
       "    <tr>\n",
       "      <th>5</th>\n",
       "      <td>0.053953</td>\n",
       "      <td>0.979757</td>\n",
       "      <td>0.378448</td>\n",
       "      <td>0.891089</td>\n",
       "    </tr>\n",
       "    <tr>\n",
       "      <th>6</th>\n",
       "      <td>0.041940</td>\n",
       "      <td>0.985218</td>\n",
       "      <td>0.389604</td>\n",
       "      <td>0.896040</td>\n",
       "    </tr>\n",
       "    <tr>\n",
       "      <th>7</th>\n",
       "      <td>0.038453</td>\n",
       "      <td>0.986529</td>\n",
       "      <td>0.463704</td>\n",
       "      <td>0.889051</td>\n",
       "    </tr>\n",
       "    <tr>\n",
       "      <th>8</th>\n",
       "      <td>0.035845</td>\n",
       "      <td>0.987038</td>\n",
       "      <td>0.411886</td>\n",
       "      <td>0.891380</td>\n",
       "    </tr>\n",
       "    <tr>\n",
       "      <th>9</th>\n",
       "      <td>0.025152</td>\n",
       "      <td>0.990971</td>\n",
       "      <td>0.443524</td>\n",
       "      <td>0.895457</td>\n",
       "    </tr>\n",
       "    <tr>\n",
       "      <th>10</th>\n",
       "      <td>0.026975</td>\n",
       "      <td>0.989660</td>\n",
       "      <td>0.449183</td>\n",
       "      <td>0.895166</td>\n",
       "    </tr>\n",
       "    <tr>\n",
       "      <th>11</th>\n",
       "      <td>0.027600</td>\n",
       "      <td>0.990097</td>\n",
       "      <td>0.458435</td>\n",
       "      <td>0.888759</td>\n",
       "    </tr>\n",
       "    <tr>\n",
       "      <th>12</th>\n",
       "      <td>0.026363</td>\n",
       "      <td>0.990461</td>\n",
       "      <td>0.441289</td>\n",
       "      <td>0.895166</td>\n",
       "    </tr>\n",
       "    <tr>\n",
       "      <th>13</th>\n",
       "      <td>0.020181</td>\n",
       "      <td>0.991772</td>\n",
       "      <td>0.453313</td>\n",
       "      <td>0.896913</td>\n",
       "    </tr>\n",
       "  </tbody>\n",
       "</table>\n",
       "</div>"
      ],
      "text/plain": [
       "        loss  accuracy  val_loss  val_accuracy\n",
       "0   1.249021  0.507755  0.759431      0.727723\n",
       "1   0.451520  0.847229  0.397653      0.863716\n",
       "2   0.190938  0.933591  0.345954      0.889633\n",
       "3   0.104702  0.962718  0.345432      0.891089\n",
       "4   0.072856  0.971019  0.345566      0.893710\n",
       "5   0.053953  0.979757  0.378448      0.891089\n",
       "6   0.041940  0.985218  0.389604      0.896040\n",
       "7   0.038453  0.986529  0.463704      0.889051\n",
       "8   0.035845  0.987038  0.411886      0.891380\n",
       "9   0.025152  0.990971  0.443524      0.895457\n",
       "10  0.026975  0.989660  0.449183      0.895166\n",
       "11  0.027600  0.990097  0.458435      0.888759\n",
       "12  0.026363  0.990461  0.441289      0.895166\n",
       "13  0.020181  0.991772  0.453313      0.896913"
      ]
     },
     "execution_count": 91,
     "metadata": {},
     "output_type": "execute_result"
    }
   ],
   "source": [
    "df_hist4 = pd.DataFrame(history4.history)\n",
    "df_hist4"
   ]
  },
  {
   "cell_type": "code",
   "execution_count": 92,
   "id": "35b04c1b",
   "metadata": {},
   "outputs": [
    {
     "data": {
      "image/png": "[encoded data removed]",
      "text/plain": [
       "<Figure size 1000x300 with 2 Axes>"
      ]
     },
     "metadata": {},
     "output_type": "display_data"
    }
   ],
   "source": [
    "fig, axes = plt.subplots(nrows=1, ncols=2, figsize=(10, 3))\n",
    "\n",
    "df_hist4[[\"loss\", \"val_loss\"]].plot(ax=axes[0]).set_title(\"loss : val_loss\")\n",
    "df_hist4[[\"accuracy\", \"val_accuracy\"]].plot(ax=axes[1]).set_title(\"accuracy : val_accuracy\");"
   ]
  },
  {
   "cell_type": "markdown",
   "id": "b763881c",
   "metadata": {},
   "source": [
    "### 예측"
   ]
  },
  {
   "cell_type": "code",
   "execution_count": 93,
   "id": "8607d8bf",
   "metadata": {},
   "outputs": [
    {
     "name": "stdout",
     "output_type": "stream",
     "text": [
      "135/135 [==============================] - 2s 7ms/step\n"
     ]
    },
    {
     "data": {
      "text/plain": [
       "array([[9.99909878e-01, 1.15328257e-05, 1.80263323e-05, 4.59624999e-07,\n",
       "        4.02658043e-05, 1.97825393e-05],\n",
       "       [3.97519107e-05, 8.06954267e-05, 2.31600552e-05, 1.27755557e-05,\n",
       "        9.99843478e-01, 7.32116874e-08],\n",
       "       [2.48753554e-06, 9.17141350e-08, 9.99861360e-01, 1.06177577e-04,\n",
       "        2.67649084e-05, 2.97434667e-06],\n",
       "       [9.99750078e-01, 1.02425896e-04, 4.99142743e-06, 2.15706294e-07,\n",
       "        1.03859144e-04, 3.83852530e-05],\n",
       "       [6.60780915e-06, 6.06916828e-08, 9.99915242e-01, 6.52979506e-05,\n",
       "        9.82437268e-06, 2.88280944e-06]], dtype=float32)"
      ]
     },
     "execution_count": 93,
     "metadata": {},
     "output_type": "execute_result"
    }
   ],
   "source": [
    "y_pred = model4.predict(X_test_sp)\n",
    "y_pred[:5]"
   ]
  },
  {
   "cell_type": "markdown",
   "id": "585750d6",
   "metadata": {},
   "source": [
    "### 평가"
   ]
  },
  {
   "cell_type": "code",
   "execution_count": 94,
   "id": "f156709b",
   "metadata": {},
   "outputs": [
    {
     "data": {
      "text/plain": [
       "array([0, 4, 2, 0, 2])"
      ]
     },
     "execution_count": 94,
     "metadata": {},
     "output_type": "execute_result"
    }
   ],
   "source": [
    "y_predict = np.argmax(y_pred, axis=1)\n",
    "y_predict[:5]"
   ]
  },
  {
   "cell_type": "code",
   "execution_count": 95,
   "id": "c341056e",
   "metadata": {},
   "outputs": [
    {
     "data": {
      "text/plain": [
       "array([0, 4, 2, 0, 2])"
      ]
     },
     "execution_count": 95,
     "metadata": {},
     "output_type": "execute_result"
    }
   ],
   "source": [
    "y_test_val = np.argmax(y_test.values, axis=1)\n",
    "y_test_val[:5]"
   ]
  },
  {
   "cell_type": "code",
   "execution_count": 96,
   "id": "6c2d2e7b",
   "metadata": {},
   "outputs": [
    {
     "data": {
      "text/plain": [
       "0.8960857409133272"
      ]
     },
     "execution_count": 96,
     "metadata": {},
     "output_type": "execute_result"
    }
   ],
   "source": [
    "# 성능 확인\n",
    "(y_test_val == y_predict).mean()"
   ]
  },
  {
   "cell_type": "code",
   "execution_count": 97,
   "id": "fb649898",
   "metadata": {},
   "outputs": [
    {
     "name": "stdout",
     "output_type": "stream",
     "text": [
      "텍스트 : i feel that california democrats a little too smug in their safely liberal districts lend much value added to any serious debate but i usually find them less offensive\n",
      "====================================================================================================\n",
      "예측 감정 : 2\n",
      "정답 감정 : 2\n"
     ]
    }
   ],
   "source": [
    "# 특정 텍스트에 대해 감정분류가 잘 되었는지 확인\n",
    "print(\"텍스트 :\", X_test.iloc[10])\n",
    "print(\"=\"*100)\n",
    "print(\"예측 감정 :\", y_predict[10])\n",
    "print(\"정답 감정 :\", y_test_val[10])"
   ]
  },
  {
   "cell_type": "markdown",
   "id": "eb726a10",
   "metadata": {},
   "source": [
    "- i feel that california democrats a little too smug in their safely liberal districts lend much value added to any serious debate but i usually find them less offensive\n",
    "  - 나는 캘리포니아 민주당원들이 그들의 안전한 자유주의 지역에서 약간 너무 독선적인 것이 어떤 심각한 토론에도 많은 가치를 제공한다고 느끼지만, 나는 보통 그들이 덜 불쾌하다고 생각한다.\n",
    "  \n",
    "  \n",
    "- 예측 감정 : happy(2)\n",
    "- 정답 감정 : happy(2)\n",
    "<br>: 감정 분석이 제대로 이루어짐"
   ]
  },
  {
   "cell_type": "markdown",
   "id": "0e54e257",
   "metadata": {},
   "source": [
    "## GRU (2)"
   ]
  },
  {
   "cell_type": "markdown",
   "id": "1b1a142e",
   "metadata": {},
   "source": [
    "### 레이어 쌓기"
   ]
  },
  {
   "cell_type": "code",
   "execution_count": 98,
   "id": "38b873e1",
   "metadata": {},
   "outputs": [
    {
     "name": "stdout",
     "output_type": "stream",
     "text": [
      "Model: \"sequential_5\"\n",
      "_________________________________________________________________\n",
      " Layer (type)                Output Shape              Param #   \n",
      "=================================================================\n",
      " embedding_5 (Embedding)     (None, 70, 64)            640000    \n",
      "                                                                 \n",
      " bidirectional_10 (Bidirecti  (None, 70, 128)          49920     \n",
      " onal)                                                           \n",
      "                                                                 \n",
      " bidirectional_11 (Bidirecti  (None, 128)              74496     \n",
      " onal)                                                           \n",
      "                                                                 \n",
      " dense_11 (Dense)            (None, 32)                4128      \n",
      "                                                                 \n",
      " dense_12 (Dense)            (None, 6)                 198       \n",
      "                                                                 \n",
      "=================================================================\n",
      "Total params: 768,742\n",
      "Trainable params: 768,742\n",
      "Non-trainable params: 0\n",
      "_________________________________________________________________\n"
     ]
    }
   ],
   "source": [
    "model5 = Sequential()\n",
    "# 입력-임베딩층\n",
    "model5.add(Embedding(input_dim=vocab_size, \n",
    "                     output_dim=embedding_dim, \n",
    "                     input_length=max_length))\n",
    "model5.add(Bidirectional(GRU(units=64, return_sequences=True)))\n",
    "model5.add(Bidirectional(GRU(units=64)))\n",
    "model5.add(Dense(units=32, activation='selu'))\n",
    "# 출력층\n",
    "model5.add(Dense(units=n_class, activation=\"softmax\"))\n",
    "model5.summary()"
   ]
  },
  {
   "cell_type": "markdown",
   "id": "df46b6b3",
   "metadata": {},
   "source": [
    "### 컴파일"
   ]
  },
  {
   "cell_type": "code",
   "execution_count": 99,
   "id": "c6f9f9a8",
   "metadata": {},
   "outputs": [],
   "source": [
    "model5.compile(optimizer=\"adam\", loss=\"categorical_crossentropy\", metrics=\"accuracy\")"
   ]
  },
  {
   "cell_type": "markdown",
   "id": "e009a3f0",
   "metadata": {},
   "source": [
    "### 학습"
   ]
  },
  {
   "cell_type": "code",
   "execution_count": 100,
   "id": "87486cce",
   "metadata": {},
   "outputs": [
    {
     "name": "stdout",
     "output_type": "stream",
     "text": [
      "Epoch 1/100\n",
      "430/430 [==============================] - 13s 19ms/step - loss: 1.0737 - accuracy: 0.5821 - val_loss: 0.4839 - val_accuracy: 0.8340\n",
      "Epoch 2/100\n",
      "430/430 [==============================] - 7s 17ms/step - loss: 0.2731 - accuracy: 0.9046 - val_loss: 0.2657 - val_accuracy: 0.9007\n",
      "Epoch 3/100\n",
      "430/430 [==============================] - 7s 17ms/step - loss: 0.1284 - accuracy: 0.9492 - val_loss: 0.2737 - val_accuracy: 0.9062\n",
      "Epoch 4/100\n",
      "430/430 [==============================] - 7s 17ms/step - loss: 0.0881 - accuracy: 0.9635 - val_loss: 0.3082 - val_accuracy: 0.9100\n",
      "Epoch 5/100\n",
      "430/430 [==============================] - 7s 17ms/step - loss: 0.0617 - accuracy: 0.9747 - val_loss: 0.3596 - val_accuracy: 0.8992\n",
      "Epoch 6/100\n",
      "430/430 [==============================] - 7s 17ms/step - loss: 0.0558 - accuracy: 0.9795 - val_loss: 0.3144 - val_accuracy: 0.9109\n",
      "Epoch 7/100\n",
      "430/430 [==============================] - 7s 17ms/step - loss: 0.0450 - accuracy: 0.9821 - val_loss: 0.3547 - val_accuracy: 0.9103\n",
      "Epoch 8/100\n",
      "430/430 [==============================] - 7s 16ms/step - loss: 0.0374 - accuracy: 0.9862 - val_loss: 0.3423 - val_accuracy: 0.9112\n",
      "Epoch 9/100\n",
      "430/430 [==============================] - 7s 17ms/step - loss: 0.0330 - accuracy: 0.9882 - val_loss: 0.3319 - val_accuracy: 0.9112\n",
      "Epoch 10/100\n",
      "430/430 [==============================] - 7s 17ms/step - loss: 0.0281 - accuracy: 0.9895 - val_loss: 0.3797 - val_accuracy: 0.9036\n",
      "Epoch 11/100\n",
      "430/430 [==============================] - 7s 17ms/step - loss: 0.0247 - accuracy: 0.9902 - val_loss: 0.4474 - val_accuracy: 0.8960\n",
      "Epoch 12/100\n",
      "430/430 [==============================] - 7s 17ms/step - loss: 0.0257 - accuracy: 0.9896 - val_loss: 0.3953 - val_accuracy: 0.9068\n"
     ]
    }
   ],
   "source": [
    "history5 = model5.fit(X_train_val, y_train_val\n",
    "                    , validation_data=(X_valid, y_valid), epochs=100, callbacks=[early_stop])"
   ]
  },
  {
   "cell_type": "markdown",
   "id": "84127db8",
   "metadata": {},
   "source": [
    "### 결과 확인"
   ]
  },
  {
   "cell_type": "code",
   "execution_count": 101,
   "id": "d62dc07a",
   "metadata": {},
   "outputs": [
    {
     "data": {
      "text/html": [
       "<div>\n",
       "<style scoped>\n",
       "    .dataframe tbody tr th:only-of-type {\n",
       "        vertical-align: middle;\n",
       "    }\n",
       "\n",
       "    .dataframe tbody tr th {\n",
       "        vertical-align: top;\n",
       "    }\n",
       "\n",
       "    .dataframe thead th {\n",
       "        text-align: right;\n",
       "    }\n",
       "</style>\n",
       "<table border=\"1\" class=\"dataframe\">\n",
       "  <thead>\n",
       "    <tr style=\"text-align: right;\">\n",
       "      <th></th>\n",
       "      <th>loss</th>\n",
       "      <th>accuracy</th>\n",
       "      <th>val_loss</th>\n",
       "      <th>val_accuracy</th>\n",
       "    </tr>\n",
       "  </thead>\n",
       "  <tbody>\n",
       "    <tr>\n",
       "      <th>0</th>\n",
       "      <td>1.073687</td>\n",
       "      <td>0.582102</td>\n",
       "      <td>0.483947</td>\n",
       "      <td>0.834013</td>\n",
       "    </tr>\n",
       "    <tr>\n",
       "      <th>1</th>\n",
       "      <td>0.273069</td>\n",
       "      <td>0.904609</td>\n",
       "      <td>0.265657</td>\n",
       "      <td>0.900699</td>\n",
       "    </tr>\n",
       "    <tr>\n",
       "      <th>2</th>\n",
       "      <td>0.128358</td>\n",
       "      <td>0.949246</td>\n",
       "      <td>0.273653</td>\n",
       "      <td>0.906232</td>\n",
       "    </tr>\n",
       "    <tr>\n",
       "      <th>3</th>\n",
       "      <td>0.088142</td>\n",
       "      <td>0.963519</td>\n",
       "      <td>0.308203</td>\n",
       "      <td>0.910017</td>\n",
       "    </tr>\n",
       "    <tr>\n",
       "      <th>4</th>\n",
       "      <td>0.061657</td>\n",
       "      <td>0.974732</td>\n",
       "      <td>0.359561</td>\n",
       "      <td>0.899243</td>\n",
       "    </tr>\n",
       "    <tr>\n",
       "      <th>5</th>\n",
       "      <td>0.055794</td>\n",
       "      <td>0.979466</td>\n",
       "      <td>0.314418</td>\n",
       "      <td>0.910891</td>\n",
       "    </tr>\n",
       "    <tr>\n",
       "      <th>6</th>\n",
       "      <td>0.044978</td>\n",
       "      <td>0.982087</td>\n",
       "      <td>0.354699</td>\n",
       "      <td>0.910309</td>\n",
       "    </tr>\n",
       "    <tr>\n",
       "      <th>7</th>\n",
       "      <td>0.037355</td>\n",
       "      <td>0.986165</td>\n",
       "      <td>0.342294</td>\n",
       "      <td>0.911182</td>\n",
       "    </tr>\n",
       "    <tr>\n",
       "      <th>8</th>\n",
       "      <td>0.033028</td>\n",
       "      <td>0.988204</td>\n",
       "      <td>0.331864</td>\n",
       "      <td>0.911182</td>\n",
       "    </tr>\n",
       "    <tr>\n",
       "      <th>9</th>\n",
       "      <td>0.028100</td>\n",
       "      <td>0.989514</td>\n",
       "      <td>0.379682</td>\n",
       "      <td>0.903611</td>\n",
       "    </tr>\n",
       "    <tr>\n",
       "      <th>10</th>\n",
       "      <td>0.024746</td>\n",
       "      <td>0.990170</td>\n",
       "      <td>0.447398</td>\n",
       "      <td>0.896040</td>\n",
       "    </tr>\n",
       "    <tr>\n",
       "      <th>11</th>\n",
       "      <td>0.025659</td>\n",
       "      <td>0.989587</td>\n",
       "      <td>0.395319</td>\n",
       "      <td>0.906814</td>\n",
       "    </tr>\n",
       "  </tbody>\n",
       "</table>\n",
       "</div>"
      ],
      "text/plain": [
       "        loss  accuracy  val_loss  val_accuracy\n",
       "0   1.073687  0.582102  0.483947      0.834013\n",
       "1   0.273069  0.904609  0.265657      0.900699\n",
       "2   0.128358  0.949246  0.273653      0.906232\n",
       "3   0.088142  0.963519  0.308203      0.910017\n",
       "4   0.061657  0.974732  0.359561      0.899243\n",
       "5   0.055794  0.979466  0.314418      0.910891\n",
       "6   0.044978  0.982087  0.354699      0.910309\n",
       "7   0.037355  0.986165  0.342294      0.911182\n",
       "8   0.033028  0.988204  0.331864      0.911182\n",
       "9   0.028100  0.989514  0.379682      0.903611\n",
       "10  0.024746  0.990170  0.447398      0.896040\n",
       "11  0.025659  0.989587  0.395319      0.906814"
      ]
     },
     "execution_count": 101,
     "metadata": {},
     "output_type": "execute_result"
    }
   ],
   "source": [
    "df_hist5 = pd.DataFrame(history5.history)\n",
    "df_hist5"
   ]
  },
  {
   "cell_type": "code",
   "execution_count": 102,
   "id": "83ade0a0",
   "metadata": {},
   "outputs": [
    {
     "data": {
      "image/png": "[encoded data removed]",
      "text/plain": [
       "<Figure size 1000x300 with 2 Axes>"
      ]
     },
     "metadata": {},
     "output_type": "display_data"
    }
   ],
   "source": [
    "fig, axes = plt.subplots(nrows=1, ncols=2, figsize=(10, 3))\n",
    "\n",
    "df_hist5[[\"loss\", \"val_loss\"]].plot(ax=axes[0]).set_title(\"loss : val_loss\")\n",
    "df_hist5[[\"accuracy\", \"val_accuracy\"]].plot(ax=axes[1]).set_title(\"accuracy : val_accuracy\");"
   ]
  },
  {
   "cell_type": "markdown",
   "id": "5aa54eed",
   "metadata": {},
   "source": [
    "### 예측"
   ]
  },
  {
   "cell_type": "code",
   "execution_count": 103,
   "id": "c4ddeea8",
   "metadata": {},
   "outputs": [
    {
     "name": "stdout",
     "output_type": "stream",
     "text": [
      "135/135 [==============================] - 2s 7ms/step\n"
     ]
    },
    {
     "data": {
      "text/plain": [
       "array([[9.9474084e-01, 5.1532751e-03, 3.9480790e-05, 3.2526321e-05,\n",
       "        2.7319995e-05, 6.5654895e-06],\n",
       "       [3.0854386e-05, 5.7472516e-04, 5.7964741e-07, 1.0917541e-07,\n",
       "        9.9936861e-01, 2.5187275e-05],\n",
       "       [5.0358158e-06, 3.7694367e-06, 9.9994802e-01, 2.1529107e-05,\n",
       "        1.9361465e-05, 2.2457134e-06],\n",
       "       [9.9985325e-01, 9.4218551e-05, 2.0420817e-05, 3.1672447e-05,\n",
       "        3.9044286e-07, 5.6454834e-08],\n",
       "       [7.5846896e-05, 1.8373086e-06, 9.9978620e-01, 1.3556654e-04,\n",
       "        2.6727261e-07, 3.2004365e-07]], dtype=float32)"
      ]
     },
     "execution_count": 103,
     "metadata": {},
     "output_type": "execute_result"
    }
   ],
   "source": [
    "y_pred = model5.predict(X_test_sp)\n",
    "y_pred[:5]"
   ]
  },
  {
   "cell_type": "markdown",
   "id": "62cc2eda",
   "metadata": {},
   "source": [
    "### 평가"
   ]
  },
  {
   "cell_type": "code",
   "execution_count": 104,
   "id": "9fa7aac0",
   "metadata": {},
   "outputs": [
    {
     "data": {
      "text/plain": [
       "array([0, 4, 2, 0, 2])"
      ]
     },
     "execution_count": 104,
     "metadata": {},
     "output_type": "execute_result"
    }
   ],
   "source": [
    "y_predict = np.argmax(y_pred, axis=1)\n",
    "y_predict[:5]"
   ]
  },
  {
   "cell_type": "code",
   "execution_count": 105,
   "id": "aae75160",
   "metadata": {},
   "outputs": [
    {
     "data": {
      "text/plain": [
       "array([0, 4, 2, 0, 2])"
      ]
     },
     "execution_count": 105,
     "metadata": {},
     "output_type": "execute_result"
    }
   ],
   "source": [
    "y_test_val = np.argmax(y_test.values, axis=1)\n",
    "y_test_val[:5]"
   ]
  },
  {
   "cell_type": "code",
   "execution_count": 106,
   "id": "35f4b710",
   "metadata": {},
   "outputs": [
    {
     "data": {
      "text/plain": [
       "0.9033084808946877"
      ]
     },
     "execution_count": 106,
     "metadata": {},
     "output_type": "execute_result"
    }
   ],
   "source": [
    "# 성능 확인\n",
    "(y_test_val == y_predict).mean()"
   ]
  },
  {
   "cell_type": "code",
   "execution_count": 107,
   "id": "05e27a01",
   "metadata": {},
   "outputs": [
    {
     "name": "stdout",
     "output_type": "stream",
     "text": [
      "텍스트 : i restrain all emotion asked asked her su wen is a laugh said see us smiling at the side maybe the feeling that i am sincere concern for su wen is right\n",
      "====================================================================================================\n",
      "예측 감정 : 2\n",
      "정답 감정 : 2\n"
     ]
    }
   ],
   "source": [
    "# 특정 텍스트에 대해 감정분류가 잘 되었는지 확인\n",
    "print(\"텍스트 :\", X_test.iloc[100])\n",
    "print(\"=\"*100)\n",
    "print(\"예측 감정 :\", y_predict[100])\n",
    "print(\"정답 감정 :\", y_test_val[100])"
   ]
  },
  {
   "cell_type": "markdown",
   "id": "44951616",
   "metadata": {},
   "source": [
    "- i restrain all emotion asked asked her su wen is a laugh said see us smiling at the side maybe the feeling that i am sincere concern for su wen is right\n",
    "  - 나는 그녀에게 질문한 모든 감정을 억제한다. 그녀는 웃는다. 우리가 옆에서 웃고 있는 것을 보자. 아마도 내가 수웬을 진심으로 걱정한다는 느낌이 맞을 것이다.\n",
    "  \n",
    "- 예측 감정 : happy(2)\n",
    "- 정답 감정 : happy(2)\n",
    "<br>: 감정 분석이 제대로 이루어짐"
   ]
  }
 ],
 "metadata": {
  "kernelspec": {
   "display_name": "Python 3.8 (NGC 22.09 / TensorFlow 2.9.1) on Backend.AI",
   "language": "python",
   "name": "python3"
  },
  "language_info": {
   "codemirror_mode": {
    "name": "ipython",
    "version": 3
   },
   "file_extension": ".py",
   "mimetype": "text/x-python",
   "name": "python",
   "nbconvert_exporter": "python",
   "pygments_lexer": "ipython3",
   "version": "3.8.10"
  }
 },
 "nbformat": 4,
 "nbformat_minor": 5
}
