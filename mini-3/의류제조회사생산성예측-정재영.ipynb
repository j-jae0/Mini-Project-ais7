{
 "cells": [
  {
   "cell_type": "markdown",
   "id": "723b45cb",
   "metadata": {},
   "source": [
    "# 라이브러리 로드"
   ]
  },
  {
   "cell_type": "code",
   "execution_count": 1,
   "id": "a8c6bf4f",
   "metadata": {},
   "outputs": [],
   "source": [
    "import pandas as pd\n",
    "import numpy as np\n",
    "import matplotlib.pyplot as plt\n",
    "import seaborn as sns"
   ]
  },
  {
   "cell_type": "markdown",
   "id": "7677306c",
   "metadata": {},
   "source": [
    "# 데이터 로드"
   ]
  },
  {
   "cell_type": "code",
   "execution_count": 2,
   "id": "432c1ae1",
   "metadata": {},
   "outputs": [
    {
     "data": {
      "text/plain": [
       "['data/test.csv',\n",
       " 'data/column_info.csv',\n",
       " 'data/train.csv',\n",
       " 'data/sample_submission.csv']"
      ]
     },
     "execution_count": 2,
     "metadata": {},
     "output_type": "execute_result"
    }
   ],
   "source": [
    "from glob import glob\n",
    "\n",
    "file_name = glob(\"data/*\")\n",
    "file_name"
   ]
  },
  {
   "cell_type": "markdown",
   "id": "1918dc02",
   "metadata": {},
   "source": [
    "## 컬럼 정보"
   ]
  },
  {
   "cell_type": "code",
   "execution_count": 3,
   "id": "3d84f99f",
   "metadata": {},
   "outputs": [
    {
     "data": {
      "text/html": [
       "<div>\n",
       "<style scoped>\n",
       "    .dataframe tbody tr th:only-of-type {\n",
       "        vertical-align: middle;\n",
       "    }\n",
       "\n",
       "    .dataframe tbody tr th {\n",
       "        vertical-align: top;\n",
       "    }\n",
       "\n",
       "    .dataframe thead th {\n",
       "        text-align: right;\n",
       "    }\n",
       "</style>\n",
       "<table border=\"1\" class=\"dataframe\">\n",
       "  <thead>\n",
       "    <tr style=\"text-align: right;\">\n",
       "      <th></th>\n",
       "      <th>Column명</th>\n",
       "      <th>설명</th>\n",
       "    </tr>\n",
       "  </thead>\n",
       "  <tbody>\n",
       "    <tr>\n",
       "      <th>0</th>\n",
       "      <td>ID</td>\n",
       "      <td>샘플 ID</td>\n",
       "    </tr>\n",
       "    <tr>\n",
       "      <th>1</th>\n",
       "      <td>quarter</td>\n",
       "      <td>한 달을 4개의 기간으로 분할한 단위 (예시: 1주차, 2주차, 3주차 ..)</td>\n",
       "    </tr>\n",
       "    <tr>\n",
       "      <th>2</th>\n",
       "      <td>department</td>\n",
       "      <td>인스턴스 관련 부서</td>\n",
       "    </tr>\n",
       "    <tr>\n",
       "      <th>3</th>\n",
       "      <td>day</td>\n",
       "      <td>요일</td>\n",
       "    </tr>\n",
       "    <tr>\n",
       "      <th>4</th>\n",
       "      <td>targeted_productivity</td>\n",
       "      <td>설정한 목표 생산성</td>\n",
       "    </tr>\n",
       "    <tr>\n",
       "      <th>5</th>\n",
       "      <td>smv</td>\n",
       "      <td>작업에 할당된 시간 (분)</td>\n",
       "    </tr>\n",
       "    <tr>\n",
       "      <th>6</th>\n",
       "      <td>wip</td>\n",
       "      <td>작업 진행 중인 품목 수 (제품에 대한 미완성 품목 수 포함)</td>\n",
       "    </tr>\n",
       "    <tr>\n",
       "      <th>7</th>\n",
       "      <td>over_time</td>\n",
       "      <td>각 팀별 초과 근무 정도 (0~1)</td>\n",
       "    </tr>\n",
       "    <tr>\n",
       "      <th>8</th>\n",
       "      <td>incentive</td>\n",
       "      <td>재정적 인센티브 양 (BDT 단위)</td>\n",
       "    </tr>\n",
       "    <tr>\n",
       "      <th>9</th>\n",
       "      <td>idle_time</td>\n",
       "      <td>생산이 중단된 시간</td>\n",
       "    </tr>\n",
       "    <tr>\n",
       "      <th>10</th>\n",
       "      <td>idle_men</td>\n",
       "      <td>생산 중단으로 유휴인원 수</td>\n",
       "    </tr>\n",
       "    <tr>\n",
       "      <th>11</th>\n",
       "      <td>no_of_style_change</td>\n",
       "      <td>특정 제품의 스타일 변경 횟수</td>\n",
       "    </tr>\n",
       "    <tr>\n",
       "      <th>12</th>\n",
       "      <td>no_of_workers</td>\n",
       "      <td>팀별 작업자 수</td>\n",
       "    </tr>\n",
       "    <tr>\n",
       "      <th>13</th>\n",
       "      <td>actual_productivity</td>\n",
       "      <td>생산량 (target)</td>\n",
       "    </tr>\n",
       "  </tbody>\n",
       "</table>\n",
       "</div>"
      ],
      "text/plain": [
       "                  Column명                                           설명\n",
       "0                      ID                                        샘플 ID\n",
       "1                 quarter  한 달을 4개의 기간으로 분할한 단위 (예시: 1주차, 2주차, 3주차 ..)\n",
       "2              department                                   인스턴스 관련 부서\n",
       "3                     day                                           요일\n",
       "4   targeted_productivity                                   설정한 목표 생산성\n",
       "5                     smv                               작업에 할당된 시간 (분)\n",
       "6                     wip           작업 진행 중인 품목 수 (제품에 대한 미완성 품목 수 포함)\n",
       "7               over_time                          각 팀별 초과 근무 정도 (0~1)\n",
       "8               incentive                          재정적 인센티브 양 (BDT 단위)\n",
       "9               idle_time                                   생산이 중단된 시간\n",
       "10               idle_men                               생산 중단으로 유휴인원 수\n",
       "11     no_of_style_change                             특정 제품의 스타일 변경 횟수\n",
       "12          no_of_workers                                     팀별 작업자 수\n",
       "13    actual_productivity                                 생산량 (target)"
      ]
     },
     "execution_count": 3,
     "metadata": {},
     "output_type": "execute_result"
    }
   ],
   "source": [
    "pd.read_csv(file_name[1])"
   ]
  },
  {
   "cell_type": "markdown",
   "id": "6b301894",
   "metadata": {},
   "source": [
    "## train 데이터"
   ]
  },
  {
   "cell_type": "code",
   "execution_count": 4,
   "id": "946622d9",
   "metadata": {},
   "outputs": [
    {
     "data": {
      "text/plain": [
       "(1197, 13)"
      ]
     },
     "execution_count": 4,
     "metadata": {},
     "output_type": "execute_result"
    }
   ],
   "source": [
    "# train 데이터 셋 로드\n",
    "train = pd.read_csv(file_name[2], index_col=\"ID\")\n",
    "train.shape"
   ]
  },
  {
   "cell_type": "code",
   "execution_count": 5,
   "id": "d59dc00d",
   "metadata": {},
   "outputs": [
    {
     "data": {
      "text/html": [
       "<div>\n",
       "<style scoped>\n",
       "    .dataframe tbody tr th:only-of-type {\n",
       "        vertical-align: middle;\n",
       "    }\n",
       "\n",
       "    .dataframe tbody tr th {\n",
       "        vertical-align: top;\n",
       "    }\n",
       "\n",
       "    .dataframe thead th {\n",
       "        text-align: right;\n",
       "    }\n",
       "</style>\n",
       "<table border=\"1\" class=\"dataframe\">\n",
       "  <thead>\n",
       "    <tr style=\"text-align: right;\">\n",
       "      <th></th>\n",
       "      <th>quarter</th>\n",
       "      <th>department</th>\n",
       "      <th>day</th>\n",
       "      <th>targeted_productivity</th>\n",
       "      <th>smv</th>\n",
       "      <th>wip</th>\n",
       "      <th>over_time</th>\n",
       "      <th>incentive</th>\n",
       "      <th>idle_time</th>\n",
       "      <th>idle_men</th>\n",
       "      <th>no_of_style_change</th>\n",
       "      <th>no_of_workers</th>\n",
       "      <th>actual_productivity</th>\n",
       "    </tr>\n",
       "    <tr>\n",
       "      <th>ID</th>\n",
       "      <th></th>\n",
       "      <th></th>\n",
       "      <th></th>\n",
       "      <th></th>\n",
       "      <th></th>\n",
       "      <th></th>\n",
       "      <th></th>\n",
       "      <th></th>\n",
       "      <th></th>\n",
       "      <th></th>\n",
       "      <th></th>\n",
       "      <th></th>\n",
       "      <th></th>\n",
       "    </tr>\n",
       "  </thead>\n",
       "  <tbody>\n",
       "    <tr>\n",
       "      <th>TRAIN_0000</th>\n",
       "      <td>Quarter1</td>\n",
       "      <td>sweing</td>\n",
       "      <td>Thursday</td>\n",
       "      <td>0.80</td>\n",
       "      <td>26.16</td>\n",
       "      <td>1108</td>\n",
       "      <td>0.27315</td>\n",
       "      <td>98</td>\n",
       "      <td>0</td>\n",
       "      <td>0</td>\n",
       "      <td>0</td>\n",
       "      <td>59</td>\n",
       "      <td>0.94073</td>\n",
       "    </tr>\n",
       "    <tr>\n",
       "      <th>TRAIN_0001</th>\n",
       "      <td>Quarter1</td>\n",
       "      <td>finishing</td>\n",
       "      <td>Thursday</td>\n",
       "      <td>0.75</td>\n",
       "      <td>3.94</td>\n",
       "      <td>1190</td>\n",
       "      <td>0.03704</td>\n",
       "      <td>0</td>\n",
       "      <td>0</td>\n",
       "      <td>0</td>\n",
       "      <td>0</td>\n",
       "      <td>8</td>\n",
       "      <td>0.88650</td>\n",
       "    </tr>\n",
       "  </tbody>\n",
       "</table>\n",
       "</div>"
      ],
      "text/plain": [
       "             quarter department       day  targeted_productivity    smv   wip  \\\n",
       "ID                                                                              \n",
       "TRAIN_0000  Quarter1     sweing  Thursday                   0.80  26.16  1108   \n",
       "TRAIN_0001  Quarter1  finishing  Thursday                   0.75   3.94  1190   \n",
       "\n",
       "            over_time  incentive  idle_time  idle_men  no_of_style_change  \\\n",
       "ID                                                                          \n",
       "TRAIN_0000    0.27315         98          0         0                   0   \n",
       "TRAIN_0001    0.03704          0          0         0                   0   \n",
       "\n",
       "            no_of_workers  actual_productivity  \n",
       "ID                                              \n",
       "TRAIN_0000             59              0.94073  \n",
       "TRAIN_0001              8              0.88650  "
      ]
     },
     "execution_count": 5,
     "metadata": {},
     "output_type": "execute_result"
    }
   ],
   "source": [
    "train.head(2)"
   ]
  },
  {
   "cell_type": "code",
   "execution_count": 6,
   "id": "2589abc7",
   "metadata": {},
   "outputs": [
    {
     "name": "stdout",
     "output_type": "stream",
     "text": [
      "<class 'pandas.core.frame.DataFrame'>\n",
      "Index: 1197 entries, TRAIN_0000 to TRAIN_1196\n",
      "Data columns (total 13 columns):\n",
      " #   Column                 Non-Null Count  Dtype  \n",
      "---  ------                 --------------  -----  \n",
      " 0   quarter                1197 non-null   object \n",
      " 1   department             1197 non-null   object \n",
      " 2   day                    1197 non-null   object \n",
      " 3   targeted_productivity  1197 non-null   float64\n",
      " 4   smv                    1197 non-null   float64\n",
      " 5   wip                    1197 non-null   int64  \n",
      " 6   over_time              1197 non-null   float64\n",
      " 7   incentive              1197 non-null   int64  \n",
      " 8   idle_time              1197 non-null   int64  \n",
      " 9   idle_men               1197 non-null   int64  \n",
      " 10  no_of_style_change     1197 non-null   int64  \n",
      " 11  no_of_workers          1197 non-null   int64  \n",
      " 12  actual_productivity    1197 non-null   float64\n",
      "dtypes: float64(4), int64(6), object(3)\n",
      "memory usage: 130.9+ KB\n"
     ]
    }
   ],
   "source": [
    "train.info()"
   ]
  },
  {
   "cell_type": "code",
   "execution_count": 7,
   "id": "37577055",
   "metadata": {},
   "outputs": [
    {
     "data": {
      "text/html": [
       "<div>\n",
       "<style scoped>\n",
       "    .dataframe tbody tr th:only-of-type {\n",
       "        vertical-align: middle;\n",
       "    }\n",
       "\n",
       "    .dataframe tbody tr th {\n",
       "        vertical-align: top;\n",
       "    }\n",
       "\n",
       "    .dataframe thead th {\n",
       "        text-align: right;\n",
       "    }\n",
       "</style>\n",
       "<table border=\"1\" class=\"dataframe\">\n",
       "  <thead>\n",
       "    <tr style=\"text-align: right;\">\n",
       "      <th></th>\n",
       "      <th>targeted_productivity</th>\n",
       "      <th>smv</th>\n",
       "      <th>wip</th>\n",
       "      <th>over_time</th>\n",
       "      <th>incentive</th>\n",
       "      <th>idle_time</th>\n",
       "      <th>idle_men</th>\n",
       "      <th>no_of_style_change</th>\n",
       "      <th>no_of_workers</th>\n",
       "      <th>actual_productivity</th>\n",
       "    </tr>\n",
       "  </thead>\n",
       "  <tbody>\n",
       "    <tr>\n",
       "      <th>count</th>\n",
       "      <td>1197.000000</td>\n",
       "      <td>1197.000000</td>\n",
       "      <td>1197.000000</td>\n",
       "      <td>1197.000000</td>\n",
       "      <td>1197.000000</td>\n",
       "      <td>1197.000000</td>\n",
       "      <td>1197.000000</td>\n",
       "      <td>1197.000000</td>\n",
       "      <td>1197.000000</td>\n",
       "      <td>1197.000000</td>\n",
       "    </tr>\n",
       "    <tr>\n",
       "      <th>mean</th>\n",
       "      <td>0.729632</td>\n",
       "      <td>15.062172</td>\n",
       "      <td>1190.269006</td>\n",
       "      <td>0.176214</td>\n",
       "      <td>38.210526</td>\n",
       "      <td>0.727652</td>\n",
       "      <td>0.369256</td>\n",
       "      <td>0.150376</td>\n",
       "      <td>34.551378</td>\n",
       "      <td>0.735091</td>\n",
       "    </tr>\n",
       "    <tr>\n",
       "      <th>std</th>\n",
       "      <td>0.097891</td>\n",
       "      <td>10.943219</td>\n",
       "      <td>1395.647280</td>\n",
       "      <td>0.129197</td>\n",
       "      <td>160.182643</td>\n",
       "      <td>12.709094</td>\n",
       "      <td>3.268987</td>\n",
       "      <td>0.427848</td>\n",
       "      <td>22.152559</td>\n",
       "      <td>0.174488</td>\n",
       "    </tr>\n",
       "    <tr>\n",
       "      <th>min</th>\n",
       "      <td>0.070000</td>\n",
       "      <td>2.900000</td>\n",
       "      <td>7.000000</td>\n",
       "      <td>0.000000</td>\n",
       "      <td>0.000000</td>\n",
       "      <td>0.000000</td>\n",
       "      <td>0.000000</td>\n",
       "      <td>0.000000</td>\n",
       "      <td>2.000000</td>\n",
       "      <td>0.233710</td>\n",
       "    </tr>\n",
       "    <tr>\n",
       "      <th>25%</th>\n",
       "      <td>0.700000</td>\n",
       "      <td>3.940000</td>\n",
       "      <td>970.000000</td>\n",
       "      <td>0.055560</td>\n",
       "      <td>0.000000</td>\n",
       "      <td>0.000000</td>\n",
       "      <td>0.000000</td>\n",
       "      <td>0.000000</td>\n",
       "      <td>9.000000</td>\n",
       "      <td>0.650310</td>\n",
       "    </tr>\n",
       "    <tr>\n",
       "      <th>50%</th>\n",
       "      <td>0.750000</td>\n",
       "      <td>15.260000</td>\n",
       "      <td>1190.000000</td>\n",
       "      <td>0.152780</td>\n",
       "      <td>0.000000</td>\n",
       "      <td>0.000000</td>\n",
       "      <td>0.000000</td>\n",
       "      <td>0.000000</td>\n",
       "      <td>34.000000</td>\n",
       "      <td>0.773330</td>\n",
       "    </tr>\n",
       "    <tr>\n",
       "      <th>75%</th>\n",
       "      <td>0.800000</td>\n",
       "      <td>24.260000</td>\n",
       "      <td>1190.000000</td>\n",
       "      <td>0.268520</td>\n",
       "      <td>50.000000</td>\n",
       "      <td>0.000000</td>\n",
       "      <td>0.000000</td>\n",
       "      <td>0.000000</td>\n",
       "      <td>57.000000</td>\n",
       "      <td>0.850250</td>\n",
       "    </tr>\n",
       "    <tr>\n",
       "      <th>max</th>\n",
       "      <td>0.800000</td>\n",
       "      <td>54.560000</td>\n",
       "      <td>23122.000000</td>\n",
       "      <td>1.000000</td>\n",
       "      <td>3600.000000</td>\n",
       "      <td>300.000000</td>\n",
       "      <td>45.000000</td>\n",
       "      <td>2.000000</td>\n",
       "      <td>89.000000</td>\n",
       "      <td>1.120440</td>\n",
       "    </tr>\n",
       "  </tbody>\n",
       "</table>\n",
       "</div>"
      ],
      "text/plain": [
       "       targeted_productivity          smv           wip    over_time  \\\n",
       "count            1197.000000  1197.000000   1197.000000  1197.000000   \n",
       "mean                0.729632    15.062172   1190.269006     0.176214   \n",
       "std                 0.097891    10.943219   1395.647280     0.129197   \n",
       "min                 0.070000     2.900000      7.000000     0.000000   \n",
       "25%                 0.700000     3.940000    970.000000     0.055560   \n",
       "50%                 0.750000    15.260000   1190.000000     0.152780   \n",
       "75%                 0.800000    24.260000   1190.000000     0.268520   \n",
       "max                 0.800000    54.560000  23122.000000     1.000000   \n",
       "\n",
       "         incentive    idle_time     idle_men  no_of_style_change  \\\n",
       "count  1197.000000  1197.000000  1197.000000         1197.000000   \n",
       "mean     38.210526     0.727652     0.369256            0.150376   \n",
       "std     160.182643    12.709094     3.268987            0.427848   \n",
       "min       0.000000     0.000000     0.000000            0.000000   \n",
       "25%       0.000000     0.000000     0.000000            0.000000   \n",
       "50%       0.000000     0.000000     0.000000            0.000000   \n",
       "75%      50.000000     0.000000     0.000000            0.000000   \n",
       "max    3600.000000   300.000000    45.000000            2.000000   \n",
       "\n",
       "       no_of_workers  actual_productivity  \n",
       "count    1197.000000          1197.000000  \n",
       "mean       34.551378             0.735091  \n",
       "std        22.152559             0.174488  \n",
       "min         2.000000             0.233710  \n",
       "25%         9.000000             0.650310  \n",
       "50%        34.000000             0.773330  \n",
       "75%        57.000000             0.850250  \n",
       "max        89.000000             1.120440  "
      ]
     },
     "execution_count": 7,
     "metadata": {},
     "output_type": "execute_result"
    }
   ],
   "source": [
    "train.describe()"
   ]
  },
  {
   "cell_type": "code",
   "execution_count": 8,
   "id": "abe1455c",
   "metadata": {},
   "outputs": [
    {
     "data": {
      "text/plain": [
       "quarter                  0\n",
       "department               0\n",
       "day                      0\n",
       "targeted_productivity    0\n",
       "smv                      0\n",
       "wip                      0\n",
       "over_time                0\n",
       "incentive                0\n",
       "idle_time                0\n",
       "idle_men                 0\n",
       "no_of_style_change       0\n",
       "no_of_workers            0\n",
       "actual_productivity      0\n",
       "dtype: int64"
      ]
     },
     "execution_count": 8,
     "metadata": {},
     "output_type": "execute_result"
    }
   ],
   "source": [
    "# train 결측치 유무 확인 => 없음\n",
    "train.isnull().sum()"
   ]
  },
  {
   "cell_type": "markdown",
   "id": "8c3c7606",
   "metadata": {},
   "source": [
    "## test 데이터"
   ]
  },
  {
   "cell_type": "code",
   "execution_count": 9,
   "id": "f8fbaea2",
   "metadata": {},
   "outputs": [
    {
     "data": {
      "text/plain": [
       "(818, 12)"
      ]
     },
     "execution_count": 9,
     "metadata": {},
     "output_type": "execute_result"
    }
   ],
   "source": [
    "# test 데이터 셋 로드\n",
    "test = pd.read_csv(file_name[0], index_col=\"ID\")\n",
    "test.shape"
   ]
  },
  {
   "cell_type": "code",
   "execution_count": 10,
   "id": "f211670f",
   "metadata": {},
   "outputs": [
    {
     "data": {
      "text/html": [
       "<div>\n",
       "<style scoped>\n",
       "    .dataframe tbody tr th:only-of-type {\n",
       "        vertical-align: middle;\n",
       "    }\n",
       "\n",
       "    .dataframe tbody tr th {\n",
       "        vertical-align: top;\n",
       "    }\n",
       "\n",
       "    .dataframe thead th {\n",
       "        text-align: right;\n",
       "    }\n",
       "</style>\n",
       "<table border=\"1\" class=\"dataframe\">\n",
       "  <thead>\n",
       "    <tr style=\"text-align: right;\">\n",
       "      <th></th>\n",
       "      <th>quarter</th>\n",
       "      <th>department</th>\n",
       "      <th>day</th>\n",
       "      <th>targeted_productivity</th>\n",
       "      <th>smv</th>\n",
       "      <th>wip</th>\n",
       "      <th>over_time</th>\n",
       "      <th>incentive</th>\n",
       "      <th>idle_time</th>\n",
       "      <th>idle_men</th>\n",
       "      <th>no_of_style_change</th>\n",
       "      <th>no_of_workers</th>\n",
       "    </tr>\n",
       "    <tr>\n",
       "      <th>ID</th>\n",
       "      <th></th>\n",
       "      <th></th>\n",
       "      <th></th>\n",
       "      <th></th>\n",
       "      <th></th>\n",
       "      <th></th>\n",
       "      <th></th>\n",
       "      <th></th>\n",
       "      <th></th>\n",
       "      <th></th>\n",
       "      <th></th>\n",
       "      <th></th>\n",
       "    </tr>\n",
       "  </thead>\n",
       "  <tbody>\n",
       "    <tr>\n",
       "      <th>TEST_0000</th>\n",
       "      <td>Quarter2</td>\n",
       "      <td>sweing</td>\n",
       "      <td>Sunday</td>\n",
       "      <td>0.58792</td>\n",
       "      <td>37.82119</td>\n",
       "      <td>732</td>\n",
       "      <td>0.39583</td>\n",
       "      <td>7</td>\n",
       "      <td>0</td>\n",
       "      <td>0</td>\n",
       "      <td>0</td>\n",
       "      <td>57</td>\n",
       "    </tr>\n",
       "    <tr>\n",
       "      <th>TEST_0001</th>\n",
       "      <td>Quarter1</td>\n",
       "      <td>sweing</td>\n",
       "      <td>Sunday</td>\n",
       "      <td>0.70000</td>\n",
       "      <td>37.88145</td>\n",
       "      <td>710</td>\n",
       "      <td>0.35666</td>\n",
       "      <td>0</td>\n",
       "      <td>0</td>\n",
       "      <td>0</td>\n",
       "      <td>0</td>\n",
       "      <td>57</td>\n",
       "    </tr>\n",
       "  </tbody>\n",
       "</table>\n",
       "</div>"
      ],
      "text/plain": [
       "            quarter department     day  targeted_productivity       smv  wip  \\\n",
       "ID                                                                             \n",
       "TEST_0000  Quarter2     sweing  Sunday                0.58792  37.82119  732   \n",
       "TEST_0001  Quarter1     sweing  Sunday                0.70000  37.88145  710   \n",
       "\n",
       "           over_time  incentive  idle_time  idle_men  no_of_style_change  \\\n",
       "ID                                                                         \n",
       "TEST_0000    0.39583          7          0         0                   0   \n",
       "TEST_0001    0.35666          0          0         0                   0   \n",
       "\n",
       "           no_of_workers  \n",
       "ID                        \n",
       "TEST_0000             57  \n",
       "TEST_0001             57  "
      ]
     },
     "execution_count": 10,
     "metadata": {},
     "output_type": "execute_result"
    }
   ],
   "source": [
    "test.head(2)"
   ]
  },
  {
   "cell_type": "code",
   "execution_count": 11,
   "id": "d7c915a6",
   "metadata": {},
   "outputs": [
    {
     "name": "stdout",
     "output_type": "stream",
     "text": [
      "<class 'pandas.core.frame.DataFrame'>\n",
      "Index: 818 entries, TEST_0000 to TEST_0817\n",
      "Data columns (total 12 columns):\n",
      " #   Column                 Non-Null Count  Dtype  \n",
      "---  ------                 --------------  -----  \n",
      " 0   quarter                818 non-null    object \n",
      " 1   department             818 non-null    object \n",
      " 2   day                    818 non-null    object \n",
      " 3   targeted_productivity  818 non-null    float64\n",
      " 4   smv                    818 non-null    float64\n",
      " 5   wip                    818 non-null    int64  \n",
      " 6   over_time              818 non-null    float64\n",
      " 7   incentive              818 non-null    int64  \n",
      " 8   idle_time              818 non-null    int64  \n",
      " 9   idle_men               818 non-null    int64  \n",
      " 10  no_of_style_change     818 non-null    int64  \n",
      " 11  no_of_workers          818 non-null    int64  \n",
      "dtypes: float64(3), int64(6), object(3)\n",
      "memory usage: 83.1+ KB\n"
     ]
    }
   ],
   "source": [
    "test.info()"
   ]
  },
  {
   "cell_type": "code",
   "execution_count": 12,
   "id": "ac52700c",
   "metadata": {},
   "outputs": [
    {
     "data": {
      "text/html": [
       "<div>\n",
       "<style scoped>\n",
       "    .dataframe tbody tr th:only-of-type {\n",
       "        vertical-align: middle;\n",
       "    }\n",
       "\n",
       "    .dataframe tbody tr th {\n",
       "        vertical-align: top;\n",
       "    }\n",
       "\n",
       "    .dataframe thead th {\n",
       "        text-align: right;\n",
       "    }\n",
       "</style>\n",
       "<table border=\"1\" class=\"dataframe\">\n",
       "  <thead>\n",
       "    <tr style=\"text-align: right;\">\n",
       "      <th></th>\n",
       "      <th>targeted_productivity</th>\n",
       "      <th>smv</th>\n",
       "      <th>wip</th>\n",
       "      <th>over_time</th>\n",
       "      <th>incentive</th>\n",
       "      <th>idle_time</th>\n",
       "      <th>idle_men</th>\n",
       "      <th>no_of_style_change</th>\n",
       "      <th>no_of_workers</th>\n",
       "    </tr>\n",
       "  </thead>\n",
       "  <tbody>\n",
       "    <tr>\n",
       "      <th>count</th>\n",
       "      <td>818.000000</td>\n",
       "      <td>818.000000</td>\n",
       "      <td>818.000000</td>\n",
       "      <td>818.000000</td>\n",
       "      <td>818.000000</td>\n",
       "      <td>818.000000</td>\n",
       "      <td>818.000000</td>\n",
       "      <td>818.000000</td>\n",
       "      <td>818.000000</td>\n",
       "    </tr>\n",
       "    <tr>\n",
       "      <th>mean</th>\n",
       "      <td>0.634540</td>\n",
       "      <td>16.038430</td>\n",
       "      <td>1044.110024</td>\n",
       "      <td>0.173913</td>\n",
       "      <td>15.057457</td>\n",
       "      <td>1.374083</td>\n",
       "      <td>0.959658</td>\n",
       "      <td>0.096577</td>\n",
       "      <td>33.201711</td>\n",
       "    </tr>\n",
       "    <tr>\n",
       "      <th>std</th>\n",
       "      <td>0.127012</td>\n",
       "      <td>12.403975</td>\n",
       "      <td>389.346297</td>\n",
       "      <td>0.118697</td>\n",
       "      <td>94.428464</td>\n",
       "      <td>13.502325</td>\n",
       "      <td>4.448766</td>\n",
       "      <td>0.299674</td>\n",
       "      <td>22.720529</td>\n",
       "    </tr>\n",
       "    <tr>\n",
       "      <th>min</th>\n",
       "      <td>0.085370</td>\n",
       "      <td>2.900000</td>\n",
       "      <td>10.000000</td>\n",
       "      <td>0.000000</td>\n",
       "      <td>0.000000</td>\n",
       "      <td>0.000000</td>\n",
       "      <td>0.000000</td>\n",
       "      <td>0.000000</td>\n",
       "      <td>4.000000</td>\n",
       "    </tr>\n",
       "    <tr>\n",
       "      <th>25%</th>\n",
       "      <td>0.540425</td>\n",
       "      <td>3.940000</td>\n",
       "      <td>843.000000</td>\n",
       "      <td>0.052040</td>\n",
       "      <td>0.000000</td>\n",
       "      <td>0.000000</td>\n",
       "      <td>0.000000</td>\n",
       "      <td>0.000000</td>\n",
       "      <td>8.000000</td>\n",
       "    </tr>\n",
       "    <tr>\n",
       "      <th>50%</th>\n",
       "      <td>0.674930</td>\n",
       "      <td>17.794120</td>\n",
       "      <td>1190.000000</td>\n",
       "      <td>0.181900</td>\n",
       "      <td>0.000000</td>\n",
       "      <td>0.000000</td>\n",
       "      <td>0.000000</td>\n",
       "      <td>0.000000</td>\n",
       "      <td>44.500000</td>\n",
       "    </tr>\n",
       "    <tr>\n",
       "      <th>75%</th>\n",
       "      <td>0.727795</td>\n",
       "      <td>25.509667</td>\n",
       "      <td>1190.000000</td>\n",
       "      <td>0.263448</td>\n",
       "      <td>9.750000</td>\n",
       "      <td>0.000000</td>\n",
       "      <td>0.000000</td>\n",
       "      <td>0.000000</td>\n",
       "      <td>56.000000</td>\n",
       "    </tr>\n",
       "    <tr>\n",
       "      <th>max</th>\n",
       "      <td>0.800000</td>\n",
       "      <td>49.933420</td>\n",
       "      <td>2713.000000</td>\n",
       "      <td>0.868240</td>\n",
       "      <td>961.000000</td>\n",
       "      <td>267.000000</td>\n",
       "      <td>36.000000</td>\n",
       "      <td>2.000000</td>\n",
       "      <td>59.000000</td>\n",
       "    </tr>\n",
       "  </tbody>\n",
       "</table>\n",
       "</div>"
      ],
      "text/plain": [
       "       targeted_productivity         smv          wip   over_time   incentive  \\\n",
       "count             818.000000  818.000000   818.000000  818.000000  818.000000   \n",
       "mean                0.634540   16.038430  1044.110024    0.173913   15.057457   \n",
       "std                 0.127012   12.403975   389.346297    0.118697   94.428464   \n",
       "min                 0.085370    2.900000    10.000000    0.000000    0.000000   \n",
       "25%                 0.540425    3.940000   843.000000    0.052040    0.000000   \n",
       "50%                 0.674930   17.794120  1190.000000    0.181900    0.000000   \n",
       "75%                 0.727795   25.509667  1190.000000    0.263448    9.750000   \n",
       "max                 0.800000   49.933420  2713.000000    0.868240  961.000000   \n",
       "\n",
       "        idle_time    idle_men  no_of_style_change  no_of_workers  \n",
       "count  818.000000  818.000000          818.000000     818.000000  \n",
       "mean     1.374083    0.959658            0.096577      33.201711  \n",
       "std     13.502325    4.448766            0.299674      22.720529  \n",
       "min      0.000000    0.000000            0.000000       4.000000  \n",
       "25%      0.000000    0.000000            0.000000       8.000000  \n",
       "50%      0.000000    0.000000            0.000000      44.500000  \n",
       "75%      0.000000    0.000000            0.000000      56.000000  \n",
       "max    267.000000   36.000000            2.000000      59.000000  "
      ]
     },
     "execution_count": 12,
     "metadata": {},
     "output_type": "execute_result"
    }
   ],
   "source": [
    "test.describe()"
   ]
  },
  {
   "cell_type": "code",
   "execution_count": 13,
   "id": "4af72777",
   "metadata": {},
   "outputs": [
    {
     "data": {
      "text/plain": [
       "quarter                  0\n",
       "department               0\n",
       "day                      0\n",
       "targeted_productivity    0\n",
       "smv                      0\n",
       "wip                      0\n",
       "over_time                0\n",
       "incentive                0\n",
       "idle_time                0\n",
       "idle_men                 0\n",
       "no_of_style_change       0\n",
       "no_of_workers            0\n",
       "dtype: int64"
      ]
     },
     "execution_count": 13,
     "metadata": {},
     "output_type": "execute_result"
    }
   ],
   "source": [
    "test.isnull().sum()"
   ]
  },
  {
   "cell_type": "markdown",
   "id": "fec16af6",
   "metadata": {},
   "source": [
    "## Train과 Test 데이터 요약\n",
    "\n",
    "1. train 데이터셋에는 'actual_productivity' 컬럼 포함 (test에는 포함되지 않는 컬럼)\n",
    " ==> 정답값\n",
    "2. 분기를 나타내는 (quarter)는 object 타입으로 구성 => 원핫인코딩을 하게된다면 전처리 따로 필요없음(ex: Quarter2 => 2)\n",
    "3. incentive, idle_time, idle_men, no_of_style_change 은 대부분 0으로 구성\n",
    "4. 두 데이터셋엔 결측치가 포함되어있지 않음"
   ]
  },
  {
   "cell_type": "markdown",
   "id": "abcaf43b",
   "metadata": {},
   "source": [
    "# 상관분석"
   ]
  },
  {
   "cell_type": "code",
   "execution_count": 14,
   "id": "f978ad08",
   "metadata": {},
   "outputs": [
    {
     "data": {
      "text/html": [
       "<div>\n",
       "<style scoped>\n",
       "    .dataframe tbody tr th:only-of-type {\n",
       "        vertical-align: middle;\n",
       "    }\n",
       "\n",
       "    .dataframe tbody tr th {\n",
       "        vertical-align: top;\n",
       "    }\n",
       "\n",
       "    .dataframe thead th {\n",
       "        text-align: right;\n",
       "    }\n",
       "</style>\n",
       "<table border=\"1\" class=\"dataframe\">\n",
       "  <thead>\n",
       "    <tr style=\"text-align: right;\">\n",
       "      <th></th>\n",
       "      <th>targeted_productivity</th>\n",
       "      <th>smv</th>\n",
       "      <th>wip</th>\n",
       "      <th>over_time</th>\n",
       "      <th>incentive</th>\n",
       "      <th>idle_time</th>\n",
       "      <th>idle_men</th>\n",
       "      <th>no_of_style_change</th>\n",
       "      <th>no_of_workers</th>\n",
       "      <th>actual_productivity</th>\n",
       "    </tr>\n",
       "  </thead>\n",
       "  <tbody>\n",
       "    <tr>\n",
       "      <th>targeted_productivity</th>\n",
       "      <td>1.000000</td>\n",
       "      <td>-0.069489</td>\n",
       "      <td>0.049103</td>\n",
       "      <td>-0.088557</td>\n",
       "      <td>0.032768</td>\n",
       "      <td>-0.056124</td>\n",
       "      <td>-0.053818</td>\n",
       "      <td>-0.209294</td>\n",
       "      <td>-0.085202</td>\n",
       "      <td>0.421594</td>\n",
       "    </tr>\n",
       "    <tr>\n",
       "      <th>smv</th>\n",
       "      <td>-0.069489</td>\n",
       "      <td>1.000000</td>\n",
       "      <td>-0.018178</td>\n",
       "      <td>0.674887</td>\n",
       "      <td>0.032629</td>\n",
       "      <td>0.056641</td>\n",
       "      <td>0.105901</td>\n",
       "      <td>0.315388</td>\n",
       "      <td>0.911999</td>\n",
       "      <td>-0.122089</td>\n",
       "    </tr>\n",
       "    <tr>\n",
       "      <th>wip</th>\n",
       "      <td>0.049103</td>\n",
       "      <td>-0.018178</td>\n",
       "      <td>1.000000</td>\n",
       "      <td>0.014602</td>\n",
       "      <td>0.021888</td>\n",
       "      <td>-0.026173</td>\n",
       "      <td>-0.048474</td>\n",
       "      <td>-0.068954</td>\n",
       "      <td>0.009527</td>\n",
       "      <td>0.088350</td>\n",
       "    </tr>\n",
       "    <tr>\n",
       "      <th>over_time</th>\n",
       "      <td>-0.088557</td>\n",
       "      <td>0.674887</td>\n",
       "      <td>0.014602</td>\n",
       "      <td>1.000000</td>\n",
       "      <td>-0.004795</td>\n",
       "      <td>0.031013</td>\n",
       "      <td>-0.017913</td>\n",
       "      <td>0.059789</td>\n",
       "      <td>0.733111</td>\n",
       "      <td>-0.054207</td>\n",
       "    </tr>\n",
       "    <tr>\n",
       "      <th>incentive</th>\n",
       "      <td>0.032768</td>\n",
       "      <td>0.032629</td>\n",
       "      <td>0.021888</td>\n",
       "      <td>-0.004795</td>\n",
       "      <td>1.000000</td>\n",
       "      <td>-0.011990</td>\n",
       "      <td>-0.021140</td>\n",
       "      <td>-0.026607</td>\n",
       "      <td>0.049089</td>\n",
       "      <td>0.076537</td>\n",
       "    </tr>\n",
       "    <tr>\n",
       "      <th>idle_time</th>\n",
       "      <td>-0.056124</td>\n",
       "      <td>0.056641</td>\n",
       "      <td>-0.026173</td>\n",
       "      <td>0.031013</td>\n",
       "      <td>-0.011990</td>\n",
       "      <td>1.000000</td>\n",
       "      <td>0.557839</td>\n",
       "      <td>-0.011837</td>\n",
       "      <td>0.057768</td>\n",
       "      <td>-0.080520</td>\n",
       "    </tr>\n",
       "    <tr>\n",
       "      <th>idle_men</th>\n",
       "      <td>-0.053818</td>\n",
       "      <td>0.105901</td>\n",
       "      <td>-0.048474</td>\n",
       "      <td>-0.017913</td>\n",
       "      <td>-0.021140</td>\n",
       "      <td>0.557839</td>\n",
       "      <td>1.000000</td>\n",
       "      <td>0.133632</td>\n",
       "      <td>0.107231</td>\n",
       "      <td>-0.181735</td>\n",
       "    </tr>\n",
       "    <tr>\n",
       "      <th>no_of_style_change</th>\n",
       "      <td>-0.209294</td>\n",
       "      <td>0.315388</td>\n",
       "      <td>-0.068954</td>\n",
       "      <td>0.059789</td>\n",
       "      <td>-0.026607</td>\n",
       "      <td>-0.011837</td>\n",
       "      <td>0.133632</td>\n",
       "      <td>1.000000</td>\n",
       "      <td>0.329206</td>\n",
       "      <td>-0.207366</td>\n",
       "    </tr>\n",
       "    <tr>\n",
       "      <th>no_of_workers</th>\n",
       "      <td>-0.085202</td>\n",
       "      <td>0.911999</td>\n",
       "      <td>0.009527</td>\n",
       "      <td>0.733111</td>\n",
       "      <td>0.049089</td>\n",
       "      <td>0.057768</td>\n",
       "      <td>0.107231</td>\n",
       "      <td>0.329206</td>\n",
       "      <td>1.000000</td>\n",
       "      <td>-0.058737</td>\n",
       "    </tr>\n",
       "    <tr>\n",
       "      <th>actual_productivity</th>\n",
       "      <td>0.421594</td>\n",
       "      <td>-0.122089</td>\n",
       "      <td>0.088350</td>\n",
       "      <td>-0.054207</td>\n",
       "      <td>0.076537</td>\n",
       "      <td>-0.080520</td>\n",
       "      <td>-0.181735</td>\n",
       "      <td>-0.207366</td>\n",
       "      <td>-0.058737</td>\n",
       "      <td>1.000000</td>\n",
       "    </tr>\n",
       "  </tbody>\n",
       "</table>\n",
       "</div>"
      ],
      "text/plain": [
       "                       targeted_productivity       smv       wip  over_time  \\\n",
       "targeted_productivity               1.000000 -0.069489  0.049103  -0.088557   \n",
       "smv                                -0.069489  1.000000 -0.018178   0.674887   \n",
       "wip                                 0.049103 -0.018178  1.000000   0.014602   \n",
       "over_time                          -0.088557  0.674887  0.014602   1.000000   \n",
       "incentive                           0.032768  0.032629  0.021888  -0.004795   \n",
       "idle_time                          -0.056124  0.056641 -0.026173   0.031013   \n",
       "idle_men                           -0.053818  0.105901 -0.048474  -0.017913   \n",
       "no_of_style_change                 -0.209294  0.315388 -0.068954   0.059789   \n",
       "no_of_workers                      -0.085202  0.911999  0.009527   0.733111   \n",
       "actual_productivity                 0.421594 -0.122089  0.088350  -0.054207   \n",
       "\n",
       "                       incentive  idle_time  idle_men  no_of_style_change  \\\n",
       "targeted_productivity   0.032768  -0.056124 -0.053818           -0.209294   \n",
       "smv                     0.032629   0.056641  0.105901            0.315388   \n",
       "wip                     0.021888  -0.026173 -0.048474           -0.068954   \n",
       "over_time              -0.004795   0.031013 -0.017913            0.059789   \n",
       "incentive               1.000000  -0.011990 -0.021140           -0.026607   \n",
       "idle_time              -0.011990   1.000000  0.557839           -0.011837   \n",
       "idle_men               -0.021140   0.557839  1.000000            0.133632   \n",
       "no_of_style_change     -0.026607  -0.011837  0.133632            1.000000   \n",
       "no_of_workers           0.049089   0.057768  0.107231            0.329206   \n",
       "actual_productivity     0.076537  -0.080520 -0.181735           -0.207366   \n",
       "\n",
       "                       no_of_workers  actual_productivity  \n",
       "targeted_productivity      -0.085202             0.421594  \n",
       "smv                         0.911999            -0.122089  \n",
       "wip                         0.009527             0.088350  \n",
       "over_time                   0.733111            -0.054207  \n",
       "incentive                   0.049089             0.076537  \n",
       "idle_time                   0.057768            -0.080520  \n",
       "idle_men                    0.107231            -0.181735  \n",
       "no_of_style_change          0.329206            -0.207366  \n",
       "no_of_workers               1.000000            -0.058737  \n",
       "actual_productivity        -0.058737             1.000000  "
      ]
     },
     "execution_count": 14,
     "metadata": {},
     "output_type": "execute_result"
    }
   ],
   "source": [
    "corr = train.corr()\n",
    "corr"
   ]
  },
  {
   "cell_type": "code",
   "execution_count": 15,
   "id": "a87d589b",
   "metadata": {},
   "outputs": [
    {
     "data": {
      "image/png": "[encoded data removed]",
      "text/plain": [
       "<Figure size 1080x936 with 2 Axes>"
      ]
     },
     "metadata": {
      "needs_background": "light"
     },
     "output_type": "display_data"
    }
   ],
   "source": [
    "mask = np.triu(corr)\n",
    "plt.figure(figsize=(15, 13))\n",
    "sns.heatmap(corr, cmap=\"magma\", mask=mask, annot=True, fmt='.3f')\n",
    "plt.show()"
   ]
  },
  {
   "cell_type": "markdown",
   "id": "0248c936",
   "metadata": {},
   "source": [
    "- 실제 생산량과 가장 상관성이 큰 항목은 목표생산량임\n",
    "- 실제 생산량과 초과근무시간(over_time), idle_time, idle_men, no_of_style_change, no_of_workers 는 상관성이 없는 것으로 판단됨\n",
    "- 작업에 할당된 시간과 노동자 수는 높은 상관성을 보임 "
   ]
  },
  {
   "cell_type": "markdown",
   "id": "ab578fae",
   "metadata": {},
   "source": [
    "# 데이터 시각화"
   ]
  },
  {
   "cell_type": "code",
   "execution_count": 16,
   "id": "c0ba9a85",
   "metadata": {},
   "outputs": [
    {
     "data": {
      "image/png": "[encoded data removed]",
      "text/plain": [
       "<Figure size 1080x720 with 12 Axes>"
      ]
     },
     "metadata": {
      "needs_background": "light"
     },
     "output_type": "display_data"
    }
   ],
   "source": [
    "train.hist(figsize=(15, 10), bins=50);"
   ]
  },
  {
   "cell_type": "code",
   "execution_count": 17,
   "id": "6a7fbbd3",
   "metadata": {},
   "outputs": [
    {
     "data": {
      "image/png": "[encoded data removed]",
      "text/plain": [
       "<Figure size 1080x720 with 9 Axes>"
      ]
     },
     "metadata": {
      "needs_background": "light"
     },
     "output_type": "display_data"
    }
   ],
   "source": [
    "test.hist(figsize=(15,10), bins=50);"
   ]
  },
  {
   "cell_type": "code",
   "execution_count": 18,
   "id": "169567d4",
   "metadata": {},
   "outputs": [
    {
     "data": {
      "text/plain": [
       "<AxesSubplot:xlabel='department', ylabel='count'>"
      ]
     },
     "execution_count": 18,
     "metadata": {},
     "output_type": "execute_result"
    },
    {
     "data": {
      "image/png": "[encoded data removed]",
      "text/plain": [
       "<Figure size 432x288 with 1 Axes>"
      ]
     },
     "metadata": {
      "needs_background": "light"
     },
     "output_type": "display_data"
    }
   ],
   "source": [
    "sns.countplot(data=train, x=\"department\")"
   ]
  },
  {
   "cell_type": "code",
   "execution_count": 19,
   "id": "357cb8da",
   "metadata": {},
   "outputs": [
    {
     "data": {
      "image/png": "[encoded data removed]",
      "text/plain": [
       "<Figure size 432x288 with 1 Axes>"
      ]
     },
     "metadata": {
      "needs_background": "light"
     },
     "output_type": "display_data"
    }
   ],
   "source": [
    "sns.lineplot(data=train, x=\"targeted_productivity\", y=\"actual_productivity\");"
   ]
  },
  {
   "cell_type": "markdown",
   "id": "2f77c6f5",
   "metadata": {},
   "source": [
    "- 목표 생산량을 약 0.35 이상의 값으로 설정하면 신뢰구간이 넓어지는 것을 파악"
   ]
  },
  {
   "cell_type": "code",
   "execution_count": 23,
   "id": "f09a6faa",
   "metadata": {},
   "outputs": [
    {
     "data": {
      "image/png": "[encoded data removed]",
      "text/plain": [
       "<Figure size 432x288 with 1 Axes>"
      ]
     },
     "metadata": {
      "needs_background": "light"
     },
     "output_type": "display_data"
    }
   ],
   "source": [
    "train[train.department==\"finishing\"][\"actual_productivity\"].sort_values().reset_index(drop=True).plot()\n",
    "train[train.department==\"sweing\"][\"actual_productivity\"].sort_values().reset_index(drop=True).plot()\n",
    "\n",
    "plt.legend([\"finishing\", \"sweing\"]);"
   ]
  },
  {
   "cell_type": "code",
   "execution_count": 24,
   "id": "aa36fbc0",
   "metadata": {},
   "outputs": [
    {
     "data": {
      "image/png": "[encoded data removed]",
      "text/plain": [
       "<Figure size 1152x576 with 4 Axes>"
      ]
     },
     "metadata": {
      "needs_background": "light"
     },
     "output_type": "display_data"
    }
   ],
   "source": [
    "fig = plt.figure(figsize=(16,8))\n",
    "ax1 = fig.add_subplot(1, 4, 1)\n",
    "ax2 = fig.add_subplot(1, 4, 2)\n",
    "ax3 = fig.add_subplot(1, 4, 3)\n",
    "ax4 = fig.add_subplot(1, 4, 4)\n",
    "\n",
    "ax1.boxplot(train[\"smv\"])\n",
    "ax2.boxplot(train[\"over_time\"])\n",
    "ax3.boxplot(train[\"actual_productivity\"])\n",
    "ax4.boxplot(train[\"targeted_productivity\"])\n",
    "\n",
    "plt.show()"
   ]
  },
  {
   "cell_type": "markdown",
   "id": "1a362f43",
   "metadata": {},
   "source": [
    "# 데이터 전처리"
   ]
  },
  {
   "cell_type": "code",
   "execution_count": 25,
   "id": "3f5f27cc",
   "metadata": {},
   "outputs": [],
   "source": [
    "# 분기 컬럼을 구성하는 데이터를 Int 타입으로 변경\n",
    "train[\"quarter_num\"] = train[\"quarter\"].map(lambda x: int(x.strip()[-1]))\n",
    "test[\"quarter_num\"] = test[\"quarter\"].map(lambda x: int(x.strip()[-1]))"
   ]
  },
  {
   "cell_type": "code",
   "execution_count": 26,
   "id": "b6aab713",
   "metadata": {},
   "outputs": [],
   "source": [
    "# 부서 0, 1로 원핫인코딩 처리\n",
    "train[\"department_num\"] = pd.get_dummies(data=train[\"department\"], drop_first=True)\n",
    "test[\"department_num\"] = pd.get_dummies(data=test[\"department\"], drop_first=True)"
   ]
  },
  {
   "cell_type": "code",
   "execution_count": 27,
   "id": "280bf5c9",
   "metadata": {},
   "outputs": [
    {
     "data": {
      "text/plain": [
       "array(['Thursday', 'Saturday', 'Sunday', 'Monday', 'Tuesday', 'Wednesday'],\n",
       "      dtype=object)"
      ]
     },
     "execution_count": 27,
     "metadata": {},
     "output_type": "execute_result"
    }
   ],
   "source": [
    "train[\"day\"].unique()"
   ]
  },
  {
   "cell_type": "code",
   "execution_count": 28,
   "id": "834f4c4f",
   "metadata": {},
   "outputs": [],
   "source": [
    "# 요일 전처리 = 월:0, 화:1, 수:2, 목:3, 금(X), 토:4, 일:5\n",
    "train[\"day\"] = train[\"day\"].str.strip()\n",
    "\n",
    "train.loc[train[\"day\"] == \"Monday\" ,\"day_num\"] = 0\n",
    "train.loc[train[\"day\"] == \"Tuesday\" ,\"day_num\"] = 1\n",
    "train.loc[train[\"day\"] == \"Wednesday\" ,\"day_num\"] = 2\n",
    "train.loc[train[\"day\"] == \"Thursday\" ,\"day_num\"] = 3\n",
    "train.loc[train[\"day\"] == \"Saturday\" ,\"day_num\"] = 4\n",
    "train.loc[train[\"day\"] == \"Sunday\" ,\"day_num\"] = 5"
   ]
  },
  {
   "cell_type": "code",
   "execution_count": 29,
   "id": "d599fa15",
   "metadata": {},
   "outputs": [],
   "source": [
    "# 요일 전처리 = 월:0, 화:1, 수:2, 목:3, 금(X), 토:4, 일:5\n",
    "test[\"day\"] = test[\"day\"].str.strip()\n",
    "\n",
    "test.loc[test[\"day\"] == \"Monday\" ,\"day_num\"] = 0\n",
    "test.loc[test[\"day\"] == \"Tuesday\" ,\"day_num\"] = 1\n",
    "test.loc[test[\"day\"] == \"Wednesday\" ,\"day_num\"] = 2\n",
    "test.loc[test[\"day\"] == \"Thursday\" ,\"day_num\"] = 3\n",
    "test.loc[test[\"day\"] == \"Saturday\" ,\"day_num\"] = 4\n",
    "test.loc[test[\"day\"] == \"Sunday\" ,\"day_num\"] = 5"
   ]
  },
  {
   "cell_type": "code",
   "execution_count": 31,
   "id": "00ca4b63",
   "metadata": {},
   "outputs": [
    {
     "data": {
      "text/html": [
       "<div>\n",
       "<style scoped>\n",
       "    .dataframe tbody tr th:only-of-type {\n",
       "        vertical-align: middle;\n",
       "    }\n",
       "\n",
       "    .dataframe tbody tr th {\n",
       "        vertical-align: top;\n",
       "    }\n",
       "\n",
       "    .dataframe thead th {\n",
       "        text-align: right;\n",
       "    }\n",
       "</style>\n",
       "<table border=\"1\" class=\"dataframe\">\n",
       "  <thead>\n",
       "    <tr style=\"text-align: right;\">\n",
       "      <th></th>\n",
       "      <th>quarter</th>\n",
       "      <th>department</th>\n",
       "      <th>day</th>\n",
       "      <th>targeted_productivity</th>\n",
       "      <th>smv</th>\n",
       "      <th>wip</th>\n",
       "      <th>over_time</th>\n",
       "      <th>incentive</th>\n",
       "      <th>idle_time</th>\n",
       "      <th>idle_men</th>\n",
       "      <th>no_of_style_change</th>\n",
       "      <th>no_of_workers</th>\n",
       "      <th>actual_productivity</th>\n",
       "      <th>quarter_num</th>\n",
       "      <th>department_num</th>\n",
       "      <th>day_num</th>\n",
       "    </tr>\n",
       "    <tr>\n",
       "      <th>ID</th>\n",
       "      <th></th>\n",
       "      <th></th>\n",
       "      <th></th>\n",
       "      <th></th>\n",
       "      <th></th>\n",
       "      <th></th>\n",
       "      <th></th>\n",
       "      <th></th>\n",
       "      <th></th>\n",
       "      <th></th>\n",
       "      <th></th>\n",
       "      <th></th>\n",
       "      <th></th>\n",
       "      <th></th>\n",
       "      <th></th>\n",
       "      <th></th>\n",
       "    </tr>\n",
       "  </thead>\n",
       "  <tbody>\n",
       "    <tr>\n",
       "      <th>TRAIN_0000</th>\n",
       "      <td>Quarter1</td>\n",
       "      <td>sweing</td>\n",
       "      <td>Thursday</td>\n",
       "      <td>0.80</td>\n",
       "      <td>26.16</td>\n",
       "      <td>1108</td>\n",
       "      <td>0.27315</td>\n",
       "      <td>98</td>\n",
       "      <td>0</td>\n",
       "      <td>0</td>\n",
       "      <td>0</td>\n",
       "      <td>59</td>\n",
       "      <td>0.94073</td>\n",
       "      <td>1</td>\n",
       "      <td>1</td>\n",
       "      <td>3.0</td>\n",
       "    </tr>\n",
       "    <tr>\n",
       "      <th>TRAIN_0001</th>\n",
       "      <td>Quarter1</td>\n",
       "      <td>finishing</td>\n",
       "      <td>Thursday</td>\n",
       "      <td>0.75</td>\n",
       "      <td>3.94</td>\n",
       "      <td>1190</td>\n",
       "      <td>0.03704</td>\n",
       "      <td>0</td>\n",
       "      <td>0</td>\n",
       "      <td>0</td>\n",
       "      <td>0</td>\n",
       "      <td>8</td>\n",
       "      <td>0.88650</td>\n",
       "      <td>1</td>\n",
       "      <td>0</td>\n",
       "      <td>3.0</td>\n",
       "    </tr>\n",
       "  </tbody>\n",
       "</table>\n",
       "</div>"
      ],
      "text/plain": [
       "             quarter department       day  targeted_productivity    smv   wip  \\\n",
       "ID                                                                              \n",
       "TRAIN_0000  Quarter1     sweing  Thursday                   0.80  26.16  1108   \n",
       "TRAIN_0001  Quarter1  finishing  Thursday                   0.75   3.94  1190   \n",
       "\n",
       "            over_time  incentive  idle_time  idle_men  no_of_style_change  \\\n",
       "ID                                                                          \n",
       "TRAIN_0000    0.27315         98          0         0                   0   \n",
       "TRAIN_0001    0.03704          0          0         0                   0   \n",
       "\n",
       "            no_of_workers  actual_productivity  quarter_num  department_num  \\\n",
       "ID                                                                            \n",
       "TRAIN_0000             59              0.94073            1               1   \n",
       "TRAIN_0001              8              0.88650            1               0   \n",
       "\n",
       "            day_num  \n",
       "ID                   \n",
       "TRAIN_0000      3.0  \n",
       "TRAIN_0001      3.0  "
      ]
     },
     "execution_count": 31,
     "metadata": {},
     "output_type": "execute_result"
    }
   ],
   "source": [
    "train.head(2)"
   ]
  },
  {
   "cell_type": "code",
   "execution_count": 32,
   "id": "c5074a6f",
   "metadata": {},
   "outputs": [
    {
     "data": {
      "text/html": [
       "<div>\n",
       "<style scoped>\n",
       "    .dataframe tbody tr th:only-of-type {\n",
       "        vertical-align: middle;\n",
       "    }\n",
       "\n",
       "    .dataframe tbody tr th {\n",
       "        vertical-align: top;\n",
       "    }\n",
       "\n",
       "    .dataframe thead th {\n",
       "        text-align: right;\n",
       "    }\n",
       "</style>\n",
       "<table border=\"1\" class=\"dataframe\">\n",
       "  <thead>\n",
       "    <tr style=\"text-align: right;\">\n",
       "      <th></th>\n",
       "      <th>quarter</th>\n",
       "      <th>department</th>\n",
       "      <th>day</th>\n",
       "      <th>targeted_productivity</th>\n",
       "      <th>smv</th>\n",
       "      <th>wip</th>\n",
       "      <th>over_time</th>\n",
       "      <th>incentive</th>\n",
       "      <th>idle_time</th>\n",
       "      <th>idle_men</th>\n",
       "      <th>no_of_style_change</th>\n",
       "      <th>no_of_workers</th>\n",
       "      <th>quarter_num</th>\n",
       "      <th>department_num</th>\n",
       "      <th>day_num</th>\n",
       "    </tr>\n",
       "    <tr>\n",
       "      <th>ID</th>\n",
       "      <th></th>\n",
       "      <th></th>\n",
       "      <th></th>\n",
       "      <th></th>\n",
       "      <th></th>\n",
       "      <th></th>\n",
       "      <th></th>\n",
       "      <th></th>\n",
       "      <th></th>\n",
       "      <th></th>\n",
       "      <th></th>\n",
       "      <th></th>\n",
       "      <th></th>\n",
       "      <th></th>\n",
       "      <th></th>\n",
       "    </tr>\n",
       "  </thead>\n",
       "  <tbody>\n",
       "    <tr>\n",
       "      <th>TEST_0000</th>\n",
       "      <td>Quarter2</td>\n",
       "      <td>sweing</td>\n",
       "      <td>Sunday</td>\n",
       "      <td>0.58792</td>\n",
       "      <td>37.82119</td>\n",
       "      <td>732</td>\n",
       "      <td>0.39583</td>\n",
       "      <td>7</td>\n",
       "      <td>0</td>\n",
       "      <td>0</td>\n",
       "      <td>0</td>\n",
       "      <td>57</td>\n",
       "      <td>2</td>\n",
       "      <td>1</td>\n",
       "      <td>5.0</td>\n",
       "    </tr>\n",
       "    <tr>\n",
       "      <th>TEST_0001</th>\n",
       "      <td>Quarter1</td>\n",
       "      <td>sweing</td>\n",
       "      <td>Sunday</td>\n",
       "      <td>0.70000</td>\n",
       "      <td>37.88145</td>\n",
       "      <td>710</td>\n",
       "      <td>0.35666</td>\n",
       "      <td>0</td>\n",
       "      <td>0</td>\n",
       "      <td>0</td>\n",
       "      <td>0</td>\n",
       "      <td>57</td>\n",
       "      <td>1</td>\n",
       "      <td>1</td>\n",
       "      <td>5.0</td>\n",
       "    </tr>\n",
       "  </tbody>\n",
       "</table>\n",
       "</div>"
      ],
      "text/plain": [
       "            quarter department     day  targeted_productivity       smv  wip  \\\n",
       "ID                                                                             \n",
       "TEST_0000  Quarter2     sweing  Sunday                0.58792  37.82119  732   \n",
       "TEST_0001  Quarter1     sweing  Sunday                0.70000  37.88145  710   \n",
       "\n",
       "           over_time  incentive  idle_time  idle_men  no_of_style_change  \\\n",
       "ID                                                                         \n",
       "TEST_0000    0.39583          7          0         0                   0   \n",
       "TEST_0001    0.35666          0          0         0                   0   \n",
       "\n",
       "           no_of_workers  quarter_num  department_num  day_num  \n",
       "ID                                                              \n",
       "TEST_0000             57            2               1      5.0  \n",
       "TEST_0001             57            1               1      5.0  "
      ]
     },
     "execution_count": 32,
     "metadata": {},
     "output_type": "execute_result"
    }
   ],
   "source": [
    "test.head(2)"
   ]
  },
  {
   "cell_type": "code",
   "execution_count": 33,
   "id": "31c6c169",
   "metadata": {},
   "outputs": [
    {
     "name": "stdout",
     "output_type": "stream",
     "text": [
      "<class 'pandas.core.frame.DataFrame'>\n",
      "Index: 1197 entries, TRAIN_0000 to TRAIN_1196\n",
      "Data columns (total 16 columns):\n",
      " #   Column                 Non-Null Count  Dtype  \n",
      "---  ------                 --------------  -----  \n",
      " 0   quarter                1197 non-null   object \n",
      " 1   department             1197 non-null   object \n",
      " 2   day                    1197 non-null   object \n",
      " 3   targeted_productivity  1197 non-null   float64\n",
      " 4   smv                    1197 non-null   float64\n",
      " 5   wip                    1197 non-null   int64  \n",
      " 6   over_time              1197 non-null   float64\n",
      " 7   incentive              1197 non-null   int64  \n",
      " 8   idle_time              1197 non-null   int64  \n",
      " 9   idle_men               1197 non-null   int64  \n",
      " 10  no_of_style_change     1197 non-null   int64  \n",
      " 11  no_of_workers          1197 non-null   int64  \n",
      " 12  actual_productivity    1197 non-null   float64\n",
      " 13  quarter_num            1197 non-null   int64  \n",
      " 14  department_num         1197 non-null   uint8  \n",
      " 15  day_num                1197 non-null   float64\n",
      "dtypes: float64(5), int64(7), object(3), uint8(1)\n",
      "memory usage: 183.1+ KB\n"
     ]
    }
   ],
   "source": [
    "train.info()"
   ]
  },
  {
   "cell_type": "code",
   "execution_count": 34,
   "id": "010a166e",
   "metadata": {},
   "outputs": [
    {
     "data": {
      "text/plain": [
       "Index(['quarter', 'department', 'day', 'targeted_productivity', 'smv', 'wip',\n",
       "       'over_time', 'incentive', 'idle_time', 'idle_men', 'no_of_style_change',\n",
       "       'no_of_workers', 'actual_productivity', 'quarter_num', 'department_num',\n",
       "       'day_num'],\n",
       "      dtype='object')"
      ]
     },
     "execution_count": 34,
     "metadata": {},
     "output_type": "execute_result"
    }
   ],
   "source": [
    "train.columns"
   ]
  },
  {
   "cell_type": "code",
   "execution_count": 35,
   "id": "23cd0bed",
   "metadata": {},
   "outputs": [],
   "source": [
    "feature_name = ['targeted_productivity', 'smv', 'wip',\n",
    "       'over_time', 'incentive',\n",
    "       'no_of_workers', 'quarter_num', 'department_num', 'day_num']\n",
    "\n",
    "label_name = \"actual_productivity\""
   ]
  },
  {
   "cell_type": "code",
   "execution_count": 36,
   "id": "1dfe7807",
   "metadata": {},
   "outputs": [],
   "source": [
    "X_train = train[feature_name]\n",
    "y_train = train[label_name]\n",
    "X_test = test[feature_name]"
   ]
  },
  {
   "cell_type": "code",
   "execution_count": 47,
   "id": "27c35cdb",
   "metadata": {},
   "outputs": [
    {
     "data": {
      "text/plain": [
       "ID\n",
       "TRAIN_0000    0.94073\n",
       "TRAIN_0001    0.88650\n",
       "Name: actual_productivity, dtype: float64"
      ]
     },
     "execution_count": 47,
     "metadata": {},
     "output_type": "execute_result"
    }
   ],
   "source": [
    "y_train.head(2)"
   ]
  },
  {
   "cell_type": "markdown",
   "id": "3ee6720c",
   "metadata": {},
   "source": [
    "# 최종 제출 모델\n",
    "\n",
    "## 랜덤포레스트 & 그리드서치"
   ]
  },
  {
   "cell_type": "code",
   "execution_count": 37,
   "id": "1a5e84a8",
   "metadata": {},
   "outputs": [
    {
     "data": {
      "text/plain": [
       "RandomForestRegressor(n_estimators=300, random_state=42)"
      ]
     },
     "execution_count": 37,
     "metadata": {},
     "output_type": "execute_result"
    }
   ],
   "source": [
    "from sklearn.ensemble import RandomForestRegressor\n",
    "\n",
    "model = RandomForestRegressor(random_state=42, n_estimators=300)\n",
    "model"
   ]
  },
  {
   "cell_type": "code",
   "execution_count": 38,
   "id": "be4a76a8",
   "metadata": {},
   "outputs": [
    {
     "data": {
      "text/plain": [
       "{'max_depth': [2, 3, 4, 5, 6, 7, 8],\n",
       " 'max_features': [0.3, 0.5, 0.6, 0.7, 0.8, 0.9, 0.99]}"
      ]
     },
     "execution_count": 38,
     "metadata": {},
     "output_type": "execute_result"
    }
   ],
   "source": [
    "max_depth = list(range(2, 9))\n",
    "max_features = [0.3, 0.5, 0.6, 0.7, 0.8, 0.9, 0.99]\n",
    "\n",
    "pm = {\"max_depth\": max_depth, \"max_features\": max_features}\n",
    "pm"
   ]
  },
  {
   "cell_type": "code",
   "execution_count": 40,
   "id": "27b29684",
   "metadata": {
    "scrolled": true
   },
   "outputs": [
    {
     "name": "stdout",
     "output_type": "stream",
     "text": [
      "Fitting 5 folds for each of 49 candidates, totalling 245 fits\n"
     ]
    },
    {
     "data": {
      "text/plain": [
       "GridSearchCV(cv=5,\n",
       "             estimator=RandomForestRegressor(n_estimators=300, random_state=42),\n",
       "             n_jobs=-1,\n",
       "             param_grid={'max_depth': [2, 3, 4, 5, 6, 7, 8],\n",
       "                         'max_features': [0.3, 0.5, 0.6, 0.7, 0.8, 0.9, 0.99]},\n",
       "             verbose=3)"
      ]
     },
     "execution_count": 40,
     "metadata": {},
     "output_type": "execute_result"
    }
   ],
   "source": [
    "# 그리드서치로 베스트 모델 찾기\n",
    "from sklearn.model_selection import GridSearchCV\n",
    "\n",
    "clf = GridSearchCV(model, pm, n_jobs=-1, cv=5, verbose=3)\n",
    "clf.fit(X_train, y_train)"
   ]
  },
  {
   "cell_type": "code",
   "execution_count": 41,
   "id": "70b304f7",
   "metadata": {},
   "outputs": [
    {
     "data": {
      "text/plain": [
       "RandomForestRegressor(max_depth=7, max_features=0.6, n_estimators=300,\n",
       "                      random_state=42)"
      ]
     },
     "execution_count": 41,
     "metadata": {},
     "output_type": "execute_result"
    }
   ],
   "source": [
    "# 베스트 모델 찾기\n",
    "clf.best_estimator_"
   ]
  },
  {
   "cell_type": "code",
   "execution_count": 42,
   "id": "d61370b2",
   "metadata": {},
   "outputs": [
    {
     "data": {
      "text/plain": [
       "RandomForestRegressor(max_depth=7, max_features=0.6, n_estimators=300,\n",
       "                      random_state=42)"
      ]
     },
     "execution_count": 42,
     "metadata": {},
     "output_type": "execute_result"
    }
   ],
   "source": [
    "best_model = clf.best_estimator_\n",
    "best_model.fit(X_train, y_train)"
   ]
  },
  {
   "cell_type": "code",
   "execution_count": 43,
   "id": "1e93cc83",
   "metadata": {},
   "outputs": [
    {
     "data": {
      "text/plain": [
       "array([0.48690575, 0.49733526, 0.47565503, 0.48690575, 0.57945605,\n",
       "       0.68954187, 0.75243852, 0.6737035 , 0.58188842, 0.69795917,\n",
       "       0.71287213, 0.6270085 , 0.74516883, 0.75995992, 0.69741729,\n",
       "       0.70116811, 0.76120964, 0.76120964, 0.7148078 , 0.71597312,\n",
       "       0.41337006, 0.38572859, 0.51232556, 0.51194611, 0.44767387,\n",
       "       0.49842562, 0.57173464, 0.55675237, 0.65894843, 0.68875798,\n",
       "       0.67572992, 0.57348686, 0.78769741, 0.8367543 , 0.84624119,\n",
       "       0.81528171, 0.49201861, 0.52566822, 0.52363484, 0.52566822,\n",
       "       0.44409462, 0.47158561, 0.44957752, 0.46801336, 0.67895881,\n",
       "       0.66839895, 0.69000774, 0.50252324, 0.3857541 , 0.38096103,\n",
       "       0.43250013, 0.39633516, 0.6397835 , 0.44521823, 0.47849162,\n",
       "       0.42912213, 0.50404714, 0.38277985, 0.45833375, 0.5041441 ,\n",
       "       0.48304493, 0.48811849, 0.56222769, 0.49584269, 0.56424889,\n",
       "       0.37034805, 0.37352089, 0.56586478, 0.5393472 , 0.53848744,\n",
       "       0.5497506 , 0.60482606, 0.74516883, 0.72291184, 0.69741729,\n",
       "       0.70645018, 0.6114011 , 0.580475  , 0.60416964, 0.61812771,\n",
       "       0.41950337, 0.39806169, 0.40967718, 0.51548727, 0.57826915,\n",
       "       0.59985841, 0.63575774, 0.65743315, 0.5741026 , 0.44866102,\n",
       "       0.46591833, 0.48976973, 0.50631902, 0.40520966, 0.41418458,\n",
       "       0.41347991, 0.80661629, 0.80661199, 0.77892062, 0.76926684,\n",
       "       0.50361208, 0.50361208, 0.50068653, 0.46328704, 0.38093197,\n",
       "       0.51762108, 0.53975747, 0.44508958, 0.40795561, 0.45969555,\n",
       "       0.45859936, 0.38901856, 0.52647039, 0.49658531, 0.4977381 ,\n",
       "       0.48754272, 0.58452763, 0.58777748, 0.50086676, 0.58986492,\n",
       "       0.62380452, 0.6001516 , 0.47414098, 0.54995461, 0.59700776,\n",
       "       0.48525852, 0.6082645 , 0.60471312, 0.68470482, 0.67041476,\n",
       "       0.73418913, 0.69112753, 0.58690462, 0.59091767, 0.539632  ,\n",
       "       0.57318265, 0.51665289, 0.51665289, 0.54281021, 0.70130559,\n",
       "       0.58624591, 0.54281021, 0.58235801, 0.61011913, 0.460836  ,\n",
       "       0.38360594, 0.46030861, 0.46920721, 0.56592941, 0.56592941,\n",
       "       0.73992277, 0.45758195, 0.46652474, 0.39438071, 0.47729095,\n",
       "       0.41034182, 0.67346502, 0.6374793 , 0.69114372, 0.64330313,\n",
       "       0.52514486, 0.49793527, 0.50292939, 0.49875323, 0.7148078 ,\n",
       "       0.79227431, 0.71867955, 0.71597312, 0.57700185, 0.68782418,\n",
       "       0.64919753, 0.65293489, 0.61802758, 0.75861496, 0.63690942,\n",
       "       0.69051912, 0.71172937, 0.73520376, 0.78249791, 0.6876295 ,\n",
       "       0.50411165, 0.42291558, 0.48248707, 0.42204173, 0.40193952,\n",
       "       0.38762556, 0.39788578, 0.5228363 , 0.38990884, 0.42856667,\n",
       "       0.38346136, 0.43411249, 0.49734356, 0.39886792, 0.39730553,\n",
       "       0.39775678, 0.40415533, 0.43133231, 0.40349698, 0.40415533,\n",
       "       0.41065557, 0.39849583, 0.4670904 , 0.43319181, 0.43485574,\n",
       "       0.39179025, 0.3991618 , 0.39951655, 0.48807942, 0.45776811,\n",
       "       0.48351775, 0.40313968, 0.38654085, 0.39748587, 0.461056  ,\n",
       "       0.39694143, 0.68665168, 0.76522613, 0.69264821, 0.70631896,\n",
       "       0.65592781, 0.39598421, 0.54134402, 0.37415186, 0.39146402,\n",
       "       0.37587037, 0.42918086, 0.47836773, 0.48091399, 0.47222206,\n",
       "       0.47142375, 0.38854213, 0.64311312, 0.63613376, 0.71902206,\n",
       "       0.62216159, 0.41418458, 0.42165416, 0.43456765, 0.41026338,\n",
       "       0.47500859, 0.4731961 , 0.55290862, 0.47546744, 0.65339767,\n",
       "       0.62995158, 0.69501769, 0.62596259, 0.45596974, 0.57486609,\n",
       "       0.46032314, 0.44781902, 0.77370183, 0.78846267, 0.80421191,\n",
       "       0.8449906 , 0.50539547, 0.54923119, 0.53139009, 0.66391436,\n",
       "       0.62832378, 0.39572789, 0.57614757, 0.46048832, 0.65486239,\n",
       "       0.6873425 , 0.69501769, 0.70401337, 0.4923401 , 0.50300351,\n",
       "       0.44304673, 0.53092373, 0.56139105, 0.63060401, 0.48811849,\n",
       "       0.52529736, 0.48811849, 0.63060401, 0.48811849, 0.63060401,\n",
       "       0.69623594, 0.74174158, 0.73686909, 0.65201302, 0.68683709,\n",
       "       0.60012797, 0.6878494 , 0.61781208, 0.44115323, 0.44394256,\n",
       "       0.42532961, 0.39989082, 0.69817378, 0.69817378, 0.7514058 ,\n",
       "       0.72537144, 0.50745216, 0.4474444 , 0.49857856, 0.49821788,\n",
       "       0.40467521, 0.56322674, 0.52649889, 0.57665242, 0.52755577,\n",
       "       0.46655098, 0.51426846, 0.50807608, 0.43047527, 0.51301039,\n",
       "       0.58671968, 0.59412655, 0.5948042 , 0.69978537, 0.58318837,\n",
       "       0.72256631, 0.4891751 , 0.49001444, 0.4891751 , 0.49001444,\n",
       "       0.58177047, 0.58224475, 0.57866251, 0.60547701, 0.45188139,\n",
       "       0.45549999, 0.51840557, 0.40187777, 0.50063286, 0.49181647,\n",
       "       0.56005194, 0.56098014, 0.41776565, 0.49149549, 0.41567321,\n",
       "       0.47728619, 0.68615146, 0.68960908, 0.63833785, 0.66501215,\n",
       "       0.4891751 , 0.51342592, 0.47712195, 0.48622477, 0.53500257,\n",
       "       0.48748211, 0.53482831, 0.53380156, 0.53906536, 0.60476714,\n",
       "       0.55200119, 0.60476714, 0.62596259, 0.65158532, 0.78952595,\n",
       "       0.68553556, 0.53171089, 0.48436383, 0.48436383, 0.48436383,\n",
       "       0.48436383, 0.51550532, 0.48436383, 0.51550532, 0.54045526,\n",
       "       0.49284779, 0.41339806, 0.56916947, 0.50714279, 0.5137292 ,\n",
       "       0.55993534, 0.48304493, 0.53814927, 0.52808882, 0.56718411,\n",
       "       0.53734107, 0.64499302, 0.64661592, 0.64931799, 0.60305144,\n",
       "       0.56395014, 0.62295248, 0.40840774, 0.48072679, 0.52188938,\n",
       "       0.48563566, 0.5074305 , 0.44735314, 0.50482627, 0.51257129,\n",
       "       0.55439638, 0.50719233, 0.5035033 , 0.55027559, 0.50868888,\n",
       "       0.50582547, 0.76923262, 0.83331416, 0.64995839, 0.7888017 ,\n",
       "       0.470387  , 0.44267881, 0.47413181, 0.5355117 , 0.51550532,\n",
       "       0.51550532, 0.51550532, 0.68960908, 0.53848744, 0.51174745,\n",
       "       0.53687721, 0.632138  , 0.49872051, 0.50768153, 0.50023948,\n",
       "       0.50229195, 0.632138  , 0.59894472, 0.632138  , 0.6569342 ,\n",
       "       0.65372733, 0.69219984, 0.76835341, 0.73705609, 0.63325044,\n",
       "       0.66773475, 0.60720874, 0.69028   , 0.65555253, 0.46805736,\n",
       "       0.49211963, 0.51973542, 0.53848744, 0.60822001, 0.59824785,\n",
       "       0.67950806, 0.55015062, 0.47697559, 0.54574923, 0.53380289,\n",
       "       0.54288673, 0.5098709 , 0.51015916, 0.5637691 , 0.65280185,\n",
       "       0.65280185, 0.64809183, 0.65064817, 0.46265765, 0.51075194,\n",
       "       0.45113198, 0.48966218, 0.85525934, 0.85468532, 0.76757999,\n",
       "       0.7270097 , 0.60185931, 0.57887115, 0.59489706, 0.65292929,\n",
       "       0.53860093, 0.55181694, 0.55181694, 0.55181694, 0.67651338,\n",
       "       0.56592941, 0.60871376, 0.56592941, 0.45580471, 0.52916951,\n",
       "       0.48253127, 0.48950406, 0.46160259, 0.47231033, 0.47231033,\n",
       "       0.51047355, 0.57643771, 0.79263775, 0.68878954, 0.69924003,\n",
       "       0.51121128, 0.51214247, 0.51053894, 0.51904462, 0.46787154,\n",
       "       0.55186008, 0.53506766, 0.54227018, 0.56002906, 0.56002906,\n",
       "       0.51944349, 0.59695536, 0.53453655, 0.52792881, 0.47849162,\n",
       "       0.52616197, 0.63748813, 0.5497506 , 0.5393472 , 0.56757037,\n",
       "       0.3841329 , 0.47206709, 0.67872521, 0.44848458, 0.71112365,\n",
       "       0.47712195, 0.47712195, 0.74132259, 0.60114975, 0.60215272,\n",
       "       0.59489706, 0.57887115, 0.59623471, 0.62264955, 0.6742416 ,\n",
       "       0.48073061, 0.5230161 , 0.54891241, 0.56471659, 0.56463615,\n",
       "       0.50130981, 0.50580815, 0.50326915, 0.50529265, 0.5265299 ,\n",
       "       0.55188582, 0.45330104, 0.45515314, 0.46940365, 0.43721713,\n",
       "       0.52228604, 0.51808564, 0.5412064 , 0.53195328, 0.46246973,\n",
       "       0.57068968, 0.48175745, 0.51094207, 0.44621775, 0.49129394,\n",
       "       0.4375339 , 0.47202018, 0.5228363 , 0.43537703, 0.57051828,\n",
       "       0.49559722, 0.42676702, 0.5138431 , 0.46907398, 0.43674627,\n",
       "       0.44202325, 0.39153519, 0.47787589, 0.54850846, 0.49309085,\n",
       "       0.52772124, 0.51987954, 0.42272933, 0.48072499, 0.54641728,\n",
       "       0.57607268, 0.55116844, 0.5013481 , 0.57342344, 0.5125147 ,\n",
       "       0.51279847, 0.5429638 , 0.47735965, 0.48844353, 0.40201424,\n",
       "       0.39477123, 0.57678321, 0.48533151, 0.48983658, 0.46776135,\n",
       "       0.51310784, 0.5580936 , 0.50736809, 0.4557297 , 0.62437182,\n",
       "       0.52663158, 0.47279504, 0.60919557, 0.54460925, 0.43701941,\n",
       "       0.41366493, 0.49988222, 0.4941794 , 0.4790474 , 0.4790474 ,\n",
       "       0.43531344, 0.49322868, 0.49471514, 0.60564969, 0.48691478,\n",
       "       0.49331974, 0.53711283, 0.46689118, 0.46504661, 0.46504661,\n",
       "       0.58592137, 0.54306254, 0.51027079, 0.49403443, 0.84186147,\n",
       "       0.84186147, 0.85497331, 0.83845781, 0.51342592, 0.53538727,\n",
       "       0.51342592, 0.52772546, 0.68520348, 0.68520348, 0.6889628 ,\n",
       "       0.80673657, 0.78222912, 0.80164291, 0.7791494 , 0.80209637,\n",
       "       0.43582486, 0.41261601, 0.39617474, 0.53586475, 0.69982124,\n",
       "       0.70177685, 0.70151376, 0.56191758, 0.52769009, 0.49136551,\n",
       "       0.59880408, 0.53626246, 0.48924013, 0.4605766 , 0.46292441,\n",
       "       0.50974209, 0.48225995, 0.41992629, 0.40830551, 0.45258158,\n",
       "       0.55732967, 0.60624836, 0.58086706, 0.60404012, 0.71081405,\n",
       "       0.74703963, 0.6876295 , 0.71835659, 0.6009698 , 0.61248688,\n",
       "       0.60114975, 0.62211826, 0.57346138, 0.52860687, 0.5292403 ,\n",
       "       0.4913325 , 0.50934194, 0.50448136, 0.51068345, 0.51133942,\n",
       "       0.80990534, 0.81569974, 0.80990534, 0.82315802, 0.67808895,\n",
       "       0.66005551, 0.6106431 , 0.81294675, 0.68096007, 0.68730795,\n",
       "       0.59303572, 0.59303572, 0.64392201, 0.76769159, 0.60747632,\n",
       "       0.71768031, 0.64111359, 0.64111359, 0.65524424, 0.63741968,\n",
       "       0.47096938, 0.52486046, 0.56131121, 0.54641728, 0.57694331,\n",
       "       0.75931761, 0.70315172, 0.73852633, 0.52381312, 0.59367537,\n",
       "       0.45833375, 0.49820598, 0.73852633, 0.65436859, 0.70315172,\n",
       "       0.72157679, 0.52780711, 0.51461215, 0.52163126, 0.52745437,\n",
       "       0.39744295, 0.50902948, 0.47158561, 0.40193952, 0.60460524,\n",
       "       0.5212143 , 0.3741538 , 0.49574535, 0.70572407, 0.51550532,\n",
       "       0.71954581, 0.71863365, 0.6234628 , 0.6234628 , 0.59831601,\n",
       "       0.68230596, 0.6234628 , 0.6234628 , 0.59979978, 0.61970001,\n",
       "       0.58932087, 0.55437655, 0.54397437, 0.48722282, 0.53500257,\n",
       "       0.68921285, 0.69387382, 0.60420828, 0.52620659, 0.54229233,\n",
       "       0.47712195, 0.63105318, 0.69364656, 0.68376122, 0.44198933,\n",
       "       0.48488035, 0.61594121, 0.57694331, 0.54277465, 0.6754538 ,\n",
       "       0.67404397, 0.58283425, 0.58283425, 0.67610078, 0.80304661,\n",
       "       0.62301323, 0.5563363 , 0.52495217, 0.50342755, 0.46582751,\n",
       "       0.67658181, 0.57866251, 0.72623219, 0.67940875, 0.46356833,\n",
       "       0.56418109, 0.70781103, 0.50666306, 0.60086193, 0.57318265,\n",
       "       0.52796437, 0.39249745, 0.39602639, 0.41728127, 0.57833854,\n",
       "       0.38092716, 0.54885618, 0.42785031, 0.39815916, 0.68960908,\n",
       "       0.54998813, 0.50709206, 0.45596974, 0.49356037, 0.46180952,\n",
       "       0.49504241, 0.44038611, 0.61065448, 0.47565343, 0.83671608,\n",
       "       0.70315172, 0.4112842 , 0.50976643, 0.58994642, 0.69197746,\n",
       "       0.57624347, 0.5074305 , 0.4227008 , 0.56422422, 0.49981071,\n",
       "       0.50603544, 0.51482074, 0.49159453, 0.78105281, 0.62416515,\n",
       "       0.49418722, 0.55148535, 0.71754251, 0.52058448, 0.51956755,\n",
       "       0.79081504, 0.45076079, 0.54281021, 0.54641705, 0.59489706,\n",
       "       0.48811849, 0.65189469, 0.60315472, 0.75560605, 0.50206222,\n",
       "       0.74211988, 0.60135313, 0.58233537, 0.52111958, 0.56919308,\n",
       "       0.67041476, 0.38494698, 0.4690543 ])"
      ]
     },
     "execution_count": 43,
     "metadata": {},
     "output_type": "execute_result"
    }
   ],
   "source": [
    "y_predict = best_model.predict(X_test)\n",
    "y_predict"
   ]
  },
  {
   "cell_type": "code",
   "execution_count": 48,
   "id": "c6c61d53",
   "metadata": {},
   "outputs": [
    {
     "data": {
      "text/plain": [
       "array([0.48690575, 0.49733526])"
      ]
     },
     "execution_count": 48,
     "metadata": {},
     "output_type": "execute_result"
    },
    {
     "name": "stdout",
     "output_type": "stream",
     "text": [
      "[CV 1/5] END .....max_depth=2, max_features=0.5;, score=0.238 total time=   0.2s\n",
      "[CV 4/5] END .....max_depth=2, max_features=0.6;, score=0.168 total time=   0.2s\n",
      "[CV 1/5] END .....max_depth=2, max_features=0.8;, score=0.239 total time=   0.3s\n",
      "[CV 4/5] END .....max_depth=2, max_features=0.9;, score=0.141 total time=   0.3s\n",
      "[CV 2/5] END .....max_depth=3, max_features=0.3;, score=0.261 total time=   0.2s\n",
      "[CV 4/5] END .....max_depth=3, max_features=0.5;, score=0.255 total time=   0.2s\n",
      "[CV 1/5] END .....max_depth=3, max_features=0.7;, score=0.272 total time=   0.3s\n",
      "[CV 4/5] END .....max_depth=3, max_features=0.8;, score=0.245 total time=   0.3s\n",
      "[CV 2/5] END ....max_depth=3, max_features=0.99;, score=0.283 total time=   0.4s\n",
      "[CV 2/5] END .....max_depth=4, max_features=0.5;, score=0.355 total time=   0.3s\n",
      "[CV 5/5] END .....max_depth=4, max_features=0.6;, score=0.276 total time=   0.3s\n",
      "[CV 3/5] END .....max_depth=4, max_features=0.8;, score=0.488 total time=   0.3s\n",
      "[CV 1/5] END ....max_depth=4, max_features=0.99;, score=0.323 total time=   0.3s\n",
      "[CV 4/5] END .....max_depth=5, max_features=0.3;, score=0.316 total time=   0.2s\n",
      "[CV 1/5] END .....max_depth=5, max_features=0.6;, score=0.349 total time=   0.3s\n",
      "[CV 5/5] END .....max_depth=5, max_features=0.7;, score=0.327 total time=   0.3s\n",
      "[CV 2/5] END .....max_depth=5, max_features=0.9;, score=0.382 total time=   0.4s\n",
      "[CV 5/5] END ....max_depth=5, max_features=0.99;, score=0.330 total time=   0.4s\n",
      "[CV 5/5] END .....max_depth=6, max_features=0.5;, score=0.330 total time=   0.3s\n",
      "[CV 3/5] END .....max_depth=6, max_features=0.7;, score=0.529 total time=   0.4s\n",
      "[CV 1/5] END .....max_depth=6, max_features=0.9;, score=0.389 total time=   0.4s\n",
      "[CV 4/5] END ....max_depth=6, max_features=0.99;, score=0.332 total time=   0.4s\n",
      "[CV 4/5] END .....max_depth=7, max_features=0.5;, score=0.371 total time=   0.3s\n",
      "[CV 2/5] END .....max_depth=7, max_features=0.7;, score=0.376 total time=   0.4s\n",
      "[CV 5/5] END .....max_depth=7, max_features=0.8;, score=0.336 total time=   0.5s\n",
      "[CV 2/5] END ....max_depth=7, max_features=0.99;, score=0.361 total time=   0.5s\n",
      "[CV 5/5] END .....max_depth=8, max_features=0.3;, score=0.299 total time=   0.3s\n",
      "[CV 3/5] END .....max_depth=8, max_features=0.6;, score=0.529 total time=   0.4s\n",
      "[CV 1/5] END .....max_depth=8, max_features=0.8;, score=0.406 total time=   0.5s\n",
      "[CV 4/5] END .....max_depth=8, max_features=0.9;, score=0.360 total time=   0.5s\n",
      "[CV 2/5] END .....max_depth=2, max_features=0.3;, score=0.195 total time=   0.2s\n",
      "[CV 4/5] END .....max_depth=2, max_features=0.5;, score=0.171 total time=   0.2s\n",
      "[CV 3/5] END .....max_depth=2, max_features=0.7;, score=0.298 total time=   0.2s\n",
      "[CV 5/5] END .....max_depth=2, max_features=0.8;, score=0.096 total time=   0.3s\n",
      "[CV 3/5] END ....max_depth=2, max_features=0.99;, score=0.307 total time=   0.3s\n",
      "[CV 1/5] END .....max_depth=3, max_features=0.5;, score=0.286 total time=   0.3s\n",
      "[CV 5/5] END .....max_depth=3, max_features=0.6;, score=0.209 total time=   0.3s\n",
      "[CV 3/5] END .....max_depth=3, max_features=0.8;, score=0.423 total time=   0.3s\n",
      "[CV 1/5] END ....max_depth=3, max_features=0.99;, score=0.246 total time=   0.3s\n",
      "[CV 4/5] END .....max_depth=4, max_features=0.3;, score=0.277 total time=   0.3s\n",
      "[CV 3/5] END .....max_depth=4, max_features=0.6;, score=0.482 total time=   0.3s\n",
      "[CV 1/5] END .....max_depth=4, max_features=0.8;, score=0.329 total time=   0.3s\n",
      "[CV 4/5] END .....max_depth=4, max_features=0.9;, score=0.278 total time=   0.3s\n",
      "[CV 2/5] END .....max_depth=5, max_features=0.3;, score=0.356 total time=   0.2s\n",
      "[CV 4/5] END .....max_depth=5, max_features=0.5;, score=0.346 total time=   0.3s\n",
      "[CV 2/5] END .....max_depth=5, max_features=0.7;, score=0.385 total time=   0.3s\n",
      "[CV 4/5] END .....max_depth=5, max_features=0.8;, score=0.335 total time=   0.4s\n",
      "[CV 2/5] END ....max_depth=5, max_features=0.99;, score=0.382 total time=   0.4s\n",
      "[CV 4/5] END .....max_depth=6, max_features=0.3;, score=0.348 total time=   0.3s\n",
      "[CV 3/5] END .....max_depth=6, max_features=0.6;, score=0.533 total time=   0.3s\n",
      "[CV 1/5] END .....max_depth=6, max_features=0.8;, score=0.392 total time=   0.4s\n",
      "[CV 4/5] END .....max_depth=6, max_features=0.9;, score=0.332 total time=   0.4s\n",
      "[CV 2/5] END .....max_depth=7, max_features=0.3;, score=0.372 total time=   0.3s\n",
      "[CV 2/5] END .....max_depth=7, max_features=0.5;, score=0.388 total time=   0.3s\n",
      "[CV 4/5] END .....max_depth=7, max_features=0.6;, score=0.367 total time=   0.4s\n",
      "[CV 2/5] END .....max_depth=7, max_features=0.8;, score=0.359 total time=   0.4s\n",
      "[CV 5/5] END .....max_depth=7, max_features=0.9;, score=0.338 total time=   0.6s\n",
      "[CV 3/5] END .....max_depth=8, max_features=0.3;, score=0.503 total time=   0.4s\n",
      "[CV 2/5] END .....max_depth=8, max_features=0.6;, score=0.367 total time=   0.4s\n",
      "[CV 5/5] END .....max_depth=8, max_features=0.7;, score=0.343 total time=   0.5s\n",
      "[CV 3/5] END .....max_depth=8, max_features=0.9;, score=0.530 total time=   0.5s\n",
      "[CV 2/5] END .....max_depth=2, max_features=0.5;, score=0.207 total time=   0.2s\n",
      "[CV 1/5] END .....max_depth=2, max_features=0.7;, score=0.242 total time=   0.3s\n",
      "[CV 4/5] END .....max_depth=2, max_features=0.8;, score=0.153 total time=   0.2s\n",
      "[CV 1/5] END ....max_depth=2, max_features=0.99;, score=0.230 total time=   0.3s\n",
      "[CV 4/5] END .....max_depth=3, max_features=0.3;, score=0.219 total time=   0.2s\n",
      "[CV 2/5] END .....max_depth=3, max_features=0.6;, score=0.302 total time=   0.3s\n",
      "[CV 5/5] END .....max_depth=3, max_features=0.7;, score=0.220 total time=   0.3s\n",
      "[CV 3/5] END .....max_depth=3, max_features=0.9;, score=0.418 total time=   0.3s\n",
      "[CV 1/5] END .....max_depth=4, max_features=0.3;, score=0.298 total time=   0.2s\n",
      "[CV 3/5] END .....max_depth=4, max_features=0.5;, score=0.477 total time=   0.3s\n",
      "[CV 1/5] END .....max_depth=4, max_features=0.7;, score=0.324 total time=   0.3s\n",
      "[CV 4/5] END .....max_depth=4, max_features=0.8;, score=0.296 total time=   0.3s\n",
      "[CV 2/5] END ....max_depth=4, max_features=0.99;, score=0.349 total time=   0.3s\n",
      "[CV 5/5] END .....max_depth=5, max_features=0.3;, score=0.267 total time=   0.2s\n",
      "[CV 3/5] END .....max_depth=5, max_features=0.6;, score=0.520 total time=   0.3s\n",
      "[CV 1/5] END .....max_depth=5, max_features=0.8;, score=0.360 total time=   0.4s\n",
      "[CV 4/5] END .....max_depth=5, max_features=0.9;, score=0.313 total time=   0.4s\n",
      "[CV 2/5] END .....max_depth=6, max_features=0.3;, score=0.355 total time=   0.3s\n",
      "[CV 3/5] END .....max_depth=6, max_features=0.5;, score=0.525 total time=   0.3s\n",
      "[CV 1/5] END .....max_depth=6, max_features=0.7;, score=0.383 total time=   0.4s\n",
      "[CV 4/5] END .....max_depth=6, max_features=0.8;, score=0.354 total time=   0.4s\n",
      "[CV 2/5] END ....max_depth=6, max_features=0.99;, score=0.380 total time=   0.4s\n",
      "[CV 5/5] END .....max_depth=7, max_features=0.3;, score=0.284 total time=   0.3s\n",
      "[CV 3/5] END .....max_depth=7, max_features=0.6;, score=0.537 total time=   0.4s\n",
      "[CV 1/5] END .....max_depth=7, max_features=0.8;, score=0.406 total time=   0.4s\n",
      "[CV 4/5] END .....max_depth=7, max_features=0.9;, score=0.351 total time=   0.6s\n",
      "[CV 2/5] END .....max_depth=8, max_features=0.3;, score=0.361 total time=   0.3s\n",
      "[CV 3/5] END .....max_depth=8, max_features=0.5;, score=0.527 total time=   0.4s\n",
      "[CV 1/5] END .....max_depth=8, max_features=0.7;, score=0.401 total time=   0.4s\n",
      "[CV 4/5] END .....max_depth=8, max_features=0.8;, score=0.374 total time=   0.5s\n",
      "[CV 1/5] END ....max_depth=8, max_features=0.99;, score=0.410 total time=   0.5s\n",
      "[CV 4/5] END .....max_depth=2, max_features=0.3;, score=0.134 total time=   0.2s\n",
      "[CV 3/5] END .....max_depth=2, max_features=0.6;, score=0.291 total time=   0.2s\n",
      "[CV 4/5] END .....max_depth=2, max_features=0.7;, score=0.160 total time=   0.2s\n",
      "[CV 2/5] END .....max_depth=2, max_features=0.9;, score=0.166 total time=   0.3s\n",
      "[CV 1/5] END .....max_depth=3, max_features=0.3;, score=0.250 total time=   0.2s\n",
      "[CV 2/5] END .....max_depth=3, max_features=0.5;, score=0.291 total time=   0.2s\n",
      "[CV 4/5] END .....max_depth=3, max_features=0.6;, score=0.257 total time=   0.3s\n",
      "[CV 2/5] END .....max_depth=3, max_features=0.8;, score=0.292 total time=   0.3s\n",
      "[CV 5/5] END .....max_depth=3, max_features=0.9;, score=0.222 total time=   0.3s\n",
      "[CV 3/5] END .....max_depth=4, max_features=0.3;, score=0.395 total time=   0.2s\n",
      "[CV 1/5] END .....max_depth=4, max_features=0.6;, score=0.331 total time=   0.3s\n",
      "[CV 5/5] END .....max_depth=4, max_features=0.7;, score=0.288 total time=   0.3s\n",
      "[CV 2/5] END .....max_depth=4, max_features=0.9;, score=0.349 total time=   0.4s\n",
      "[CV 1/5] END .....max_depth=5, max_features=0.3;, score=0.339 total time=   0.2s\n",
      "[CV 3/5] END .....max_depth=5, max_features=0.5;, score=0.512 total time=   0.3s\n",
      "[CV 1/5] END .....max_depth=5, max_features=0.7;, score=0.355 total time=   0.4s\n",
      "[CV 5/5] END .....max_depth=5, max_features=0.8;, score=0.323 total time=   0.4s\n",
      "[CV 3/5] END ....max_depth=5, max_features=0.99;, score=0.520 total time=   0.4s\n",
      "[CV 2/5] END .....max_depth=6, max_features=0.5;, score=0.392 total time=   0.3s\n",
      "[CV 5/5] END .....max_depth=6, max_features=0.6;, score=0.346 total time=   0.4s\n",
      "[CV 3/5] END .....max_depth=6, max_features=0.8;, score=0.531 total time=   0.4s\n",
      "[CV 1/5] END ....max_depth=6, max_features=0.99;, score=0.389 total time=   0.5s\n",
      "[CV 4/5] END .....max_depth=7, max_features=0.3;, score=0.359 total time=   0.3s\n",
      "[CV 2/5] END .....max_depth=7, max_features=0.6;, score=0.379 total time=   0.4s\n",
      "[CV 5/5] END .....max_depth=7, max_features=0.7;, score=0.344 total time=   0.4s\n",
      "[CV 3/5] END .....max_depth=7, max_features=0.9;, score=0.535 total time=   0.5s\n",
      "[CV 1/5] END .....max_depth=8, max_features=0.3;, score=0.385 total time=   0.3s\n",
      "[CV 2/5] END .....max_depth=8, max_features=0.5;, score=0.371 total time=   0.4s\n",
      "[CV 5/5] END .....max_depth=8, max_features=0.6;, score=0.334 total time=   0.4s\n",
      "[CV 3/5] END .....max_depth=8, max_features=0.8;, score=0.535 total time=   0.6s\n",
      "[CV 2/5] END ....max_depth=8, max_features=0.99;, score=0.336 total time=   0.5s\n",
      "[CV 1/5] END .....max_depth=2, max_features=0.3;, score=0.179 total time=   0.3s\n",
      "[CV 1/5] END .....max_depth=2, max_features=0.6;, score=0.234 total time=   0.3s\n",
      "[CV 2/5] END .....max_depth=2, max_features=0.8;, score=0.181 total time=   0.3s\n",
      "[CV 5/5] END .....max_depth=2, max_features=0.9;, score=0.080 total time=   0.3s\n",
      "[CV 5/5] END .....max_depth=3, max_features=0.3;, score=0.182 total time=   0.2s\n",
      "[CV 3/5] END .....max_depth=3, max_features=0.6;, score=0.417 total time=   0.3s\n",
      "[CV 1/5] END .....max_depth=3, max_features=0.8;, score=0.267 total time=   0.3s\n",
      "[CV 4/5] END .....max_depth=3, max_features=0.9;, score=0.239 total time=   0.3s\n",
      "[CV 2/5] END .....max_depth=4, max_features=0.3;, score=0.320 total time=   0.2s\n",
      "[CV 5/5] END .....max_depth=4, max_features=0.5;, score=0.284 total time=   0.3s\n",
      "[CV 2/5] END .....max_depth=4, max_features=0.7;, score=0.357 total time=   0.3s\n",
      "[CV 5/5] END .....max_depth=4, max_features=0.8;, score=0.292 total time=   0.3s\n",
      "[CV 3/5] END ....max_depth=4, max_features=0.99;, score=0.481 total time=   0.3s\n",
      "[CV 1/5] END .....max_depth=5, max_features=0.5;, score=0.362 total time=   0.3s\n",
      "[CV 4/5] END .....max_depth=5, max_features=0.6;, score=0.343 total time=   0.3s\n",
      "[CV 2/5] END .....max_depth=5, max_features=0.8;, score=0.381 total time=   0.3s\n",
      "[CV 5/5] END .....max_depth=5, max_features=0.9;, score=0.330 total time=   0.4s\n",
      "[CV 3/5] END .....max_depth=6, max_features=0.3;, score=0.477 total time=   0.3s\n",
      "[CV 1/5] END .....max_depth=6, max_features=0.6;, score=0.374 total time=   0.4s\n",
      "[CV 4/5] END .....max_depth=6, max_features=0.7;, score=0.358 total time=   0.4s\n",
      "[CV 2/5] END .....max_depth=6, max_features=0.9;, score=0.380 total time=   0.4s\n",
      "[CV 5/5] END ....max_depth=6, max_features=0.99;, score=0.330 total time=   0.4s\n",
      "[CV 5/5] END .....max_depth=7, max_features=0.5;, score=0.337 total time=   0.3s\n",
      "[CV 3/5] END .....max_depth=7, max_features=0.7;, score=0.539 total time=   0.4s\n",
      "[CV 1/5] END .....max_depth=7, max_features=0.9;, score=0.412 total time=   0.6s\n",
      "[CV 4/5] END ....max_depth=7, max_features=0.99;, score=0.351 total time=   0.5s\n",
      "[CV 5/5] END .....max_depth=8, max_features=0.5;, score=0.335 total time=   0.4s\n",
      "[CV 2/5] END .....max_depth=8, max_features=0.7;, score=0.359 total time=   0.5s\n",
      "[CV 5/5] END .....max_depth=8, max_features=0.8;, score=0.333 total time=   0.5s\n",
      "[CV 3/5] END ....max_depth=8, max_features=0.99;, score=0.530 total time=   0.5s\n",
      "[CV 5/5] END .....max_depth=2, max_features=0.3;, score=0.122 total time=   0.2s\n",
      "[CV 2/5] END .....max_depth=2, max_features=0.6;, score=0.202 total time=   0.2s\n",
      "[CV 5/5] END .....max_depth=2, max_features=0.7;, score=0.107 total time=   0.2s\n",
      "[CV 3/5] END .....max_depth=2, max_features=0.9;, score=0.307 total time=   0.3s\n",
      "[CV 4/5] END ....max_depth=2, max_features=0.99;, score=0.141 total time=   0.3s\n",
      "[CV 3/5] END .....max_depth=3, max_features=0.5;, score=0.401 total time=   0.3s\n",
      "[CV 2/5] END .....max_depth=3, max_features=0.7;, score=0.299 total time=   0.3s\n",
      "[CV 1/5] END .....max_depth=3, max_features=0.9;, score=0.246 total time=   0.3s\n",
      "[CV 4/5] END ....max_depth=3, max_features=0.99;, score=0.239 total time=   0.3s\n",
      "[CV 1/5] END .....max_depth=4, max_features=0.5;, score=0.320 total time=   0.3s\n",
      "[CV 4/5] END .....max_depth=4, max_features=0.6;, score=0.313 total time=   0.3s\n",
      "[CV 2/5] END .....max_depth=4, max_features=0.8;, score=0.350 total time=   0.3s\n",
      "[CV 5/5] END .....max_depth=4, max_features=0.9;, score=0.299 total time=   0.3s\n",
      "[CV 3/5] END .....max_depth=5, max_features=0.3;, score=0.441 total time=   0.2s\n",
      "[CV 5/5] END .....max_depth=5, max_features=0.5;, score=0.322 total time=   0.3s\n",
      "[CV 3/5] END .....max_depth=5, max_features=0.7;, score=0.518 total time=   0.4s\n",
      "[CV 1/5] END .....max_depth=5, max_features=0.9;, score=0.358 total time=   0.4s\n",
      "[CV 4/5] END ....max_depth=5, max_features=0.99;, score=0.313 total time=   0.4s\n",
      "[CV 4/5] END .....max_depth=6, max_features=0.5;, score=0.362 total time=   0.3s\n",
      "[CV 2/5] END .....max_depth=6, max_features=0.7;, score=0.387 total time=   0.4s\n",
      "[CV 5/5] END .....max_depth=6, max_features=0.8;, score=0.333 total time=   0.4s\n",
      "[CV 3/5] END ....max_depth=6, max_features=0.99;, score=0.533 total time=   0.4s\n",
      "[CV 3/5] END .....max_depth=7, max_features=0.5;, score=0.531 total time=   0.3s\n",
      "[CV 5/5] END .....max_depth=7, max_features=0.6;, score=0.340 total time=   0.4s\n",
      "[CV 3/5] END .....max_depth=7, max_features=0.8;, score=0.535 total time=   0.5s\n",
      "[CV 1/5] END ....max_depth=7, max_features=0.99;, score=0.412 total time=   0.5s\n",
      "[CV 1/5] END .....max_depth=8, max_features=0.5;, score=0.382 total time=   0.4s\n",
      "[CV 4/5] END .....max_depth=8, max_features=0.6;, score=0.370 total time=   0.4s\n",
      "[CV 2/5] END .....max_depth=8, max_features=0.8;, score=0.330 total time=   0.5s\n",
      "[CV 5/5] END .....max_depth=8, max_features=0.9;, score=0.341 total time=   0.6s\n"
     ]
    },
    {
     "name": "stdout",
     "output_type": "stream",
     "text": [
      "[CV 3/5] END .....max_depth=2, max_features=0.5;, score=0.278 total time=   0.2s\n",
      "[CV 5/5] END .....max_depth=2, max_features=0.6;, score=0.119 total time=   0.2s\n",
      "[CV 3/5] END .....max_depth=2, max_features=0.8;, score=0.309 total time=   0.3s\n",
      "[CV 2/5] END ....max_depth=2, max_features=0.99;, score=0.166 total time=   0.3s\n",
      "[CV 3/5] END .....max_depth=3, max_features=0.3;, score=0.305 total time=   0.2s\n",
      "[CV 1/5] END .....max_depth=3, max_features=0.6;, score=0.277 total time=   0.3s\n",
      "[CV 4/5] END .....max_depth=3, max_features=0.7;, score=0.255 total time=   0.3s\n",
      "[CV 2/5] END .....max_depth=3, max_features=0.9;, score=0.283 total time=   0.3s\n",
      "[CV 5/5] END ....max_depth=3, max_features=0.99;, score=0.222 total time=   0.3s\n",
      "[CV 4/5] END .....max_depth=4, max_features=0.5;, score=0.312 total time=   0.3s\n",
      "[CV 3/5] END .....max_depth=4, max_features=0.7;, score=0.485 total time=   0.3s\n",
      "[CV 1/5] END .....max_depth=4, max_features=0.9;, score=0.323 total time=   0.4s\n",
      "[CV 4/5] END ....max_depth=4, max_features=0.99;, score=0.278 total time=   0.3s\n",
      "[CV 2/5] END .....max_depth=5, max_features=0.5;, score=0.386 total time=   0.3s\n",
      "[CV 5/5] END .....max_depth=5, max_features=0.6;, score=0.316 total time=   0.3s\n",
      "[CV 3/5] END .....max_depth=5, max_features=0.8;, score=0.524 total time=   0.4s\n",
      "[CV 1/5] END ....max_depth=5, max_features=0.99;, score=0.358 total time=   0.4s\n",
      "[CV 5/5] END .....max_depth=6, max_features=0.3;, score=0.287 total time=   0.2s\n",
      "[CV 2/5] END .....max_depth=6, max_features=0.6;, score=0.394 total time=   0.3s\n",
      "[CV 5/5] END .....max_depth=6, max_features=0.7;, score=0.335 total time=   0.4s\n",
      "[CV 3/5] END .....max_depth=6, max_features=0.9;, score=0.533 total time=   0.4s\n",
      "[CV 1/5] END .....max_depth=7, max_features=0.3;, score=0.368 total time=   0.3s\n",
      "[CV 1/5] END .....max_depth=7, max_features=0.5;, score=0.387 total time=   0.4s\n",
      "[CV 1/5] END .....max_depth=7, max_features=0.7;, score=0.390 total time=   0.4s\n",
      "[CV 4/5] END .....max_depth=7, max_features=0.8;, score=0.358 total time=   0.5s\n",
      "[CV 3/5] END ....max_depth=7, max_features=0.99;, score=0.535 total time=   0.5s\n",
      "[CV 4/5] END .....max_depth=8, max_features=0.3;, score=0.371 total time=   0.3s\n",
      "[CV 1/5] END .....max_depth=8, max_features=0.6;, score=0.395 total time=   0.4s\n",
      "[CV 4/5] END .....max_depth=8, max_features=0.7;, score=0.368 total time=   0.5s\n",
      "[CV 2/5] END .....max_depth=8, max_features=0.9;, score=0.336 total time=   0.5s\n",
      "[CV 5/5] END ....max_depth=8, max_features=0.99;, score=0.341 total time=   0.4s\n",
      "[CV 3/5] END .....max_depth=2, max_features=0.3;, score=0.199 total time=   0.2s\n",
      "[CV 5/5] END .....max_depth=2, max_features=0.5;, score=0.127 total time=   0.2s\n",
      "[CV 2/5] END .....max_depth=2, max_features=0.7;, score=0.188 total time=   0.3s\n",
      "[CV 1/5] END .....max_depth=2, max_features=0.9;, score=0.230 total time=   0.3s\n",
      "[CV 5/5] END ....max_depth=2, max_features=0.99;, score=0.080 total time=   0.3s\n",
      "[CV 5/5] END .....max_depth=3, max_features=0.5;, score=0.209 total time=   0.2s\n",
      "[CV 3/5] END .....max_depth=3, max_features=0.7;, score=0.425 total time=   0.3s\n",
      "[CV 5/5] END .....max_depth=3, max_features=0.8;, score=0.221 total time=   0.3s\n",
      "[CV 3/5] END ....max_depth=3, max_features=0.99;, score=0.418 total time=   0.3s\n",
      "[CV 5/5] END .....max_depth=4, max_features=0.3;, score=0.228 total time=   0.2s\n",
      "[CV 2/5] END .....max_depth=4, max_features=0.6;, score=0.360 total time=   0.3s\n",
      "[CV 4/5] END .....max_depth=4, max_features=0.7;, score=0.305 total time=   0.3s\n",
      "[CV 3/5] END .....max_depth=4, max_features=0.9;, score=0.481 total time=   0.4s\n",
      "[CV 5/5] END ....max_depth=4, max_features=0.99;, score=0.299 total time=   0.3s\n",
      "[CV 2/5] END .....max_depth=5, max_features=0.6;, score=0.390 total time=   0.3s\n",
      "[CV 4/5] END .....max_depth=5, max_features=0.7;, score=0.343 total time=   0.4s\n",
      "[CV 3/5] END .....max_depth=5, max_features=0.9;, score=0.520 total time=   0.4s\n",
      "[CV 1/5] END .....max_depth=6, max_features=0.3;, score=0.350 total time=   0.3s\n",
      "[CV 1/5] END .....max_depth=6, max_features=0.5;, score=0.375 total time=   0.3s\n",
      "[CV 4/5] END .....max_depth=6, max_features=0.6;, score=0.358 total time=   0.4s\n",
      "[CV 2/5] END .....max_depth=6, max_features=0.8;, score=0.382 total time=   0.4s\n",
      "[CV 5/5] END .....max_depth=6, max_features=0.9;, score=0.330 total time=   0.4s\n",
      "[CV 3/5] END .....max_depth=7, max_features=0.3;, score=0.498 total time=   0.3s\n",
      "[CV 1/5] END .....max_depth=7, max_features=0.6;, score=0.395 total time=   0.4s\n",
      "[CV 4/5] END .....max_depth=7, max_features=0.7;, score=0.368 total time=   0.4s\n",
      "[CV 2/5] END .....max_depth=7, max_features=0.9;, score=0.361 total time=   0.5s\n",
      "[CV 5/5] END ....max_depth=7, max_features=0.99;, score=0.338 total time=   0.5s\n",
      "[CV 4/5] END .....max_depth=8, max_features=0.5;, score=0.374 total time=   0.4s\n",
      "[CV 3/5] END .....max_depth=8, max_features=0.7;, score=0.534 total time=   0.5s\n",
      "[CV 1/5] END .....max_depth=8, max_features=0.9;, score=0.410 total time=   0.6s\n",
      "[CV 4/5] END ....max_depth=8, max_features=0.99;, score=0.360 total time=   0.5s\n"
     ]
    }
   ],
   "source": [
    "y_predict[:2]"
   ]
  },
  {
   "cell_type": "code",
   "execution_count": 44,
   "id": "96dce879",
   "metadata": {},
   "outputs": [
    {
     "data": {
      "text/plain": [
       "array([0.27160617, 0.15766059, 0.04099682, 0.07963047, 0.2037207 ,\n",
       "       0.13712211, 0.05712024, 0.0143145 , 0.03782839])"
      ]
     },
     "execution_count": 44,
     "metadata": {},
     "output_type": "execute_result"
    }
   ],
   "source": [
    "best_model.feature_importances_"
   ]
  },
  {
   "cell_type": "code",
   "execution_count": 45,
   "id": "76ef7d6c",
   "metadata": {},
   "outputs": [
    {
     "data": {
      "text/plain": [
       "<AxesSubplot:>"
      ]
     },
     "execution_count": 45,
     "metadata": {},
     "output_type": "execute_result"
    },
    {
     "data": {
      "image/png": "[encoded data removed]",
      "text/plain": [
       "<Figure size 432x288 with 1 Axes>"
      ]
     },
     "metadata": {
      "needs_background": "light"
     },
     "output_type": "display_data"
    }
   ],
   "source": [
    "sns.barplot(x=best_model.feature_importances_, y=best_model.feature_names_in_)"
   ]
  },
  {
   "cell_type": "code",
   "execution_count": null,
   "id": "dc32a548",
   "metadata": {},
   "outputs": [],
   "source": [
    "submit = pd.read_csv(file_name[3], index_col=\"ID\")\n",
    "submit.head(2)"
   ]
  },
  {
   "cell_type": "code",
   "execution_count": null,
   "id": "a89f500e",
   "metadata": {},
   "outputs": [],
   "source": [
    "submit[\"actual_productivity\"] = y_predict\n",
    "submit.head(2) "
   ]
  },
  {
   "cell_type": "code",
   "execution_count": null,
   "id": "410b33f2",
   "metadata": {},
   "outputs": [],
   "source": [
    "save_name = \"submit.csv\"\n",
    "\n",
    "submit.to_csv(save_name)\n",
    "pd.read_csv(save_name).head(2)"
   ]
  },
  {
   "cell_type": "markdown",
   "id": "ff3d693c",
   "metadata": {},
   "source": [
    "**제출 결과** : 0.40315"
   ]
  }
 ],
 "metadata": {
  "kernelspec": {
   "display_name": "Python 3 (ipykernel)",
   "language": "python",
   "name": "python3"
  },
  "language_info": {
   "codemirror_mode": {
    "name": "ipython",
    "version": 3
   },
   "file_extension": ".py",
   "mimetype": "text/x-python",
   "name": "python",
   "nbconvert_exporter": "python",
   "pygments_lexer": "ipython3",
   "version": "3.9.12"
  },
  "toc": {
   "base_numbering": 1,
   "nav_menu": {},
   "number_sections": true,
   "sideBar": true,
   "skip_h1_title": false,
   "title_cell": "Table of Contents",
   "title_sidebar": "Contents",
   "toc_cell": false,
   "toc_position": {},
   "toc_section_display": true,
   "toc_window_display": false
  }
 },
 "nbformat": 4,
 "nbformat_minor": 5
}
